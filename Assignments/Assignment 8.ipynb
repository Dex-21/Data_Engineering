{
 "cells": [
  {
   "cell_type": "code",
   "execution_count": 1,
   "id": "a40dd04f",
   "metadata": {},
   "outputs": [
    {
     "data": {
      "text/html": [
       "\n",
       "        <div>\n",
       "            <p><b>SparkContext</b></p>\n",
       "\n",
       "            <p><a href=\"http://10.0.2.15:4040\">Spark UI</a></p>\n",
       "\n",
       "            <dl>\n",
       "              <dt>Version</dt>\n",
       "                <dd><code>v2.4.8</code></dd>\n",
       "              <dt>Master</dt>\n",
       "                <dd><code>local[2]</code></dd>\n",
       "              <dt>AppName</dt>\n",
       "                <dd><code>Assignment8</code></dd>\n",
       "            </dl>\n",
       "        </div>\n",
       "        "
      ],
      "text/plain": [
       "<SparkContext master=local[2] appName=Assignment8>"
      ]
     },
     "execution_count": 1,
     "metadata": {},
     "output_type": "execute_result"
    }
   ],
   "source": [
    "sc.stop()\n",
    "from pyspark import SparkConf, SparkContext\n",
    "#setMaster() = Set Spark Content Manager which is local[cpu cores]\n",
    "config = SparkConf().setMaster('local[2]').setAppName(\"Assignment8\")\n",
    "sc = SparkContext(conf = config)\n",
    "sc"
   ]
  },
  {
   "cell_type": "code",
   "execution_count": 2,
   "id": "4c24dfe8",
   "metadata": {},
   "outputs": [
    {
     "data": {
      "text/html": [
       "\n",
       "            <div>\n",
       "                <p><b>SparkSession - hive</b></p>\n",
       "                \n",
       "        <div>\n",
       "            <p><b>SparkContext</b></p>\n",
       "\n",
       "            <p><a href=\"http://10.0.2.15:4040\">Spark UI</a></p>\n",
       "\n",
       "            <dl>\n",
       "              <dt>Version</dt>\n",
       "                <dd><code>v2.4.8</code></dd>\n",
       "              <dt>Master</dt>\n",
       "                <dd><code>local[2]</code></dd>\n",
       "              <dt>AppName</dt>\n",
       "                <dd><code>Assignment8</code></dd>\n",
       "            </dl>\n",
       "        </div>\n",
       "        \n",
       "            </div>\n",
       "        "
      ],
      "text/plain": [
       "<pyspark.sql.session.SparkSession at 0x7f0ebd3aee80>"
      ]
     },
     "execution_count": 2,
     "metadata": {},
     "output_type": "execute_result"
    }
   ],
   "source": [
    "from pyspark.sql import SparkSession\n",
    "spark = SparkSession.builder.appName('PysparkSQLAssignment').getOrCreate()\n",
    "spark"
   ]
  },
  {
   "cell_type": "code",
   "execution_count": 3,
   "id": "f5383904",
   "metadata": {},
   "outputs": [],
   "source": [
    "telecom_df = spark.read.csv(\"file:///home/hadoop/Downloads/Telco_Customer_Churn.csv\",header =True)"
   ]
  },
  {
   "cell_type": "code",
   "execution_count": 4,
   "id": "96d41354",
   "metadata": {},
   "outputs": [
    {
     "name": "stdout",
     "output_type": "stream",
     "text": [
      "root\n",
      " |-- customerID: string (nullable = true)\n",
      " |-- gender: string (nullable = true)\n",
      " |-- SeniorCitizen: string (nullable = true)\n",
      " |-- Partner: string (nullable = true)\n",
      " |-- Dependents: string (nullable = true)\n",
      " |-- tenure: string (nullable = true)\n",
      " |-- PhoneService: string (nullable = true)\n",
      " |-- MultipleLines: string (nullable = true)\n",
      " |-- InternetService: string (nullable = true)\n",
      " |-- OnlineSecurity: string (nullable = true)\n",
      " |-- OnlineBackup: string (nullable = true)\n",
      " |-- DeviceProtection: string (nullable = true)\n",
      " |-- TechSupport: string (nullable = true)\n",
      " |-- StreamingTV: string (nullable = true)\n",
      " |-- StreamingMovies: string (nullable = true)\n",
      " |-- Contract: string (nullable = true)\n",
      " |-- PaperlessBilling: string (nullable = true)\n",
      " |-- PaymentMethod: string (nullable = true)\n",
      " |-- MonthlyCharges: string (nullable = true)\n",
      " |-- TotalCharges: string (nullable = true)\n",
      " |-- Churn: string (nullable = true)\n",
      "\n"
     ]
    }
   ],
   "source": [
    "telecom_df.printSchema()"
   ]
  },
  {
   "cell_type": "code",
   "execution_count": 6,
   "id": "69c89995",
   "metadata": {},
   "outputs": [],
   "source": [
    "telecom_df.createOrReplaceTempView('data')"
   ]
  },
  {
   "cell_type": "code",
   "execution_count": 7,
   "id": "1750529b",
   "metadata": {},
   "outputs": [
    {
     "name": "stdout",
     "output_type": "stream",
     "text": [
      "+----------+------+-------------+-------+----------+------+------------+----------------+---------------+--------------+------------+----------------+-----------+-----------+---------------+--------------+----------------+--------------------+--------------+------------+-----+\n",
      "|customerID|gender|SeniorCitizen|Partner|Dependents|tenure|PhoneService|   MultipleLines|InternetService|OnlineSecurity|OnlineBackup|DeviceProtection|TechSupport|StreamingTV|StreamingMovies|      Contract|PaperlessBilling|       PaymentMethod|MonthlyCharges|TotalCharges|Churn|\n",
      "+----------+------+-------------+-------+----------+------+------------+----------------+---------------+--------------+------------+----------------+-----------+-----------+---------------+--------------+----------------+--------------------+--------------+------------+-----+\n",
      "|7590-VHVEG|Female|            0|    Yes|        No|     1|          No|No phone service|            DSL|            No|         Yes|              No|         No|         No|             No|Month-to-month|             Yes|    Electronic check|         29.85|       29.85|   No|\n",
      "|5575-GNVDE|  Male|            0|     No|        No|    34|         Yes|              No|            DSL|           Yes|          No|             Yes|         No|         No|             No|      One year|              No|        Mailed check|         56.95|      1889.5|   No|\n",
      "|3668-QPYBK|  Male|            0|     No|        No|     2|         Yes|              No|            DSL|           Yes|         Yes|              No|         No|         No|             No|Month-to-month|             Yes|        Mailed check|         53.85|      108.15|  Yes|\n",
      "|7795-CFOCW|  Male|            0|     No|        No|    45|          No|No phone service|            DSL|           Yes|          No|             Yes|        Yes|         No|             No|      One year|              No|Bank transfer (au...|          42.3|     1840.75|   No|\n",
      "|9237-HQITU|Female|            0|     No|        No|     2|         Yes|              No|    Fiber optic|            No|          No|              No|         No|         No|             No|Month-to-month|             Yes|    Electronic check|          70.7|      151.65|  Yes|\n",
      "+----------+------+-------------+-------+----------+------+------------+----------------+---------------+--------------+------------+----------------+-----------+-----------+---------------+--------------+----------------+--------------------+--------------+------------+-----+\n",
      "only showing top 5 rows\n",
      "\n"
     ]
    }
   ],
   "source": [
    "spark.sql(\"select * from data\").show(5)"
   ]
  },
  {
   "cell_type": "code",
   "execution_count": 12,
   "id": "b8c345ff",
   "metadata": {},
   "outputs": [],
   "source": [
    "import matplotlib.pyplot as plt\n",
    "import seaborn as sns"
   ]
  },
  {
   "cell_type": "markdown",
   "id": "3863479a",
   "metadata": {},
   "source": [
    "### a) Analyze how customer retention varies based on how long the customer has stayed with the company (tenure)."
   ]
  },
  {
   "cell_type": "code",
   "execution_count": 140,
   "id": "ebc8b946",
   "metadata": {},
   "outputs": [
    {
     "data": {
      "image/png": "[encoded data removed]",
      "text/plain": [
       "<Figure size 1440x504 with 1 Axes>"
      ]
     },
     "metadata": {},
     "output_type": "display_data"
    }
   ],
   "source": [
    "churn_df = (spark.sql(\"\"\"select cast(tenure  as int) as tenure,\n",
    "                COUNT(customerID) as Customer_Count,\n",
    "                (avg(case when churn = \"No\" then 1 else 0 end))* 100 as Retention_percentage\n",
    "                from data where tenure != 0 group by tenure order by tenure, Retention_percentage desc\"\"\")).toPandas()\n",
    "\n",
    "plt.figure(figsize=(20, 7))\n",
    "sns.set(style=\"whitegrid\")\n",
    "sns.barplot(x='tenure', y='Retention_percentage', data=churn_df, palette='viridis')\n",
    "plt.title('Retention Percentage by Tenure')\n",
    "plt.xlabel('Tenure')\n",
    "plt.ylabel('Retention Rate (%)') \n",
    "plt.show()"
   ]
  },
  {
   "cell_type": "markdown",
   "id": "c0851b93",
   "metadata": {},
   "source": [
    "Insight : As month period increases we can see the increase in the Retention_percentage. This shows that Tenure Range and Retention percentage are positively correlated. Customers tend to leave in the first few months. The longer the customer the stays , higher the chance of retention."
   ]
  },
  {
   "cell_type": "markdown",
   "id": "78943258",
   "metadata": {},
   "source": [
    "### b) Investigate the churn rate of customers who subscribe to streaming services like StreamingTV and StreamingMovies."
   ]
  },
  {
   "cell_type": "code",
   "execution_count": 29,
   "id": "78d67a12",
   "metadata": {},
   "outputs": [
    {
     "name": "stdout",
     "output_type": "stream",
     "text": [
      "+-----------+---------------+---------------+------------------+\n",
      "|StreamingTV|StreamingMovies|total_customers|        churn_rate|\n",
      "+-----------+---------------+---------------+------------------+\n",
      "|        Yes|            Yes|           1940| 29.43298969072165|\n",
      "|         No|            Yes|            792|31.186868686868685|\n",
      "|        Yes|             No|            767|31.681877444589308|\n",
      "+-----------+---------------+---------------+------------------+\n",
      "\n"
     ]
    }
   ],
   "source": [
    "spark.sql(\"\"\"SELECT \n",
    "    StreamingTV,\n",
    "    StreamingMovies,\n",
    "    COUNT(customerID) AS total_customers,\n",
    "    (SUM(CASE WHEN Churn = 'Yes' THEN 1 ELSE 0 END) / COUNT(customerID)) * 100 AS churn_rate\n",
    "    FROM data\n",
    "    WHERE StreamingTV='Yes' OR StreamingMovies='Yes'\n",
    "    GROUP BY StreamingTV, StreamingMovies\n",
    "    ORDER BY churn_rate\n",
    "\"\"\").show()"
   ]
  },
  {
   "cell_type": "markdown",
   "id": "0306432c",
   "metadata": {},
   "source": [
    "### c) Write Spark SQL to group customers by their tenure (e.g., 0-12 months, 13-24 months, etc.) and analyze churn rates in these tenure groups."
   ]
  },
  {
   "cell_type": "code",
   "execution_count": 33,
   "id": "a50a09bb",
   "metadata": {},
   "outputs": [
    {
     "data": {
      "text/plain": [
       "<AxesSubplot:xlabel='Tenurerange', ylabel='ChurnRate'>"
      ]
     },
     "execution_count": 33,
     "metadata": {},
     "output_type": "execute_result"
    },
    {
     "data": {
      "image/png": "[encoded data removed]",
      "text/plain": [
       "<Figure size 864x648 with 1 Axes>"
      ]
     },
     "metadata": {
      "needs_background": "light"
     },
     "output_type": "display_data"
    }
   ],
   "source": [
    "churned_df = spark.sql(\"\"\" \n",
    "    SELECT CASE\n",
    "        WHEN tenure BETWEEN 0 AND 12 THEN '0-12'\n",
    "        WHEN tenure BETWEEN 13 AND 24 THEN '13-24'\n",
    "        WHEN tenure BETWEEN 25 AND 36 THEN '25-36'\n",
    "        WHEN tenure BETWEEN 37 AND 48 THEN '37-48'\n",
    "        WHEN tenure BETWEEN 49 AND 60 THEN '49-60'\n",
    "        ELSE '60+'\n",
    "    END AS Tenurerange,\n",
    "    AVG(CASE WHEN Churn = 'Yes' THEN 1 ELSE 0 END) * 100 ChurnRate\n",
    "    FROM data\n",
    "    GROUP BY Tenurerange\n",
    "    ORDER BY Tenurerange\n",
    "\"\"\").toPandas()\n",
    "\n",
    "plt.figure(figsize=(12,9))\n",
    "sns.lineplot(data=churned_df, x='Tenurerange',y='ChurnRate')"
   ]
  },
  {
   "cell_type": "markdown",
   "id": "ffc0fba9",
   "metadata": {},
   "source": [
    "Insight: As the tenure increases there is a constant decrease in the churn rate. Which indicates a negative corelation between them. The longer the customer the stays, lesser the chance of retention."
   ]
  },
  {
   "cell_type": "markdown",
   "id": "a32b7f36",
   "metadata": {},
   "source": [
    "### d) Analyze the impact of contract types and payment methods on churn rates."
   ]
  },
  {
   "cell_type": "code",
   "execution_count": 47,
   "id": "219eaa7b",
   "metadata": {},
   "outputs": [
    {
     "data": {
      "image/png": "[encoded data removed]",
      "text/plain": [
       "<Figure size 720x432 with 1 Axes>"
      ]
     },
     "metadata": {
      "needs_background": "light"
     },
     "output_type": "display_data"
    }
   ],
   "source": [
    "contract_df = spark.sql(\"\"\"SELECT \n",
    "    Contract,\n",
    "    PaymentMethod,\n",
    "    COUNT(customerID) AS total_customers,\n",
    "    SUM(CASE WHEN Churn = 'Yes' THEN 1 ELSE 0 END) AS churned_customers,\n",
    "    (SUM(CASE WHEN Churn = 'Yes' THEN 1 ELSE 0 END) / COUNT(customerID)) * 100 AS churn_rate\n",
    "    FROM data\n",
    "    GROUP BY Contract, PaymentMethod\n",
    "    ORDER BY churn_rate desc\n",
    "\"\"\").toPandas()\n",
    "\n",
    "plt.figure(figsize=(10, 6))\n",
    "sns.barplot(y=contract_df['Contract'], x=contract_df['churn_rate'],hue=contract_df['PaymentMethod'],\n",
    "            palette='Set1')\n",
    "plt.title('Churn Rate by Contract and Payment Method')\n",
    "plt.show()"
   ]
  },
  {
   "cell_type": "markdown",
   "id": "fad24e77",
   "metadata": {},
   "source": [
    "Insight : Month to Month Contract with electronic check payment has the maximum churn rate and Two year contract with Mailed check payment has least churn rate."
   ]
  },
  {
   "cell_type": "markdown",
   "id": "a55b352f",
   "metadata": {},
   "source": [
    "### e) Explore the distribution of monthly charges for customers based on their type of internet service."
   ]
  },
  {
   "cell_type": "code",
   "execution_count": 64,
   "id": "5f223fe4",
   "metadata": {},
   "outputs": [
    {
     "data": {
      "image/png": "[encoded data removed]",
      "text/plain": [
       "<Figure size 864x432 with 1 Axes>"
      ]
     },
     "metadata": {
      "needs_background": "light"
     },
     "output_type": "display_data"
    }
   ],
   "source": [
    "internet_df = spark.sql(\"\"\"\n",
    "    SELECT InternetService,\n",
    "    COUNT(customerID) AS total_customers,\n",
    "    AVG(MonthlyCharges) AS average_monthly_charge\n",
    "    FROM data\n",
    "    GROUP BY InternetService\n",
    "    ORDER BY average_monthly_charge\n",
    "\"\"\").toPandas()\n",
    "\n",
    "plt.figure(figsize=(12, 6))\n",
    "sns.barplot( x='InternetService', y='average_monthly_charge',  data=internet_df)\n",
    "plt.title('Distribution of Average Monthly Charges by Internet Service Type')\n",
    "plt.xlabel('Internet Service Type')\n",
    "plt.ylabel('Average Monthly Charges')\n",
    "plt.tight_layout()\n",
    "plt.show()"
   ]
  },
  {
   "cell_type": "markdown",
   "id": "226509fc",
   "metadata": {},
   "source": [
    "Insight : Monthly charges are higher for Fibre Optic."
   ]
  },
  {
   "cell_type": "markdown",
   "id": "5f2bea18",
   "metadata": {},
   "source": [
    "### f) Identify the top 10 customers who have contributed the most revenue to the company, based on total charges"
   ]
  },
  {
   "cell_type": "code",
   "execution_count": 66,
   "id": "3b575915",
   "metadata": {},
   "outputs": [
    {
     "data": {
      "text/html": [
       "<div>\n",
       "<style scoped>\n",
       "    .dataframe tbody tr th:only-of-type {\n",
       "        vertical-align: middle;\n",
       "    }\n",
       "\n",
       "    .dataframe tbody tr th {\n",
       "        vertical-align: top;\n",
       "    }\n",
       "\n",
       "    .dataframe thead th {\n",
       "        text-align: right;\n",
       "    }\n",
       "</style>\n",
       "<table border=\"1\" class=\"dataframe\">\n",
       "  <thead>\n",
       "    <tr style=\"text-align: right;\">\n",
       "      <th></th>\n",
       "      <th>customerID</th>\n",
       "      <th>TotalCharges</th>\n",
       "    </tr>\n",
       "  </thead>\n",
       "  <tbody>\n",
       "    <tr>\n",
       "      <th>0</th>\n",
       "      <td>9093-FPDLG</td>\n",
       "      <td>999.9</td>\n",
       "    </tr>\n",
       "    <tr>\n",
       "      <th>1</th>\n",
       "      <td>4536-PLEQY</td>\n",
       "      <td>999.8</td>\n",
       "    </tr>\n",
       "    <tr>\n",
       "      <th>2</th>\n",
       "      <td>5899-MQZZL</td>\n",
       "      <td>999.45</td>\n",
       "    </tr>\n",
       "    <tr>\n",
       "      <th>3</th>\n",
       "      <td>6051-PTVNS</td>\n",
       "      <td>998.1</td>\n",
       "    </tr>\n",
       "    <tr>\n",
       "      <th>4</th>\n",
       "      <td>8249-THVEC</td>\n",
       "      <td>997.75</td>\n",
       "    </tr>\n",
       "    <tr>\n",
       "      <th>5</th>\n",
       "      <td>6328-ZPBGN</td>\n",
       "      <td>997.65</td>\n",
       "    </tr>\n",
       "    <tr>\n",
       "      <th>6</th>\n",
       "      <td>7297-DVYGA</td>\n",
       "      <td>996.95</td>\n",
       "    </tr>\n",
       "    <tr>\n",
       "      <th>7</th>\n",
       "      <td>6243-OZGFH</td>\n",
       "      <td>996.85</td>\n",
       "    </tr>\n",
       "    <tr>\n",
       "      <th>8</th>\n",
       "      <td>0484-JPBRU</td>\n",
       "      <td>996.45</td>\n",
       "    </tr>\n",
       "    <tr>\n",
       "      <th>9</th>\n",
       "      <td>2971-SGAFL</td>\n",
       "      <td>995.35</td>\n",
       "    </tr>\n",
       "  </tbody>\n",
       "</table>\n",
       "</div>"
      ],
      "text/plain": [
       "   customerID TotalCharges\n",
       "0  9093-FPDLG        999.9\n",
       "1  4536-PLEQY        999.8\n",
       "2  5899-MQZZL       999.45\n",
       "3  6051-PTVNS        998.1\n",
       "4  8249-THVEC       997.75\n",
       "5  6328-ZPBGN       997.65\n",
       "6  7297-DVYGA       996.95\n",
       "7  6243-OZGFH       996.85\n",
       "8  0484-JPBRU       996.45\n",
       "9  2971-SGAFL       995.35"
      ]
     },
     "execution_count": 66,
     "metadata": {},
     "output_type": "execute_result"
    }
   ],
   "source": [
    "spark.sql(\"\"\"\n",
    "    SELECT customerID,TotalCharges\n",
    "    FROM data\n",
    "    ORDER BY TotalCharges DESC\n",
    "    LIMIT 10\n",
    "\"\"\").toPandas()"
   ]
  },
  {
   "cell_type": "markdown",
   "id": "5f2f0689",
   "metadata": {},
   "source": [
    "### g) Calculate the churn rate segmented by gender and whether the customer is a senior citizen."
   ]
  },
  {
   "cell_type": "code",
   "execution_count": 67,
   "id": "c1277603",
   "metadata": {},
   "outputs": [
    {
     "data": {
      "text/html": [
       "<div>\n",
       "<style scoped>\n",
       "    .dataframe tbody tr th:only-of-type {\n",
       "        vertical-align: middle;\n",
       "    }\n",
       "\n",
       "    .dataframe tbody tr th {\n",
       "        vertical-align: top;\n",
       "    }\n",
       "\n",
       "    .dataframe thead th {\n",
       "        text-align: right;\n",
       "    }\n",
       "</style>\n",
       "<table border=\"1\" class=\"dataframe\">\n",
       "  <thead>\n",
       "    <tr style=\"text-align: right;\">\n",
       "      <th></th>\n",
       "      <th>gender</th>\n",
       "      <th>SeniorCitizen</th>\n",
       "      <th>Churn_rate</th>\n",
       "    </tr>\n",
       "  </thead>\n",
       "  <tbody>\n",
       "    <tr>\n",
       "      <th>0</th>\n",
       "      <td>Female</td>\n",
       "      <td>No</td>\n",
       "      <td>23.938356</td>\n",
       "    </tr>\n",
       "    <tr>\n",
       "      <th>1</th>\n",
       "      <td>Female</td>\n",
       "      <td>Yes</td>\n",
       "      <td>42.253521</td>\n",
       "    </tr>\n",
       "    <tr>\n",
       "      <th>2</th>\n",
       "      <td>Male</td>\n",
       "      <td>Yes</td>\n",
       "      <td>41.114983</td>\n",
       "    </tr>\n",
       "    <tr>\n",
       "      <th>3</th>\n",
       "      <td>Male</td>\n",
       "      <td>No</td>\n",
       "      <td>23.280778</td>\n",
       "    </tr>\n",
       "  </tbody>\n",
       "</table>\n",
       "</div>"
      ],
      "text/plain": [
       "   gender SeniorCitizen  Churn_rate\n",
       "0  Female            No   23.938356\n",
       "1  Female           Yes   42.253521\n",
       "2    Male           Yes   41.114983\n",
       "3    Male            No   23.280778"
      ]
     },
     "execution_count": 67,
     "metadata": {},
     "output_type": "execute_result"
    }
   ],
   "source": [
    "spark.sql(\"\"\"\n",
    "    SELECT gender, \n",
    "    CASE WHEN SeniorCitizen = 1 THEN 'Yes' ELSE 'No' END AS SeniorCitizen,\n",
    "    AVG(CASE WHEN Churn = 'Yes' THEN 1 ELSE 0 END) * 100 AS Churn_rate\n",
    "    FROM data\n",
    "    GROUP BY gender, SeniorCitizen\n",
    "    ORDER BY gender\n",
    "\"\"\").toPandas()"
   ]
  },
  {
   "cell_type": "markdown",
   "id": "be42a8c5",
   "metadata": {},
   "source": [
    "### h) Write query to calculate Correlation between dependents and churn. Explore whether having dependents affects customer churn rates."
   ]
  },
  {
   "cell_type": "code",
   "execution_count": 69,
   "id": "367a6fea",
   "metadata": {},
   "outputs": [
    {
     "data": {
      "image/png": "[encoded data removed]",
      "text/plain": [
       "<Figure size 576x432 with 1 Axes>"
      ]
     },
     "metadata": {
      "needs_background": "light"
     },
     "output_type": "display_data"
    }
   ],
   "source": [
    "dependent_df = spark.sql(\"\"\"\n",
    "    SELECT \n",
    "    Dependents,\n",
    "    AVG(CASE WHEN Churn = 'Yes' THEN 1 ELSE 0 END)*100 AS ChurnRate\n",
    "    FROM data\n",
    "    GROUP BY Dependents\n",
    "\"\"\").toPandas()\n",
    "\n",
    "plt.figure(figsize=(8, 6))\n",
    "sns.barplot(data=dependent_df, x='Dependents', y='ChurnRate', palette='Set1')\n",
    "plt.title('Churn Rate by Number of Dependents')\n",
    "plt.show()"
   ]
  },
  {
   "cell_type": "markdown",
   "id": "8cba6393",
   "metadata": {},
   "source": [
    "Insight : This shows having Dependents reduces the Churn Rate by half when compared to the Customers without Dependents."
   ]
  },
  {
   "cell_type": "markdown",
   "id": "4b32d7a8",
   "metadata": {},
   "source": [
    "### i) Predict potential churn rates by analyzing the relationship between monthly charges, contract types, and the churn rate."
   ]
  },
  {
   "cell_type": "code",
   "execution_count": 145,
   "id": "5a3f5d3f",
   "metadata": {},
   "outputs": [
    {
     "data": {
      "image/png": "[encoded data removed]",
      "text/plain": [
       "<Figure size 288x432 with 1 Axes>"
      ]
     },
     "metadata": {},
     "output_type": "display_data"
    }
   ],
   "source": [
    "rel_df = spark.sql(\"\"\"\n",
    "    SELECT Contract, Churn, avg(MonthlyCharges) as Avg_monthlyCharges   \n",
    "    FROM data group by Contract,churn order by Contract,Avg_monthlyCharges\n",
    "\"\"\").toPandas()    \n",
    "\n",
    "plt.figure(figsize=(4,6))\n",
    "sns.barplot(data=rel_df, x='Contract',y='Avg_monthlyCharges',hue='Churn',palette='Set1')\n",
    "plt.title('Relation of Churn between Monthly charges and Contract types')\n",
    "plt.show()"
   ]
  },
  {
   "cell_type": "markdown",
   "id": "bc1af3c0",
   "metadata": {},
   "source": [
    "Insight : Customer who have higher monthly charges tend to leave from the company."
   ]
  },
  {
   "cell_type": "markdown",
   "id": "a0986013",
   "metadata": {},
   "source": [
    "### j) Determine the churn rate for customers who have multiple services (Phone, Internet, and Streaming), which can help understand whether bundling services leads to higher or lower churn. Calculate churn rate for customers with multiple services."
   ]
  },
  {
   "cell_type": "code",
   "execution_count": 82,
   "id": "0a6590f5",
   "metadata": {},
   "outputs": [
    {
     "data": {
      "text/html": [
       "<div>\n",
       "<style scoped>\n",
       "    .dataframe tbody tr th:only-of-type {\n",
       "        vertical-align: middle;\n",
       "    }\n",
       "\n",
       "    .dataframe tbody tr th {\n",
       "        vertical-align: top;\n",
       "    }\n",
       "\n",
       "    .dataframe thead th {\n",
       "        text-align: right;\n",
       "    }\n",
       "</style>\n",
       "<table border=\"1\" class=\"dataframe\">\n",
       "  <thead>\n",
       "    <tr style=\"text-align: right;\">\n",
       "      <th></th>\n",
       "      <th>service</th>\n",
       "      <th>total_customers</th>\n",
       "      <th>churn_rate</th>\n",
       "    </tr>\n",
       "  </thead>\n",
       "  <tbody>\n",
       "    <tr>\n",
       "      <th>0</th>\n",
       "      <td>Multiple Services</td>\n",
       "      <td>3116</td>\n",
       "      <td>31.065469</td>\n",
       "    </tr>\n",
       "    <tr>\n",
       "      <th>1</th>\n",
       "      <td>Single or No Service</td>\n",
       "      <td>3927</td>\n",
       "      <td>22.943723</td>\n",
       "    </tr>\n",
       "  </tbody>\n",
       "</table>\n",
       "</div>"
      ],
      "text/plain": [
       "                service  total_customers  churn_rate\n",
       "0     Multiple Services             3116   31.065469\n",
       "1  Single or No Service             3927   22.943723"
      ]
     },
     "execution_count": 82,
     "metadata": {},
     "output_type": "execute_result"
    }
   ],
   "source": [
    "spark.sql(\"\"\"\n",
    "    SELECT \n",
    "    CASE \n",
    "    WHEN PhoneService = 'Yes' AND InternetService != 'No' AND \n",
    "    (StreamingTV = 'Yes' OR StreamingMovies = 'Yes') THEN 'Multiple Services'\n",
    "    ELSE 'Single or No Service'\n",
    "    END AS service,\n",
    "    COUNT(customerID) AS total_customers,\n",
    "    AVG(CASE WHEN Churn = 'Yes' THEN 1 ELSE 0 END) * 100 AS churn_rate\n",
    "    FROM data\n",
    "    GROUP BY service\n",
    "    ORDER BY churn_rate desc\n",
    "\"\"\").toPandas()"
   ]
  },
  {
   "cell_type": "markdown",
   "id": "b7660af3",
   "metadata": {},
   "source": [
    "Insight : Customers with Multiple services has high churn rate."
   ]
  },
  {
   "cell_type": "markdown",
   "id": "428692dd",
   "metadata": {},
   "source": [
    "### k) Churn Impact by device protection and online backup services. Write query to investigate whether having device protection or online backup services affects churn rates.\n"
   ]
  },
  {
   "cell_type": "code",
   "execution_count": 83,
   "id": "721756f1",
   "metadata": {},
   "outputs": [
    {
     "data": {
      "text/html": [
       "<div>\n",
       "<style scoped>\n",
       "    .dataframe tbody tr th:only-of-type {\n",
       "        vertical-align: middle;\n",
       "    }\n",
       "\n",
       "    .dataframe tbody tr th {\n",
       "        vertical-align: top;\n",
       "    }\n",
       "\n",
       "    .dataframe thead th {\n",
       "        text-align: right;\n",
       "    }\n",
       "</style>\n",
       "<table border=\"1\" class=\"dataframe\">\n",
       "  <thead>\n",
       "    <tr style=\"text-align: right;\">\n",
       "      <th></th>\n",
       "      <th>ChurnRate</th>\n",
       "    </tr>\n",
       "  </thead>\n",
       "  <tbody>\n",
       "    <tr>\n",
       "      <th>0</th>\n",
       "      <td>23.9174</td>\n",
       "    </tr>\n",
       "  </tbody>\n",
       "</table>\n",
       "</div>"
      ],
      "text/plain": [
       "   ChurnRate\n",
       "0    23.9174"
      ]
     },
     "execution_count": 83,
     "metadata": {},
     "output_type": "execute_result"
    }
   ],
   "source": [
    "spark.sql(\"\"\"\n",
    "    SELECT ROUND(AVG(CASE WHEN Churn = 'Yes' THEN 1 ELSE 0 END) * 100,4) ChurnRate\n",
    "    FROM data\n",
    "    WHERE OnlineBackup = 'Yes' OR DeviceProtection = 'Yes'\n",
    "\"\"\").toPandas()"
   ]
  },
  {
   "cell_type": "markdown",
   "id": "36fe2ee8",
   "metadata": {},
   "source": [
    "Insight : Customers with backup services or device protection has less churn rates"
   ]
  },
  {
   "cell_type": "markdown",
   "id": "7474c783",
   "metadata": {},
   "source": [
    "### l) Explore churn rates among customers who do not have phone service and investigate if it influences customer retention."
   ]
  },
  {
   "cell_type": "code",
   "execution_count": 85,
   "id": "b5dc769b",
   "metadata": {},
   "outputs": [
    {
     "data": {
      "text/html": [
       "<div>\n",
       "<style scoped>\n",
       "    .dataframe tbody tr th:only-of-type {\n",
       "        vertical-align: middle;\n",
       "    }\n",
       "\n",
       "    .dataframe tbody tr th {\n",
       "        vertical-align: top;\n",
       "    }\n",
       "\n",
       "    .dataframe thead th {\n",
       "        text-align: right;\n",
       "    }\n",
       "</style>\n",
       "<table border=\"1\" class=\"dataframe\">\n",
       "  <thead>\n",
       "    <tr style=\"text-align: right;\">\n",
       "      <th></th>\n",
       "      <th>PhoneService</th>\n",
       "      <th>ChurnRate</th>\n",
       "    </tr>\n",
       "  </thead>\n",
       "  <tbody>\n",
       "    <tr>\n",
       "      <th>0</th>\n",
       "      <td>No</td>\n",
       "      <td>24.926686</td>\n",
       "    </tr>\n",
       "    <tr>\n",
       "      <th>1</th>\n",
       "      <td>Yes</td>\n",
       "      <td>26.709637</td>\n",
       "    </tr>\n",
       "  </tbody>\n",
       "</table>\n",
       "</div>"
      ],
      "text/plain": [
       "  PhoneService  ChurnRate\n",
       "0           No  24.926686\n",
       "1          Yes  26.709637"
      ]
     },
     "execution_count": 85,
     "metadata": {},
     "output_type": "execute_result"
    }
   ],
   "source": [
    "spark.sql(\"\"\"\n",
    "    SELECT PhoneService,\n",
    "    AVG(CASE WHEN Churn = 'Yes' THEN 1 ELSE 0 END) * 100 ChurnRate\n",
    "    FROM data\n",
    "    GROUP BY PhoneService\n",
    "\"\"\").toPandas()"
   ]
  },
  {
   "cell_type": "markdown",
   "id": "ebabbab5",
   "metadata": {},
   "source": [
    "Insight : The customers who have Phone Service have slightly high ChurnRate than customers who has No Phone Service."
   ]
  },
  {
   "cell_type": "markdown",
   "id": "16fad2b0",
   "metadata": {},
   "source": [
    "### m) Understand the relationship between payment methods and contract types on customer churn. This query will help you discover which combinations are most prone to churn.\n"
   ]
  },
  {
   "cell_type": "code",
   "execution_count": 86,
   "id": "0a53457f",
   "metadata": {},
   "outputs": [
    {
     "data": {
      "text/plain": [
       "Text(0.5, 1.0, 'Churn Rate by Contract and Payment Method')"
      ]
     },
     "execution_count": 86,
     "metadata": {},
     "output_type": "execute_result"
    },
    {
     "data": {
      "image/png": "[encoded data removed]",
      "text/plain": [
       "<Figure size 864x504 with 1 Axes>"
      ]
     },
     "metadata": {
      "needs_background": "light"
     },
     "output_type": "display_data"
    }
   ],
   "source": [
    "contracts = spark.sql( \"\"\"\n",
    "    SELECT Contract,PaymentMethod,\n",
    "    AVG(CASE WHEN Churn = 'Yes' THEN 1 ELSE 0 END) * 100 as Churn_rate\n",
    "    FROM data\n",
    "    GROUP BY Contract,PaymentMethod\n",
    "    ORDER BY Churn_rate desc\n",
    "\"\"\").toPandas()\n",
    "\n",
    "plt.figure(figsize=(12, 7))\n",
    "sns.barplot(y=contracts['Contract'], x=contracts['Churn_rate'],hue=contracts['PaymentMethod'], palette='Set2')\n",
    "plt.title('Churn Rate by Contract and Payment Method')"
   ]
  },
  {
   "cell_type": "markdown",
   "id": "41e63353",
   "metadata": {},
   "source": [
    "Insight : Month-to-Month Contract type with Electronic check payment method is having high churn rate."
   ]
  },
  {
   "cell_type": "markdown",
   "id": "4b68e794",
   "metadata": {},
   "source": [
    "### n)Analyze how customer churn is affected by senior citizen status and whether the customer has dependents.\n"
   ]
  },
  {
   "cell_type": "code",
   "execution_count": 88,
   "id": "24ed1d44",
   "metadata": {},
   "outputs": [
    {
     "data": {
      "text/plain": [
       "Text(0.5, 1.0, 'Churn Rate by Contract and Payment Method')"
      ]
     },
     "execution_count": 88,
     "metadata": {},
     "output_type": "execute_result"
    },
    {
     "data": {
      "image/png": "[encoded data removed]",
      "text/plain": [
       "<Figure size 864x504 with 1 Axes>"
      ]
     },
     "metadata": {
      "needs_background": "light"
     },
     "output_type": "display_data"
    }
   ],
   "source": [
    "senior_df = spark.sql(\"\"\"\n",
    "    SELECT CASE WHEN SeniorCitizen=0 THEN 'No' ELSE 'Yes' END as SeniorCitizen,\n",
    "    Dependents,\n",
    "    AVG(CASE WHEN Churn = 'Yes' THEN 1 ELSE 0 END) * 100 ChurnRate\n",
    "    FROM data\n",
    "    GROUP BY SeniorCitizen,Dependents\n",
    "\"\"\").toPandas()\n",
    "plt.figure(figsize=(12, 7))\n",
    "sns.barplot(data=senior_df,x='SeniorCitizen',y='ChurnRate',hue='Dependents', palette='Set1')\n",
    "plt.title('Churn Rate by Contract and Payment Method')"
   ]
  },
  {
   "cell_type": "markdown",
   "id": "b6f562f8",
   "metadata": {},
   "source": [
    "Insight : Customers who are Senior Citizens and having No Dependents has greater Churn Rate than the other customers."
   ]
  },
  {
   "cell_type": "markdown",
   "id": "67097445",
   "metadata": {},
   "source": [
    "### o) Explore whether subscribing to streaming services like Streaming TV and Streaming Movies influences the churn rate.\n"
   ]
  },
  {
   "cell_type": "code",
   "execution_count": 89,
   "id": "aa38621e",
   "metadata": {},
   "outputs": [
    {
     "data": {
      "text/plain": [
       "<AxesSubplot:xlabel='StreamingTV', ylabel='ChurnRate'>"
      ]
     },
     "execution_count": 89,
     "metadata": {},
     "output_type": "execute_result"
    },
    {
     "data": {
      "image/png": "[encoded data removed]",
      "text/plain": [
       "<Figure size 864x504 with 1 Axes>"
      ]
     },
     "metadata": {
      "needs_background": "light"
     },
     "output_type": "display_data"
    }
   ],
   "source": [
    "stream_df = spark.sql(\"\"\"\n",
    "        SELECT StreamingTV, StreamingMovies,\n",
    "        AVG(CASE WHEN Churn = 'Yes' THEN 1 ELSE 0 END) * 100 AS ChurnRate,\n",
    "        COUNT(*) AS CustomerCount FROM data\n",
    "        GROUP BY StreamingTV, StreamingMovies\n",
    "\"\"\").toPandas()\n",
    "\n",
    "plt.figure(figsize=(12,7))\n",
    "sns.barplot(data=stream_df, x='StreamingTV',hue='StreamingMovies',y='ChurnRate')"
   ]
  },
  {
   "cell_type": "markdown",
   "id": "f2d68846",
   "metadata": {},
   "source": [
    "Insight -When customers are subscribed to either tv or movie streaming,there is a small decrease in churn rate."
   ]
  },
  {
   "cell_type": "markdown",
   "id": "d602d8e7",
   "metadata": {},
   "source": [
    "### p) Understand how tenure and MonthlyCharges differ between churned and non-churned customers. This can provide insights into the behavior of long-term customers."
   ]
  },
  {
   "cell_type": "code",
   "execution_count": 92,
   "id": "831a1fb5",
   "metadata": {},
   "outputs": [
    {
     "data": {
      "image/png": "[encoded data removed]",
      "text/plain": [
       "<Figure size 864x432 with 2 Axes>"
      ]
     },
     "metadata": {
      "needs_background": "light"
     },
     "output_type": "display_data"
    }
   ],
   "source": [
    "comp_df = spark.sql(\"\"\"\n",
    "    SELECT Churn,\n",
    "    AVG(tenure) as AvgTenure,\n",
    "    AVG(MonthlyCharges) as AvgMonthlyCharges\n",
    "    FROM data\n",
    "    GROUP BY Churn\n",
    "\"\"\").toPandas()\n",
    "\n",
    "fig, axes = plt.subplots(1, 2, figsize=(12, 6))\n",
    "sns.barplot(data = comp_df, x='Churn', y='AvgTenure', color='blue', ax=axes[0])\n",
    "axes[0].set_title('Average Tenure by Churn Status')\n",
    "axes[0].set_xlabel('Churn Status')\n",
    "axes[0].set_ylabel('Average Tenure')\n",
    "\n",
    "sns.barplot(data=comp_df, x='Churn', y='AvgMonthlyCharges', color='orangered', ax=axes[1])\n",
    "axes[1].set_title('Average Monthly Charges by Churn Status')\n",
    "axes[1].set_xlabel('Churn Status')\n",
    "axes[1].set_ylabel('Average Monthly Charges')\n",
    "plt.show()"
   ]
  },
  {
   "cell_type": "markdown",
   "id": "0ae73e68",
   "metadata": {},
   "source": [
    "Insight : Longer tenure is associated with lower churn rates, and higher monthly charges could be a factor making customers to leave. "
   ]
  },
  {
   "cell_type": "markdown",
   "id": "7dadb7a5",
   "metadata": {},
   "source": [
    "### q) Compare monthly charges and churn rates between newer customers and long-time customers.\n"
   ]
  },
  {
   "cell_type": "code",
   "execution_count": 98,
   "id": "922cbcce",
   "metadata": {},
   "outputs": [
    {
     "data": {
      "text/plain": [
       "<AxesSubplot:>"
      ]
     },
     "execution_count": 98,
     "metadata": {},
     "output_type": "execute_result"
    },
    {
     "data": {
      "image/png": "[encoded data removed]",
      "text/plain": [
       "<Figure size 864x576 with 1 Axes>"
      ]
     },
     "metadata": {
      "needs_background": "light"
     },
     "output_type": "display_data"
    }
   ],
   "source": [
    "month_df = spark.sql(\"\"\"\n",
    "    SELECT\n",
    "    AVG(CASE WHEN Churn = 'Yes' AND tenure < 15 THEN 1 ELSE 0 END) * 100 NewerChurn,\n",
    "    AVG(CASE WHEN tenure < 15 THEN MonthlyCharges ELSE 0 END) NewerCharge,\n",
    "    AVG(CASE WHEN Churn = 'Yes' AND tenure > 24 THEN 1 ELSE 0 END) * 100 olderChurn,\n",
    "    AVG(CASE WHEN tenure > 24 THEN MonthlyCharges ELSE 0 END) olderCharges\n",
    "    FROM data\n",
    "\"\"\").toPandas()\n",
    "\n",
    "plt.figure(figsize=(12,8))\n",
    "sns.barplot( x=['New Monthly Charges','Old Monthly Charges','New ChurnRate','Old ChurnRate'],\n",
    "            y=[month_df['NewerCharge'].values[0],month_df['olderCharges'].values[0],\n",
    "               month_df['NewerChurn'].values[0],month_df['olderChurn'].values[0]], palette='Set1')\n"
   ]
  },
  {
   "cell_type": "markdown",
   "id": "58571c24",
   "metadata": {},
   "source": [
    "Insight: Churn rate is more for the newer customers and it is less for the older cusomers."
   ]
  },
  {
   "cell_type": "markdown",
   "id": "44acdd18",
   "metadata": {},
   "source": [
    "### r)What is the correlation between senior citizen status and churn rate?\n"
   ]
  },
  {
   "cell_type": "code",
   "execution_count": 99,
   "id": "e429709b",
   "metadata": {},
   "outputs": [
    {
     "data": {
      "text/plain": [
       "Text(0.5, 1.0, 'Churn Rate of Senior Citizens')"
      ]
     },
     "execution_count": 99,
     "metadata": {},
     "output_type": "execute_result"
    },
    {
     "data": {
      "image/png": "[encoded data removed]",
      "text/plain": [
       "<Figure size 576x432 with 1 Axes>"
      ]
     },
     "metadata": {
      "needs_background": "light"
     },
     "output_type": "display_data"
    }
   ],
   "source": [
    "dependents_df = spark.sql(\"\"\"\n",
    "    SELECT \n",
    "    CASE WHEN SeniorCitizen = 1 THEN 'Yes' ELSE 'No' END AS SeniorCitizen,\n",
    "    AVG(CASE WHEN Churn = 'Yes' THEN 1 ELSE 0 END)*100 AS ChurnRate\n",
    "    FROM data\n",
    "    GROUP BY SeniorCitizen\n",
    "\"\"\").toPandas()\n",
    "\n",
    "plt.figure(figsize=(8, 6))\n",
    "sns.barplot(data=dependents_df, x='SeniorCitizen', y='ChurnRate', palette='Set1')\n",
    "plt.title('Churn Rate of Senior Citizens')"
   ]
  },
  {
   "cell_type": "markdown",
   "id": "4654e853",
   "metadata": {},
   "source": [
    "Insight : There is an increase in Churn Rate if the customers belong to Senior Citizen Category."
   ]
  },
  {
   "cell_type": "markdown",
   "id": "f6479630",
   "metadata": {},
   "source": [
    "### s) Partition customers based on whether they are senior citizens and divide them into 5 groups based on tenure. [Use NTILE.]"
   ]
  },
  {
   "cell_type": "code",
   "execution_count": 103,
   "id": "f83f29db",
   "metadata": {},
   "outputs": [
    {
     "name": "stdout",
     "output_type": "stream",
     "text": [
      "+----------+-------------+------+------------+\n",
      "|CustomerID|SeniorCitizen|tenure|tenure_ntile|\n",
      "+----------+-------------+------+------------+\n",
      "|2232-DMLXU|           No|     1|           1|\n",
      "|7310-EGVHZ|           No|     1|           1|\n",
      "|6469-MRVET|           No|     1|           1|\n",
      "|3213-VVOLG|           No|     0|           1|\n",
      "|8665-UTDHZ|           No|     1|           1|\n",
      "|2135-RXIHG|           No|     1|           1|\n",
      "|4195-NZGTA|           No|     1|           1|\n",
      "|5709-LVOEQ|           No|     0|           1|\n",
      "|7644-OMVMY|           No|     0|           1|\n",
      "|4075-WKNIU|           No|     0|           1|\n",
      "|1066-JKSGK|           No|     1|           1|\n",
      "|6380-ARCEH|           No|     1|           1|\n",
      "|3091-FYHKI|           No|     1|           1|\n",
      "|1024-GUALD|           No|     1|           1|\n",
      "|1285-OKIPP|           No|     1|           1|\n",
      "|4472-LVYGI|           No|     0|           1|\n",
      "|3115-CZMZD|           No|     0|           1|\n",
      "|4367-NUYAO|           No|     0|           1|\n",
      "|1371-DWPAZ|           No|     0|           1|\n",
      "|2520-SGTTA|           No|     0|           1|\n",
      "|2923-ARZLG|           No|     0|           1|\n",
      "|2775-SEFEE|           No|     0|           1|\n",
      "|7590-VHVEG|           No|     1|           1|\n",
      "|2273-QCKXA|           No|     1|           1|\n",
      "|5919-TMRGD|           No|     1|           1|\n",
      "|3679-XASPY|           No|     1|           1|\n",
      "|3930-ZGWVE|           No|     1|           1|\n",
      "|6317-YPKDH|           No|     1|           1|\n",
      "|6582-OIVSP|           No|     1|           1|\n",
      "|3645-DEYGF|           No|     1|           1|\n",
      "+----------+-------------+------+------------+\n",
      "only showing top 30 rows\n",
      "\n"
     ]
    }
   ],
   "source": [
    "spark.sql(\"\"\"\n",
    "    SELECT \n",
    "        CustomerID,\n",
    "        CASE WHEN SeniorCitizen = 1 THEN 'Yes' ELSE 'No' END AS SeniorCitizen,\n",
    "        tenure,\n",
    "        NTILE(5) OVER (PARTITION BY CASE WHEN SeniorCitizen = 1 THEN 'Yes' ELSE 'No' END ORDER BY tenure) AS tenure_ntile\n",
    "        FROM data\n",
    "    ORDER BY SeniorCitizen , tenure_ntile\n",
    "\"\"\").show(30)"
   ]
  },
  {
   "cell_type": "markdown",
   "id": "44348c0c",
   "metadata": {},
   "source": [
    "### t) Use PERCENT_RANK to identify the top 5% of customers by MonthlyCharges."
   ]
  },
  {
   "cell_type": "code",
   "execution_count": 106,
   "id": "9ae2b908",
   "metadata": {},
   "outputs": [
    {
     "data": {
      "text/html": [
       "<div>\n",
       "<style scoped>\n",
       "    .dataframe tbody tr th:only-of-type {\n",
       "        vertical-align: middle;\n",
       "    }\n",
       "\n",
       "    .dataframe tbody tr th {\n",
       "        vertical-align: top;\n",
       "    }\n",
       "\n",
       "    .dataframe thead th {\n",
       "        text-align: right;\n",
       "    }\n",
       "</style>\n",
       "<table border=\"1\" class=\"dataframe\">\n",
       "  <thead>\n",
       "    <tr style=\"text-align: right;\">\n",
       "      <th></th>\n",
       "      <th>CustomerID</th>\n",
       "      <th>MonthlyCharges</th>\n",
       "      <th>MonthlyRank</th>\n",
       "    </tr>\n",
       "  </thead>\n",
       "  <tbody>\n",
       "    <tr>\n",
       "      <th>0</th>\n",
       "      <td>0727-BMPLR</td>\n",
       "      <td>100</td>\n",
       "      <td>0.000000</td>\n",
       "    </tr>\n",
       "    <tr>\n",
       "      <th>1</th>\n",
       "      <td>3473-XIIIT</td>\n",
       "      <td>100</td>\n",
       "      <td>0.000000</td>\n",
       "    </tr>\n",
       "    <tr>\n",
       "      <th>2</th>\n",
       "      <td>6849-OYAMU</td>\n",
       "      <td>100</td>\n",
       "      <td>0.000000</td>\n",
       "    </tr>\n",
       "    <tr>\n",
       "      <th>3</th>\n",
       "      <td>7486-KSRVI</td>\n",
       "      <td>100</td>\n",
       "      <td>0.000000</td>\n",
       "    </tr>\n",
       "    <tr>\n",
       "      <th>4</th>\n",
       "      <td>0327-WFZSY</td>\n",
       "      <td>100</td>\n",
       "      <td>0.000000</td>\n",
       "    </tr>\n",
       "    <tr>\n",
       "      <th>...</th>\n",
       "      <td>...</td>\n",
       "      <td>...</td>\n",
       "      <td>...</td>\n",
       "    </tr>\n",
       "    <tr>\n",
       "      <th>350</th>\n",
       "      <td>8329-UTMVM</td>\n",
       "      <td>104.65</td>\n",
       "      <td>0.049702</td>\n",
       "    </tr>\n",
       "    <tr>\n",
       "      <th>351</th>\n",
       "      <td>3324-OIRTO</td>\n",
       "      <td>104.65</td>\n",
       "      <td>0.049702</td>\n",
       "    </tr>\n",
       "    <tr>\n",
       "      <th>352</th>\n",
       "      <td>5074-FBGHB</td>\n",
       "      <td>104.65</td>\n",
       "      <td>0.049702</td>\n",
       "    </tr>\n",
       "    <tr>\n",
       "      <th>353</th>\n",
       "      <td>8625-AZYZY</td>\n",
       "      <td>104.65</td>\n",
       "      <td>0.049702</td>\n",
       "    </tr>\n",
       "    <tr>\n",
       "      <th>354</th>\n",
       "      <td>3685-YLCMQ</td>\n",
       "      <td>104.65</td>\n",
       "      <td>0.049702</td>\n",
       "    </tr>\n",
       "  </tbody>\n",
       "</table>\n",
       "<p>355 rows × 3 columns</p>\n",
       "</div>"
      ],
      "text/plain": [
       "     CustomerID MonthlyCharges  MonthlyRank\n",
       "0    0727-BMPLR            100     0.000000\n",
       "1    3473-XIIIT            100     0.000000\n",
       "2    6849-OYAMU            100     0.000000\n",
       "3    7486-KSRVI            100     0.000000\n",
       "4    0327-WFZSY            100     0.000000\n",
       "..          ...            ...          ...\n",
       "350  8329-UTMVM         104.65     0.049702\n",
       "351  3324-OIRTO         104.65     0.049702\n",
       "352  5074-FBGHB         104.65     0.049702\n",
       "353  8625-AZYZY         104.65     0.049702\n",
       "354  3685-YLCMQ         104.65     0.049702\n",
       "\n",
       "[355 rows x 3 columns]"
      ]
     },
     "execution_count": 106,
     "metadata": {},
     "output_type": "execute_result"
    }
   ],
   "source": [
    "spark.sql(\"\"\"\n",
    "    SELECT CustomerID,MonthlyCharges, MonthlyRank\n",
    "    FROM (\n",
    "    SELECT CustomerID,MonthlyCharges,\n",
    "    PERCENT_RANK() OVER (ORDER BY MonthlyCharges) AS MonthlyRank\n",
    "    FROM data) _\n",
    "    WHERE MonthlyRank < 0.05\n",
    "    ORDER BY MonthlyRank\n",
    "\"\"\").toPandas()"
   ]
  },
  {
   "cell_type": "markdown",
   "id": "6e65b0d7",
   "metadata": {},
   "source": [
    "### u) Find customers who fall within the top 5% of the distribution based on monthly charges. Compare total charges with the next customer in the same internet service type, based on monthly charges.\n"
   ]
  },
  {
   "cell_type": "code",
   "execution_count": 108,
   "id": "d3e4b2ce",
   "metadata": {},
   "outputs": [
    {
     "data": {
      "text/html": [
       "<div>\n",
       "<style scoped>\n",
       "    .dataframe tbody tr th:only-of-type {\n",
       "        vertical-align: middle;\n",
       "    }\n",
       "\n",
       "    .dataframe tbody tr th {\n",
       "        vertical-align: top;\n",
       "    }\n",
       "\n",
       "    .dataframe thead th {\n",
       "        text-align: right;\n",
       "    }\n",
       "</style>\n",
       "<table border=\"1\" class=\"dataframe\">\n",
       "  <thead>\n",
       "    <tr style=\"text-align: right;\">\n",
       "      <th></th>\n",
       "      <th>CustomerID</th>\n",
       "      <th>InternetService</th>\n",
       "      <th>MonthlyCharges</th>\n",
       "      <th>TotalCharges</th>\n",
       "      <th>next_charge</th>\n",
       "      <th>Charge_diff</th>\n",
       "    </tr>\n",
       "  </thead>\n",
       "  <tbody>\n",
       "    <tr>\n",
       "      <th>0</th>\n",
       "      <td>1571-SAVHK</td>\n",
       "      <td>Fiber optic</td>\n",
       "      <td>99.95</td>\n",
       "      <td>1132.75</td>\n",
       "      <td>2292.75</td>\n",
       "      <td>-1160.00</td>\n",
       "    </tr>\n",
       "    <tr>\n",
       "      <th>1</th>\n",
       "      <td>3511-APPBJ</td>\n",
       "      <td>Fiber optic</td>\n",
       "      <td>99.95</td>\n",
       "      <td>2292.75</td>\n",
       "      <td>3186.65</td>\n",
       "      <td>-893.90</td>\n",
       "    </tr>\n",
       "    <tr>\n",
       "      <th>2</th>\n",
       "      <td>1254-IZEYF</td>\n",
       "      <td>Fiber optic</td>\n",
       "      <td>99.95</td>\n",
       "      <td>3186.65</td>\n",
       "      <td>547.65</td>\n",
       "      <td>2639.00</td>\n",
       "    </tr>\n",
       "    <tr>\n",
       "      <th>3</th>\n",
       "      <td>3440-JPSCL</td>\n",
       "      <td>Fiber optic</td>\n",
       "      <td>99.95</td>\n",
       "      <td>547.65</td>\n",
       "      <td>3767.4</td>\n",
       "      <td>-3219.75</td>\n",
       "    </tr>\n",
       "    <tr>\n",
       "      <th>4</th>\n",
       "      <td>0089-IIQKO</td>\n",
       "      <td>Fiber optic</td>\n",
       "      <td>99.95</td>\n",
       "      <td>3767.4</td>\n",
       "      <td>1931.75</td>\n",
       "      <td>1835.65</td>\n",
       "    </tr>\n",
       "    <tr>\n",
       "      <th>...</th>\n",
       "      <td>...</td>\n",
       "      <td>...</td>\n",
       "      <td>...</td>\n",
       "      <td>...</td>\n",
       "      <td>...</td>\n",
       "      <td>...</td>\n",
       "    </tr>\n",
       "    <tr>\n",
       "      <th>353</th>\n",
       "      <td>1447-PJGGA</td>\n",
       "      <td>Fiber optic</td>\n",
       "      <td>95.25</td>\n",
       "      <td>5464.65</td>\n",
       "      <td>1233.65</td>\n",
       "      <td>4231.00</td>\n",
       "    </tr>\n",
       "    <tr>\n",
       "      <th>354</th>\n",
       "      <td>9061-TIHDA</td>\n",
       "      <td>Fiber optic</td>\n",
       "      <td>95.25</td>\n",
       "      <td>1233.65</td>\n",
       "      <td>5427.05</td>\n",
       "      <td>-4193.40</td>\n",
       "    </tr>\n",
       "    <tr>\n",
       "      <th>355</th>\n",
       "      <td>3207-OYBWH</td>\n",
       "      <td>Fiber optic</td>\n",
       "      <td>95.25</td>\n",
       "      <td>5427.05</td>\n",
       "      <td>3314.15</td>\n",
       "      <td>2112.90</td>\n",
       "    </tr>\n",
       "    <tr>\n",
       "      <th>356</th>\n",
       "      <td>2824-MYYBN</td>\n",
       "      <td>Fiber optic</td>\n",
       "      <td>95.25</td>\n",
       "      <td>3314.15</td>\n",
       "      <td>3959.35</td>\n",
       "      <td>-645.20</td>\n",
       "    </tr>\n",
       "    <tr>\n",
       "      <th>357</th>\n",
       "      <td>7547-EKNFS</td>\n",
       "      <td>Fiber optic</td>\n",
       "      <td>95.25</td>\n",
       "      <td>3959.35</td>\n",
       "      <td>6671.7</td>\n",
       "      <td>-2712.35</td>\n",
       "    </tr>\n",
       "  </tbody>\n",
       "</table>\n",
       "<p>358 rows × 6 columns</p>\n",
       "</div>"
      ],
      "text/plain": [
       "     CustomerID InternetService MonthlyCharges TotalCharges next_charge  \\\n",
       "0    1571-SAVHK     Fiber optic          99.95      1132.75     2292.75   \n",
       "1    3511-APPBJ     Fiber optic          99.95      2292.75     3186.65   \n",
       "2    1254-IZEYF     Fiber optic          99.95      3186.65      547.65   \n",
       "3    3440-JPSCL     Fiber optic          99.95       547.65      3767.4   \n",
       "4    0089-IIQKO     Fiber optic          99.95       3767.4     1931.75   \n",
       "..          ...             ...            ...          ...         ...   \n",
       "353  1447-PJGGA     Fiber optic          95.25      5464.65     1233.65   \n",
       "354  9061-TIHDA     Fiber optic          95.25      1233.65     5427.05   \n",
       "355  3207-OYBWH     Fiber optic          95.25      5427.05     3314.15   \n",
       "356  2824-MYYBN     Fiber optic          95.25      3314.15     3959.35   \n",
       "357  7547-EKNFS     Fiber optic          95.25      3959.35      6671.7   \n",
       "\n",
       "     Charge_diff  \n",
       "0       -1160.00  \n",
       "1        -893.90  \n",
       "2        2639.00  \n",
       "3       -3219.75  \n",
       "4        1835.65  \n",
       "..           ...  \n",
       "353      4231.00  \n",
       "354     -4193.40  \n",
       "355      2112.90  \n",
       "356      -645.20  \n",
       "357     -2712.35  \n",
       "\n",
       "[358 rows x 6 columns]"
      ]
     },
     "execution_count": 108,
     "metadata": {},
     "output_type": "execute_result"
    }
   ],
   "source": [
    "spark.sql(\"\"\"\n",
    "    SELECT CustomerID,InternetService,MonthlyCharges,TotalCharges,next_charge,\n",
    "    ROUND((TotalCharges - next_charge),3) Charge_diff\n",
    "    FROM (\n",
    "    SELECT CustomerID,InternetService,MonthlyCharges,TotalCharges,\n",
    "    PERCENT_RANK() OVER (ORDER BY MonthlyCharges DESC) AS MonthlyRank,\n",
    "    LEAD(TotalCharges) OVER(PARTITION BY InternetService ORDER BY MonthlyCharges DESC) next_charge\n",
    "    FROM data\n",
    "    ) _\n",
    "    WHERE MonthlyRank <= 0.05\n",
    "    ORDER BY MonthlyRank\n",
    "\"\"\"\n",
    ").toPandas()"
   ]
  },
  {
   "cell_type": "markdown",
   "id": "ac42d42b",
   "metadata": {},
   "source": [
    "### v) Find the top 5 customers with the highest MonthlyCharges within each Contract type."
   ]
  },
  {
   "cell_type": "code",
   "execution_count": 109,
   "id": "f95e59f4",
   "metadata": {},
   "outputs": [
    {
     "data": {
      "text/html": [
       "<div>\n",
       "<style scoped>\n",
       "    .dataframe tbody tr th:only-of-type {\n",
       "        vertical-align: middle;\n",
       "    }\n",
       "\n",
       "    .dataframe tbody tr th {\n",
       "        vertical-align: top;\n",
       "    }\n",
       "\n",
       "    .dataframe thead th {\n",
       "        text-align: right;\n",
       "    }\n",
       "</style>\n",
       "<table border=\"1\" class=\"dataframe\">\n",
       "  <thead>\n",
       "    <tr style=\"text-align: right;\">\n",
       "      <th></th>\n",
       "      <th>CustomerID</th>\n",
       "      <th>Contract</th>\n",
       "      <th>MonthlyCharges</th>\n",
       "      <th>ChargeRank</th>\n",
       "    </tr>\n",
       "  </thead>\n",
       "  <tbody>\n",
       "    <tr>\n",
       "      <th>0</th>\n",
       "      <td>3473-XIIIT</td>\n",
       "      <td>Month-to-month</td>\n",
       "      <td>100</td>\n",
       "      <td>1</td>\n",
       "    </tr>\n",
       "    <tr>\n",
       "      <th>1</th>\n",
       "      <td>8709-KRDVL</td>\n",
       "      <td>Month-to-month</td>\n",
       "      <td>100</td>\n",
       "      <td>2</td>\n",
       "    </tr>\n",
       "    <tr>\n",
       "      <th>2</th>\n",
       "      <td>8397-MVTAZ</td>\n",
       "      <td>Month-to-month</td>\n",
       "      <td>100.05</td>\n",
       "      <td>3</td>\n",
       "    </tr>\n",
       "    <tr>\n",
       "      <th>3</th>\n",
       "      <td>1666-JXLKU</td>\n",
       "      <td>Month-to-month</td>\n",
       "      <td>100.05</td>\n",
       "      <td>4</td>\n",
       "    </tr>\n",
       "    <tr>\n",
       "      <th>4</th>\n",
       "      <td>2669-OIDSD</td>\n",
       "      <td>Month-to-month</td>\n",
       "      <td>100.05</td>\n",
       "      <td>5</td>\n",
       "    </tr>\n",
       "    <tr>\n",
       "      <th>5</th>\n",
       "      <td>0727-BMPLR</td>\n",
       "      <td>One year</td>\n",
       "      <td>100</td>\n",
       "      <td>1</td>\n",
       "    </tr>\n",
       "    <tr>\n",
       "      <th>6</th>\n",
       "      <td>6849-OYAMU</td>\n",
       "      <td>One year</td>\n",
       "      <td>100</td>\n",
       "      <td>2</td>\n",
       "    </tr>\n",
       "    <tr>\n",
       "      <th>7</th>\n",
       "      <td>7486-KSRVI</td>\n",
       "      <td>One year</td>\n",
       "      <td>100</td>\n",
       "      <td>3</td>\n",
       "    </tr>\n",
       "    <tr>\n",
       "      <th>8</th>\n",
       "      <td>0327-WFZSY</td>\n",
       "      <td>One year</td>\n",
       "      <td>100</td>\n",
       "      <td>4</td>\n",
       "    </tr>\n",
       "    <tr>\n",
       "      <th>9</th>\n",
       "      <td>9518-RWHZL</td>\n",
       "      <td>One year</td>\n",
       "      <td>100.05</td>\n",
       "      <td>5</td>\n",
       "    </tr>\n",
       "    <tr>\n",
       "      <th>10</th>\n",
       "      <td>5090-EMGTC</td>\n",
       "      <td>Two year</td>\n",
       "      <td>100.05</td>\n",
       "      <td>1</td>\n",
       "    </tr>\n",
       "    <tr>\n",
       "      <th>11</th>\n",
       "      <td>2578-JQPHZ</td>\n",
       "      <td>Two year</td>\n",
       "      <td>100.1</td>\n",
       "      <td>2</td>\n",
       "    </tr>\n",
       "    <tr>\n",
       "      <th>12</th>\n",
       "      <td>9028-LIHRP</td>\n",
       "      <td>Two year</td>\n",
       "      <td>100.2</td>\n",
       "      <td>3</td>\n",
       "    </tr>\n",
       "    <tr>\n",
       "      <th>13</th>\n",
       "      <td>4366-CTOUZ</td>\n",
       "      <td>Two year</td>\n",
       "      <td>100.2</td>\n",
       "      <td>4</td>\n",
       "    </tr>\n",
       "    <tr>\n",
       "      <th>14</th>\n",
       "      <td>8216-AZUUZ</td>\n",
       "      <td>Two year</td>\n",
       "      <td>100.4</td>\n",
       "      <td>5</td>\n",
       "    </tr>\n",
       "  </tbody>\n",
       "</table>\n",
       "</div>"
      ],
      "text/plain": [
       "    CustomerID        Contract MonthlyCharges  ChargeRank\n",
       "0   3473-XIIIT  Month-to-month            100           1\n",
       "1   8709-KRDVL  Month-to-month            100           2\n",
       "2   8397-MVTAZ  Month-to-month         100.05           3\n",
       "3   1666-JXLKU  Month-to-month         100.05           4\n",
       "4   2669-OIDSD  Month-to-month         100.05           5\n",
       "5   0727-BMPLR        One year            100           1\n",
       "6   6849-OYAMU        One year            100           2\n",
       "7   7486-KSRVI        One year            100           3\n",
       "8   0327-WFZSY        One year            100           4\n",
       "9   9518-RWHZL        One year         100.05           5\n",
       "10  5090-EMGTC        Two year         100.05           1\n",
       "11  2578-JQPHZ        Two year          100.1           2\n",
       "12  9028-LIHRP        Two year          100.2           3\n",
       "13  4366-CTOUZ        Two year          100.2           4\n",
       "14  8216-AZUUZ        Two year          100.4           5"
      ]
     },
     "execution_count": 109,
     "metadata": {},
     "output_type": "execute_result"
    }
   ],
   "source": [
    "spark.sql(\"\"\"\n",
    "    SELECT * FROM (\n",
    "    SELECT CustomerID,Contract,MonthlyCharges,\n",
    "    ROW_NUMBER() OVER(PARTITION BY Contract ORDER BY MonthlyCharges) ChargeRank\n",
    "    FROM data\n",
    "    ) _\n",
    "    WHERE ChargeRank <=5\n",
    "\"\"\").toPandas()"
   ]
  },
  {
   "cell_type": "markdown",
   "id": "b8bbd64a",
   "metadata": {},
   "source": [
    "### w) Calculate the churn rate in each Contract type and rank the contracts by churn rate."
   ]
  },
  {
   "cell_type": "code",
   "execution_count": 111,
   "id": "ec4cb503",
   "metadata": {},
   "outputs": [
    {
     "data": {
      "text/html": [
       "<div>\n",
       "<style scoped>\n",
       "    .dataframe tbody tr th:only-of-type {\n",
       "        vertical-align: middle;\n",
       "    }\n",
       "\n",
       "    .dataframe tbody tr th {\n",
       "        vertical-align: top;\n",
       "    }\n",
       "\n",
       "    .dataframe thead th {\n",
       "        text-align: right;\n",
       "    }\n",
       "</style>\n",
       "<table border=\"1\" class=\"dataframe\">\n",
       "  <thead>\n",
       "    <tr style=\"text-align: right;\">\n",
       "      <th></th>\n",
       "      <th>Contract</th>\n",
       "      <th>ChurnRate</th>\n",
       "      <th>ChurnRank</th>\n",
       "    </tr>\n",
       "  </thead>\n",
       "  <tbody>\n",
       "    <tr>\n",
       "      <th>0</th>\n",
       "      <td>Two year</td>\n",
       "      <td>0.028</td>\n",
       "      <td>1</td>\n",
       "    </tr>\n",
       "    <tr>\n",
       "      <th>1</th>\n",
       "      <td>One year</td>\n",
       "      <td>0.113</td>\n",
       "      <td>2</td>\n",
       "    </tr>\n",
       "    <tr>\n",
       "      <th>2</th>\n",
       "      <td>Month-to-month</td>\n",
       "      <td>0.427</td>\n",
       "      <td>3</td>\n",
       "    </tr>\n",
       "  </tbody>\n",
       "</table>\n",
       "</div>"
      ],
      "text/plain": [
       "         Contract  ChurnRate  ChurnRank\n",
       "0        Two year      0.028          1\n",
       "1        One year      0.113          2\n",
       "2  Month-to-month      0.427          3"
      ]
     },
     "execution_count": 111,
     "metadata": {},
     "output_type": "execute_result"
    }
   ],
   "source": [
    "spark.sql(\"\"\"\n",
    "    SELECT Contract,\n",
    "    ROUND(AVG(CASE WHEN Churn = 'Yes' THEN 1 ELSE 0 END) ,3) ChurnRate,\n",
    "    RANK() OVER(ORDER BY AVG(CASE WHEN Churn = 'Yes' THEN 1 ELSE 0 END)) ChurnRank\n",
    "    FROM data\n",
    "    GROUP BY Contract\n",
    "\"\"\").toPandas()"
   ]
  },
  {
   "cell_type": "markdown",
   "id": "99853469",
   "metadata": {},
   "source": [
    "### x) Perform an in-depth analysis of customers using window functions to understand customer rankings, distribution, and trends in charges and tenure."
   ]
  },
  {
   "cell_type": "code",
   "execution_count": 126,
   "id": "06c62a9e",
   "metadata": {},
   "outputs": [
    {
     "data": {
      "text/html": [
       "<div>\n",
       "<style scoped>\n",
       "    .dataframe tbody tr th:only-of-type {\n",
       "        vertical-align: middle;\n",
       "    }\n",
       "\n",
       "    .dataframe tbody tr th {\n",
       "        vertical-align: top;\n",
       "    }\n",
       "\n",
       "    .dataframe thead th {\n",
       "        text-align: right;\n",
       "    }\n",
       "</style>\n",
       "<table border=\"1\" class=\"dataframe\">\n",
       "  <thead>\n",
       "    <tr style=\"text-align: right;\">\n",
       "      <th></th>\n",
       "      <th>customerID</th>\n",
       "      <th>MonthlyCharges</th>\n",
       "      <th>Contract</th>\n",
       "      <th>charge_rank</th>\n",
       "    </tr>\n",
       "  </thead>\n",
       "  <tbody>\n",
       "    <tr>\n",
       "      <th>0</th>\n",
       "      <td>1571-SAVHK</td>\n",
       "      <td>99.95</td>\n",
       "      <td>Month-to-month</td>\n",
       "      <td>1</td>\n",
       "    </tr>\n",
       "    <tr>\n",
       "      <th>1</th>\n",
       "      <td>1254-IZEYF</td>\n",
       "      <td>99.95</td>\n",
       "      <td>Month-to-month</td>\n",
       "      <td>1</td>\n",
       "    </tr>\n",
       "    <tr>\n",
       "      <th>2</th>\n",
       "      <td>3440-JPSCL</td>\n",
       "      <td>99.95</td>\n",
       "      <td>Month-to-month</td>\n",
       "      <td>1</td>\n",
       "    </tr>\n",
       "    <tr>\n",
       "      <th>3</th>\n",
       "      <td>0089-IIQKO</td>\n",
       "      <td>99.95</td>\n",
       "      <td>Month-to-month</td>\n",
       "      <td>1</td>\n",
       "    </tr>\n",
       "    <tr>\n",
       "      <th>4</th>\n",
       "      <td>5883-GTGVD</td>\n",
       "      <td>99.95</td>\n",
       "      <td>Month-to-month</td>\n",
       "      <td>1</td>\n",
       "    </tr>\n",
       "    <tr>\n",
       "      <th>...</th>\n",
       "      <td>...</td>\n",
       "      <td>...</td>\n",
       "      <td>...</td>\n",
       "      <td>...</td>\n",
       "    </tr>\n",
       "    <tr>\n",
       "      <th>7038</th>\n",
       "      <td>8216-AZUUZ</td>\n",
       "      <td>100.4</td>\n",
       "      <td>Two year</td>\n",
       "      <td>817</td>\n",
       "    </tr>\n",
       "    <tr>\n",
       "      <th>7039</th>\n",
       "      <td>9028-LIHRP</td>\n",
       "      <td>100.2</td>\n",
       "      <td>Two year</td>\n",
       "      <td>818</td>\n",
       "    </tr>\n",
       "    <tr>\n",
       "      <th>7040</th>\n",
       "      <td>4366-CTOUZ</td>\n",
       "      <td>100.2</td>\n",
       "      <td>Two year</td>\n",
       "      <td>818</td>\n",
       "    </tr>\n",
       "    <tr>\n",
       "      <th>7041</th>\n",
       "      <td>2578-JQPHZ</td>\n",
       "      <td>100.1</td>\n",
       "      <td>Two year</td>\n",
       "      <td>819</td>\n",
       "    </tr>\n",
       "    <tr>\n",
       "      <th>7042</th>\n",
       "      <td>5090-EMGTC</td>\n",
       "      <td>100.05</td>\n",
       "      <td>Two year</td>\n",
       "      <td>820</td>\n",
       "    </tr>\n",
       "  </tbody>\n",
       "</table>\n",
       "<p>7043 rows × 4 columns</p>\n",
       "</div>"
      ],
      "text/plain": [
       "      customerID MonthlyCharges        Contract  charge_rank\n",
       "0     1571-SAVHK          99.95  Month-to-month            1\n",
       "1     1254-IZEYF          99.95  Month-to-month            1\n",
       "2     3440-JPSCL          99.95  Month-to-month            1\n",
       "3     0089-IIQKO          99.95  Month-to-month            1\n",
       "4     5883-GTGVD          99.95  Month-to-month            1\n",
       "...          ...            ...             ...          ...\n",
       "7038  8216-AZUUZ          100.4        Two year          817\n",
       "7039  9028-LIHRP          100.2        Two year          818\n",
       "7040  4366-CTOUZ          100.2        Two year          818\n",
       "7041  2578-JQPHZ          100.1        Two year          819\n",
       "7042  5090-EMGTC         100.05        Two year          820\n",
       "\n",
       "[7043 rows x 4 columns]"
      ]
     },
     "execution_count": 126,
     "metadata": {},
     "output_type": "execute_result"
    }
   ],
   "source": [
    "#Ranking customers based on their monthly charges for each contract type\n",
    "spark.sql(\"\"\"SELECT \n",
    "    customerID,\n",
    "    MonthlyCharges,\n",
    "    Contract,\n",
    "    DENSE_RANK() OVER (PARTITION BY Contract ORDER BY MonthlyCharges DESC) AS charge_rank\n",
    "    FROM data\n",
    "    ORDER BY Contract, charge_rank\n",
    "\"\"\").toPandas()"
   ]
  },
  {
   "cell_type": "markdown",
   "id": "ee58a7f7",
   "metadata": {},
   "source": [
    "Insight - The data help in targetting high ranking customers and help to avoid them from retention strategies."
   ]
  },
  {
   "cell_type": "code",
   "execution_count": 125,
   "id": "f5fa1c2d",
   "metadata": {},
   "outputs": [
    {
     "data": {
      "text/html": [
       "<div>\n",
       "<style scoped>\n",
       "    .dataframe tbody tr th:only-of-type {\n",
       "        vertical-align: middle;\n",
       "    }\n",
       "\n",
       "    .dataframe tbody tr th {\n",
       "        vertical-align: top;\n",
       "    }\n",
       "\n",
       "    .dataframe thead th {\n",
       "        text-align: right;\n",
       "    }\n",
       "</style>\n",
       "<table border=\"1\" class=\"dataframe\">\n",
       "  <thead>\n",
       "    <tr style=\"text-align: right;\">\n",
       "      <th></th>\n",
       "      <th>count</th>\n",
       "      <th>meanCharge</th>\n",
       "      <th>meanTenure</th>\n",
       "      <th>minCharge</th>\n",
       "      <th>minTenure</th>\n",
       "      <th>maxCharge</th>\n",
       "      <th>maxTenure</th>\n",
       "      <th>stddevCharge</th>\n",
       "      <th>stddevTenure</th>\n",
       "    </tr>\n",
       "  </thead>\n",
       "  <tbody>\n",
       "    <tr>\n",
       "      <th>0</th>\n",
       "      <td>7043</td>\n",
       "      <td>64.762</td>\n",
       "      <td>32.371</td>\n",
       "      <td>100</td>\n",
       "      <td>0</td>\n",
       "      <td>99.95</td>\n",
       "      <td>9</td>\n",
       "      <td>30.09</td>\n",
       "      <td>24.5595</td>\n",
       "    </tr>\n",
       "  </tbody>\n",
       "</table>\n",
       "</div>"
      ],
      "text/plain": [
       "   count  meanCharge  meanTenure minCharge minTenure maxCharge maxTenure  \\\n",
       "0   7043      64.762      32.371       100         0     99.95         9   \n",
       "\n",
       "   stddevCharge  stddevTenure  \n",
       "0         30.09       24.5595  "
      ]
     },
     "execution_count": 125,
     "metadata": {},
     "output_type": "execute_result"
    }
   ],
   "source": [
    "spark.sql(\"\"\"\n",
    "    SELECT COUNT(*) count,\n",
    "    ROUND(AVG(MonthlyCharges),3) meanCharge,\n",
    "    ROUND(AVG(tenure),3) meanTenure,\n",
    "    MIN(MonthlyCharges) minCharge,\n",
    "    MIN(tenure) minTenure,\n",
    "    Max(MonthlyCharges) maxCharge,\n",
    "    Max(tenure) maxTenure,\n",
    "    ROUND(STDDEV(MonthlyCharges),4) stddevCharge,\n",
    "    ROUND(STDDEV(tenure),4) stddevTenure\n",
    "    FROM data\n",
    "\"\"\").toPandas()"
   ]
  },
  {
   "cell_type": "code",
   "execution_count": 119,
   "id": "db3d3927",
   "metadata": {},
   "outputs": [
    {
     "data": {
      "text/html": [
       "<div>\n",
       "<style scoped>\n",
       "    .dataframe tbody tr th:only-of-type {\n",
       "        vertical-align: middle;\n",
       "    }\n",
       "\n",
       "    .dataframe tbody tr th {\n",
       "        vertical-align: top;\n",
       "    }\n",
       "\n",
       "    .dataframe thead th {\n",
       "        text-align: right;\n",
       "    }\n",
       "</style>\n",
       "<table border=\"1\" class=\"dataframe\">\n",
       "  <thead>\n",
       "    <tr style=\"text-align: right;\">\n",
       "      <th></th>\n",
       "      <th>Contract</th>\n",
       "      <th>avg_monthly_charge</th>\n",
       "      <th>avg_tenure</th>\n",
       "    </tr>\n",
       "  </thead>\n",
       "  <tbody>\n",
       "    <tr>\n",
       "      <th>0</th>\n",
       "      <td>Month-to-month</td>\n",
       "      <td>66.398490</td>\n",
       "      <td>18.036645</td>\n",
       "    </tr>\n",
       "    <tr>\n",
       "      <th>1</th>\n",
       "      <td>One year</td>\n",
       "      <td>65.048608</td>\n",
       "      <td>42.044807</td>\n",
       "    </tr>\n",
       "    <tr>\n",
       "      <th>2</th>\n",
       "      <td>Two year</td>\n",
       "      <td>60.770413</td>\n",
       "      <td>56.735103</td>\n",
       "    </tr>\n",
       "  </tbody>\n",
       "</table>\n",
       "</div>"
      ],
      "text/plain": [
       "         Contract  avg_monthly_charge  avg_tenure\n",
       "0  Month-to-month           66.398490   18.036645\n",
       "1        One year           65.048608   42.044807\n",
       "2        Two year           60.770413   56.735103"
      ]
     },
     "execution_count": 119,
     "metadata": {},
     "output_type": "execute_result"
    }
   ],
   "source": [
    "spark.sql(\"\"\"SELECT \n",
    "    Contract,\n",
    "    AVG(MonthlyCharges) AS avg_monthly_charge,\n",
    "    AVG(tenure) AS avg_tenure\n",
    "    FROM data\n",
    "    GROUP BY Contract\n",
    "    ORDER BY avg_tenure\n",
    "\"\"\").toPandas()"
   ]
  },
  {
   "cell_type": "code",
   "execution_count": null,
   "id": "d22860d6",
   "metadata": {},
   "outputs": [],
   "source": []
  }
 ],
 "metadata": {
  "kernelspec": {
   "display_name": "Python 3",
   "language": "python",
   "name": "python3"
  },
  "language_info": {
   "codemirror_mode": {
    "name": "ipython",
    "version": 3
   },
   "file_extension": ".py",
   "mimetype": "text/x-python",
   "name": "python",
   "nbconvert_exporter": "python",
   "pygments_lexer": "ipython3",
   "version": "3.6.9"
  }
 },
 "nbformat": 4,
 "nbformat_minor": 5
}
