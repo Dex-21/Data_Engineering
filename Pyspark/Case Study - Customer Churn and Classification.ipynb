{
 "cells": [
  {
   "cell_type": "code",
   "execution_count": 1,
   "id": "809a8108",
   "metadata": {
    "collapsed": true
   },
   "outputs": [
    {
     "data": {
      "text/html": [
       "\n",
       "        <div>\n",
       "            <p><b>SparkContext</b></p>\n",
       "\n",
       "            <p><a href=\"http://10.0.2.15:4040\">Spark UI</a></p>\n",
       "\n",
       "            <dl>\n",
       "              <dt>Version</dt>\n",
       "                <dd><code>v2.4.8</code></dd>\n",
       "              <dt>Master</dt>\n",
       "                <dd><code>local[*]</code></dd>\n",
       "              <dt>AppName</dt>\n",
       "                <dd><code>PySparkShell</code></dd>\n",
       "            </dl>\n",
       "        </div>\n",
       "        "
      ],
      "text/plain": [
       "<SparkContext master=local[*] appName=PySparkShell>"
      ]
     },
     "execution_count": 1,
     "metadata": {},
     "output_type": "execute_result"
    }
   ],
   "source": [
    "sc"
   ]
  },
  {
   "cell_type": "code",
   "execution_count": 2,
   "id": "69bd6393",
   "metadata": {
    "collapsed": true
   },
   "outputs": [
    {
     "data": {
      "text/html": [
       "\n",
       "            <div>\n",
       "                <p><b>SparkSession - hive</b></p>\n",
       "                \n",
       "        <div>\n",
       "            <p><b>SparkContext</b></p>\n",
       "\n",
       "            <p><a href=\"http://10.0.2.15:4040\">Spark UI</a></p>\n",
       "\n",
       "            <dl>\n",
       "              <dt>Version</dt>\n",
       "                <dd><code>v2.4.8</code></dd>\n",
       "              <dt>Master</dt>\n",
       "                <dd><code>local[*]</code></dd>\n",
       "              <dt>AppName</dt>\n",
       "                <dd><code>PySparkShell</code></dd>\n",
       "            </dl>\n",
       "        </div>\n",
       "        \n",
       "            </div>\n",
       "        "
      ],
      "text/plain": [
       "<pyspark.sql.session.SparkSession at 0x7f87958c7c18>"
      ]
     },
     "execution_count": 2,
     "metadata": {},
     "output_type": "execute_result"
    }
   ],
   "source": [
    "spark"
   ]
  },
  {
   "cell_type": "markdown",
   "id": "6b302d8e",
   "metadata": {},
   "source": [
    "#### 1.Read the dataset"
   ]
  },
  {
   "cell_type": "code",
   "execution_count": 5,
   "id": "71a17011",
   "metadata": {},
   "outputs": [
    {
     "data": {
      "text/plain": [
       "7043"
      ]
     },
     "execution_count": 5,
     "metadata": {},
     "output_type": "execute_result"
    }
   ],
   "source": [
    "churn_data  = spark.read.csv(\"file:///home/hadoop/Downloads/Telco_Customer_Churn.csv\",\n",
    "                            header = True, inferSchema = True)\n",
    "churn_data.count()"
   ]
  },
  {
   "cell_type": "markdown",
   "id": "8249b23d",
   "metadata": {},
   "source": [
    "#### 2.Data Exploration\n",
    "    a. How many customer records are present in dataset?"
   ]
  },
  {
   "cell_type": "code",
   "execution_count": 6,
   "id": "0c68af70",
   "metadata": {},
   "outputs": [
    {
     "data": {
      "text/plain": [
       "7043"
      ]
     },
     "execution_count": 6,
     "metadata": {},
     "output_type": "execute_result"
    }
   ],
   "source": [
    "churn_data.count()"
   ]
  },
  {
   "cell_type": "code",
   "execution_count": 7,
   "id": "17fa46c0",
   "metadata": {},
   "outputs": [
    {
     "data": {
      "text/plain": [
       "21"
      ]
     },
     "execution_count": 7,
     "metadata": {},
     "output_type": "execute_result"
    }
   ],
   "source": [
    "len(churn_data.columns)"
   ]
  },
  {
   "cell_type": "code",
   "execution_count": 8,
   "id": "ecc45dcd",
   "metadata": {
    "collapsed": true
   },
   "outputs": [
    {
     "data": {
      "text/plain": [
       "['customerID',\n",
       " 'gender',\n",
       " 'SeniorCitizen',\n",
       " 'Partner',\n",
       " 'Dependents',\n",
       " 'tenure',\n",
       " 'PhoneService',\n",
       " 'MultipleLines',\n",
       " 'InternetService',\n",
       " 'OnlineSecurity',\n",
       " 'OnlineBackup',\n",
       " 'DeviceProtection',\n",
       " 'TechSupport',\n",
       " 'StreamingTV',\n",
       " 'StreamingMovies',\n",
       " 'Contract',\n",
       " 'PaperlessBilling',\n",
       " 'PaymentMethod',\n",
       " 'MonthlyCharges',\n",
       " 'TotalCharges',\n",
       " 'Churn']"
      ]
     },
     "execution_count": 8,
     "metadata": {},
     "output_type": "execute_result"
    }
   ],
   "source": [
    "churn_data.columns"
   ]
  },
  {
   "cell_type": "markdown",
   "id": "1f610009",
   "metadata": {},
   "source": [
    "    b. What is the distribution of Gender among customers?"
   ]
  },
  {
   "cell_type": "code",
   "execution_count": 9,
   "id": "86ce3de3",
   "metadata": {
    "collapsed": true
   },
   "outputs": [
    {
     "name": "stdout",
     "output_type": "stream",
     "text": [
      "root\n",
      " |-- customerID: string (nullable = true)\n",
      " |-- gender: string (nullable = true)\n",
      " |-- SeniorCitizen: integer (nullable = true)\n",
      " |-- Partner: string (nullable = true)\n",
      " |-- Dependents: string (nullable = true)\n",
      " |-- tenure: integer (nullable = true)\n",
      " |-- PhoneService: string (nullable = true)\n",
      " |-- MultipleLines: string (nullable = true)\n",
      " |-- InternetService: string (nullable = true)\n",
      " |-- OnlineSecurity: string (nullable = true)\n",
      " |-- OnlineBackup: string (nullable = true)\n",
      " |-- DeviceProtection: string (nullable = true)\n",
      " |-- TechSupport: string (nullable = true)\n",
      " |-- StreamingTV: string (nullable = true)\n",
      " |-- StreamingMovies: string (nullable = true)\n",
      " |-- Contract: string (nullable = true)\n",
      " |-- PaperlessBilling: string (nullable = true)\n",
      " |-- PaymentMethod: string (nullable = true)\n",
      " |-- MonthlyCharges: double (nullable = true)\n",
      " |-- TotalCharges: string (nullable = true)\n",
      " |-- Churn: string (nullable = true)\n",
      "\n"
     ]
    }
   ],
   "source": [
    "churn_data.printSchema()"
   ]
  },
  {
   "cell_type": "code",
   "execution_count": 10,
   "id": "f5542f10",
   "metadata": {},
   "outputs": [
    {
     "name": "stdout",
     "output_type": "stream",
     "text": [
      "+------+-----+\n",
      "|gender|count|\n",
      "+------+-----+\n",
      "|Female| 3488|\n",
      "|  Male| 3555|\n",
      "+------+-----+\n",
      "\n"
     ]
    }
   ],
   "source": [
    "churn_data.groupBy(['gender']).count().show()"
   ]
  },
  {
   "cell_type": "markdown",
   "id": "af4bc433",
   "metadata": {},
   "source": [
    "    c. What is the Distribution of contract types among Customers?"
   ]
  },
  {
   "cell_type": "code",
   "execution_count": 11,
   "id": "9dd95f1f",
   "metadata": {},
   "outputs": [
    {
     "name": "stdout",
     "output_type": "stream",
     "text": [
      "+--------------+-----+\n",
      "|      Contract|count|\n",
      "+--------------+-----+\n",
      "|Month-to-month| 3875|\n",
      "|      One year| 1473|\n",
      "|      Two year| 1695|\n",
      "+--------------+-----+\n",
      "\n"
     ]
    }
   ],
   "source": [
    "churn_data.groupBy(['Contract']).count().show()"
   ]
  },
  {
   "cell_type": "markdown",
   "id": "db0b9361",
   "metadata": {},
   "source": [
    "    d. What is the percentage of customers who churned ? "
   ]
  },
  {
   "cell_type": "code",
   "execution_count": 13,
   "id": "4e7bd851",
   "metadata": {},
   "outputs": [
    {
     "data": {
      "text/plain": [
       "26.536987079369588"
      ]
     },
     "execution_count": 13,
     "metadata": {},
     "output_type": "execute_result"
    }
   ],
   "source": [
    "churn_data.select(['Churn']).where(\"Churn = 'Yes'\").count() / churn_data.count() * 100"
   ]
  },
  {
   "cell_type": "markdown",
   "id": "aae4c8b9",
   "metadata": {},
   "source": [
    "#### 3. Data Preprocessing\n",
    "    * Check for Missing values and handle missing data"
   ]
  },
  {
   "cell_type": "code",
   "execution_count": 14,
   "id": "d0b129cf",
   "metadata": {},
   "outputs": [],
   "source": [
    "from pyspark.sql.functions import *\n",
    "from pyspark.sql.types import *"
   ]
  },
  {
   "cell_type": "code",
   "execution_count": 16,
   "id": "1b6405d2",
   "metadata": {
    "collapsed": true
   },
   "outputs": [
    {
     "name": "stdout",
     "output_type": "stream",
     "text": [
      "+----------+------+-------------+-------+----------+------+------------+-------------+---------------+--------------+------------+----------------+-----------+-----------+---------------+--------+----------------+-------------+--------------+------------+-----+\n",
      "|customerID|gender|SeniorCitizen|Partner|Dependents|tenure|PhoneService|MultipleLines|InternetService|OnlineSecurity|OnlineBackup|DeviceProtection|TechSupport|StreamingTV|StreamingMovies|Contract|PaperlessBilling|PaymentMethod|MonthlyCharges|TotalCharges|Churn|\n",
      "+----------+------+-------------+-------+----------+------+------------+-------------+---------------+--------------+------------+----------------+-----------+-----------+---------------+--------+----------------+-------------+--------------+------------+-----+\n",
      "|         0|     0|            0|      0|         0|     0|           0|            0|              0|             0|           0|               0|          0|          0|              0|       0|               0|            0|             0|           0|    0|\n",
      "+----------+------+-------------+-------+----------+------+------------+-------------+---------------+--------------+------------+----------------+-----------+-----------+---------------+--------+----------------+-------------+--------------+------------+-----+\n",
      "\n"
     ]
    }
   ],
   "source": [
    "churn_data.select([count(when(isnull(col), col)).alias(col) for col in churn_data.columns]).show()"
   ]
  },
  {
   "cell_type": "code",
   "execution_count": 18,
   "id": "a56dca99",
   "metadata": {},
   "outputs": [],
   "source": [
    "churn_data = churn_data.withColumn('TotalCharges', when(col('TotalCharges') == \" \", None)\\\n",
    "                     .otherwise(col(\"TotalCharges\")))"
   ]
  },
  {
   "cell_type": "code",
   "execution_count": 19,
   "id": "3f4b7232",
   "metadata": {},
   "outputs": [
    {
     "name": "stdout",
     "output_type": "stream",
     "text": [
      "+----------+------+-------------+-------+----------+------+------------+-------------+---------------+--------------+------------+----------------+-----------+-----------+---------------+--------+----------------+-------------+--------------+------------+-----+\n",
      "|customerID|gender|SeniorCitizen|Partner|Dependents|tenure|PhoneService|MultipleLines|InternetService|OnlineSecurity|OnlineBackup|DeviceProtection|TechSupport|StreamingTV|StreamingMovies|Contract|PaperlessBilling|PaymentMethod|MonthlyCharges|TotalCharges|Churn|\n",
      "+----------+------+-------------+-------+----------+------+------------+-------------+---------------+--------------+------------+----------------+-----------+-----------+---------------+--------+----------------+-------------+--------------+------------+-----+\n",
      "|         0|     0|            0|      0|         0|     0|           0|            0|              0|             0|           0|               0|          0|          0|              0|       0|               0|            0|             0|          11|    0|\n",
      "+----------+------+-------------+-------+----------+------+------------+-------------+---------------+--------------+------------+----------------+-----------+-----------+---------------+--------+----------------+-------------+--------------+------------+-----+\n",
      "\n"
     ]
    }
   ],
   "source": [
    "churn_data.select([count(when(isnull(col), col)).alias(col) for col in churn_data.columns]).show()"
   ]
  },
  {
   "cell_type": "code",
   "execution_count": 20,
   "id": "e8eeb817",
   "metadata": {},
   "outputs": [],
   "source": [
    "churn_data1 = churn_data.na.drop()"
   ]
  },
  {
   "cell_type": "code",
   "execution_count": 23,
   "id": "b9ae8205",
   "metadata": {},
   "outputs": [],
   "source": [
    "from pyspark.sql.types import FloatType\n",
    "churn_data1 = churn_data1.withColumn('TotalCharges', col('TotalCharges').cast(FloatType()))"
   ]
  },
  {
   "cell_type": "markdown",
   "id": "75ed27cd",
   "metadata": {},
   "source": [
    "#### 4.import Mllib\n",
    "    f. Convert categorical variables into numerical format using one-hot encoding or label encoding"
   ]
  },
  {
   "cell_type": "code",
   "execution_count": 43,
   "id": "d1d51f35",
   "metadata": {},
   "outputs": [],
   "source": [
    "churn_data1= churn_data1.drop(col('customerID'))"
   ]
  },
  {
   "cell_type": "code",
   "execution_count": 44,
   "id": "070499da",
   "metadata": {},
   "outputs": [],
   "source": [
    "from pyspark.ml.feature import StringIndexer, OneHotEncoderEstimator, VectorAssembler\n",
    "from pyspark.ml import Pipeline"
   ]
  },
  {
   "cell_type": "code",
   "execution_count": 45,
   "id": "edab7bae",
   "metadata": {},
   "outputs": [
    {
     "name": "stdout",
     "output_type": "stream",
     "text": [
      "['gender', 'SeniorCitizen', 'Partner', 'Dependents', 'tenure', 'PhoneService', 'MultipleLines', 'InternetService', 'OnlineSecurity', 'OnlineBackup', 'DeviceProtection', 'TechSupport', 'StreamingTV', 'StreamingMovies', 'Contract', 'PaperlessBilling', 'PaymentMethod', 'MonthlyCharges', 'TotalCharges', 'Churn']\n"
     ]
    }
   ],
   "source": [
    "print(churn_data1.columns)"
   ]
  },
  {
   "cell_type": "code",
   "execution_count": 27,
   "id": "e30f0c52",
   "metadata": {},
   "outputs": [],
   "source": [
    "#StringIndexer converts string values to indices.\n",
    "#OneHotEncoder will convert categories into column and rows and for each of them one value will only be 1."
   ]
  },
  {
   "cell_type": "code",
   "execution_count": 46,
   "id": "66c16cf8",
   "metadata": {},
   "outputs": [
    {
     "name": "stdout",
     "output_type": "stream",
     "text": [
      "['gender', 'Partner', 'Dependents', 'PhoneService', 'MultipleLines', 'InternetService', 'OnlineSecurity', 'OnlineBackup', 'DeviceProtection', 'TechSupport', 'StreamingTV', 'StreamingMovies', 'Contract', 'PaperlessBilling', 'PaymentMethod', 'Churn']\n"
     ]
    }
   ],
   "source": [
    "categorical_cols = [field.name for field in churn_data1.schema.fields if isinstance(field.dataType, StringType)]\n",
    "print(categorical_cols)"
   ]
  },
  {
   "cell_type": "code",
   "execution_count": 47,
   "id": "5abc7288",
   "metadata": {},
   "outputs": [],
   "source": [
    "stages = []\n",
    "\n",
    "for catcols in categorical_cols[:-1]:\n",
    "    stringindexer = StringIndexer(inputCol = catcols, outputCol = catcols + \"Index\")\n",
    "    onehotencoder = OneHotEncoderEstimator(inputCols = [stringindexer.getOutputCol()],\n",
    "                                          outputCols = [catcols+\"classVec\"])\n",
    "    stages += [stringindexer, onehotencoder]"
   ]
  },
  {
   "cell_type": "code",
   "execution_count": 48,
   "id": "93291d6d",
   "metadata": {},
   "outputs": [
    {
     "name": "stdout",
     "output_type": "stream",
     "text": [
      "['SeniorCitizen', 'tenure', 'MonthlyCharges', 'TotalCharges']\n"
     ]
    }
   ],
   "source": [
    "numericalCols =  [field.name for field in churn_data1.schema.fields if not  isinstance(field.dataType, StringType)]\n",
    "print(numericalCols)"
   ]
  },
  {
   "cell_type": "code",
   "execution_count": 49,
   "id": "4e35ef2a",
   "metadata": {},
   "outputs": [],
   "source": [
    "assemblerInputs = [c + 'classVec' for c in categorical_cols[:-1]] + numericalCols\n",
    "assembler = VectorAssembler(inputCols = assemblerInputs, outputCol = \"features\")\n",
    "stages += [assembler]"
   ]
  },
  {
   "cell_type": "code",
   "execution_count": 50,
   "id": "1131f114",
   "metadata": {},
   "outputs": [],
   "source": [
    "label_stringIdx = StringIndexer(inputCol = \"Churn\", outputCol = \"label\")"
   ]
  },
  {
   "cell_type": "code",
   "execution_count": 51,
   "id": "6c8d2d1b",
   "metadata": {},
   "outputs": [],
   "source": [
    "stages += [label_stringIdx]"
   ]
  },
  {
   "cell_type": "code",
   "execution_count": 52,
   "id": "57c9b64a",
   "metadata": {},
   "outputs": [],
   "source": [
    "pipeline = Pipeline(stages = stages)"
   ]
  },
  {
   "cell_type": "code",
   "execution_count": 53,
   "id": "da3fafc9",
   "metadata": {},
   "outputs": [],
   "source": [
    "preprocessing = pipeline.fit(churn_data1)"
   ]
  },
  {
   "cell_type": "code",
   "execution_count": 55,
   "id": "2b89ad89",
   "metadata": {},
   "outputs": [],
   "source": [
    "churn_df = preprocessing.transform(churn_data1)"
   ]
  },
  {
   "cell_type": "code",
   "execution_count": 58,
   "id": "49ceac40",
   "metadata": {
    "collapsed": true
   },
   "outputs": [
    {
     "name": "stdout",
     "output_type": "stream",
     "text": [
      "+--------------+-------------+----------------+\n",
      "|      Contract|ContractIndex|ContractclassVec|\n",
      "+--------------+-------------+----------------+\n",
      "|Month-to-month|          0.0|   (2,[0],[1.0])|\n",
      "|      One year|          2.0|       (2,[],[])|\n",
      "|Month-to-month|          0.0|   (2,[0],[1.0])|\n",
      "|      One year|          2.0|       (2,[],[])|\n",
      "|Month-to-month|          0.0|   (2,[0],[1.0])|\n",
      "|Month-to-month|          0.0|   (2,[0],[1.0])|\n",
      "|Month-to-month|          0.0|   (2,[0],[1.0])|\n",
      "|Month-to-month|          0.0|   (2,[0],[1.0])|\n",
      "|Month-to-month|          0.0|   (2,[0],[1.0])|\n",
      "|      One year|          2.0|       (2,[],[])|\n",
      "|Month-to-month|          0.0|   (2,[0],[1.0])|\n",
      "|      Two year|          1.0|   (2,[1],[1.0])|\n",
      "|      One year|          2.0|       (2,[],[])|\n",
      "|Month-to-month|          0.0|   (2,[0],[1.0])|\n",
      "|Month-to-month|          0.0|   (2,[0],[1.0])|\n",
      "|      Two year|          1.0|   (2,[1],[1.0])|\n",
      "|      One year|          2.0|       (2,[],[])|\n",
      "|      Two year|          1.0|   (2,[1],[1.0])|\n",
      "|Month-to-month|          0.0|   (2,[0],[1.0])|\n",
      "|Month-to-month|          0.0|   (2,[0],[1.0])|\n",
      "+--------------+-------------+----------------+\n",
      "only showing top 20 rows\n",
      "\n"
     ]
    }
   ],
   "source": [
    "churn_df.select(['Contract','ContractIndex','ContractclassVec']).show()"
   ]
  },
  {
   "cell_type": "code",
   "execution_count": 61,
   "id": "97be2abc",
   "metadata": {},
   "outputs": [
    {
     "name": "stdout",
     "output_type": "stream",
     "text": [
      "+------------------------------------------------------------------------------------------------------------------------------------------------+-----+\n",
      "|features                                                                                                                                        |label|\n",
      "+------------------------------------------------------------------------------------------------------------------------------------------------+-----+\n",
      "|(30,[2,7,8,11,12,14,16,18,20,22,23,27,28,29],[1.0,1.0,1.0,1.0,1.0,1.0,1.0,1.0,1.0,1.0,1.0,1.0,29.85,29.850000381469727])                        |0.0  |\n",
      "|(30,[0,1,2,3,4,7,9,10,13,14,16,18,24,27,28,29],[1.0,1.0,1.0,1.0,1.0,1.0,1.0,1.0,1.0,1.0,1.0,1.0,1.0,34.0,56.95,1889.5])                         |0.0  |\n",
      "|(30,[0,1,2,3,4,7,9,11,12,14,16,18,20,22,24,27,28,29],[1.0,1.0,1.0,1.0,1.0,1.0,1.0,1.0,1.0,1.0,1.0,1.0,1.0,1.0,1.0,2.0,53.85,108.1500015258789]) |1.0  |\n",
      "|(30,[0,1,2,7,9,10,13,15,16,18,25,27,28,29],[1.0,1.0,1.0,1.0,1.0,1.0,1.0,1.0,1.0,1.0,1.0,45.0,42.3,1840.75])                                     |0.0  |\n",
      "|(30,[1,2,3,4,6,8,10,12,14,16,18,20,22,23,27,28,29],[1.0,1.0,1.0,1.0,1.0,1.0,1.0,1.0,1.0,1.0,1.0,1.0,1.0,1.0,2.0,70.7,151.64999389648438])       |1.0  |\n",
      "|(30,[1,2,3,5,6,8,10,13,14,17,19,20,22,23,27,28,29],[1.0,1.0,1.0,1.0,1.0,1.0,1.0,1.0,1.0,1.0,1.0,1.0,1.0,1.0,8.0,99.65,820.5])                   |1.0  |\n",
      "|(30,[0,1,3,5,6,8,11,12,14,17,18,20,22,27,28,29],[1.0,1.0,1.0,1.0,1.0,1.0,1.0,1.0,1.0,1.0,1.0,1.0,1.0,22.0,89.1,1949.4000244140625])             |0.0  |\n",
      "|(30,[1,2,7,9,10,12,14,16,18,20,24,27,28,29],[1.0,1.0,1.0,1.0,1.0,1.0,1.0,1.0,1.0,1.0,1.0,10.0,29.75,301.8999938964844])                         |0.0  |\n",
      "|(30,[2,3,5,6,8,10,13,15,17,19,20,22,23,27,28,29],[1.0,1.0,1.0,1.0,1.0,1.0,1.0,1.0,1.0,1.0,1.0,1.0,1.0,28.0,104.8,3046.050048828125])            |1.0  |\n",
      "|(30,[0,1,3,4,7,9,11,12,14,16,18,25,27,28,29],[1.0,1.0,1.0,1.0,1.0,1.0,1.0,1.0,1.0,1.0,1.0,1.0,62.0,56.15,3487.949951171875])                    |0.0  |\n",
      "|(30,[0,3,4,7,9,10,12,14,16,18,20,22,24,27,28,29],[1.0,1.0,1.0,1.0,1.0,1.0,1.0,1.0,1.0,1.0,1.0,1.0,1.0,13.0,49.95,587.4500122070312])            |0.0  |\n",
      "|(30,[0,1,2,3,4,21,27,28,29],[1.0,1.0,1.0,1.0,1.0,1.0,16.0,18.95,326.79998779296875])                                                            |0.0  |\n",
      "|(30,[0,2,3,5,6,8,10,13,14,17,19,27,28,29],[1.0,1.0,1.0,1.0,1.0,1.0,1.0,1.0,1.0,1.0,1.0,58.0,100.35,5681.10009765625])                           |0.0  |\n",
      "|(30,[0,1,2,3,5,6,8,11,13,14,17,19,20,22,25,27,28,29],[1.0,1.0,1.0,1.0,1.0,1.0,1.0,1.0,1.0,1.0,1.0,1.0,1.0,1.0,1.0,49.0,103.7,5036.2998046875])  |1.0  |\n",
      "|(30,[0,1,2,3,4,6,9,10,13,15,17,19,20,22,23,27,28,29],[1.0,1.0,1.0,1.0,1.0,1.0,1.0,1.0,1.0,1.0,1.0,1.0,1.0,1.0,1.0,25.0,105.5,2686.050048828125])|0.0  |\n",
      "|(30,[3,5,6,9,11,13,15,17,19,21,27,28,29],[1.0,1.0,1.0,1.0,1.0,1.0,1.0,1.0,1.0,1.0,69.0,113.25,7895.14990234375])                                |0.0  |\n",
      "|(30,[1,2,3,4,24,27,28,29],[1.0,1.0,1.0,1.0,1.0,52.0,20.65,1022.9500122070312])                                                                  |0.0  |\n",
      "|(30,[0,1,3,5,6,9,10,13,14,17,19,21,25,27,28,29],[1.0,1.0,1.0,1.0,1.0,1.0,1.0,1.0,1.0,1.0,1.0,1.0,1.0,71.0,106.7,7382.25])                       |0.0  |\n",
      "|(30,[3,4,7,8,10,13,15,16,18,20,27,28,29],[1.0,1.0,1.0,1.0,1.0,1.0,1.0,1.0,1.0,1.0,10.0,55.2,528.3499755859375])                                 |1.0  |\n",
      "|(30,[1,2,3,4,6,8,11,13,14,16,19,20,22,23,27,28,29],[1.0,1.0,1.0,1.0,1.0,1.0,1.0,1.0,1.0,1.0,1.0,1.0,1.0,1.0,21.0,90.05,1862.9000244140625])     |0.0  |\n",
      "+------------------------------------------------------------------------------------------------------------------------------------------------+-----+\n",
      "only showing top 20 rows\n",
      "\n"
     ]
    }
   ],
   "source": [
    "churn_df1 = churn_df.select(['features','label'])\n",
    "churn_df1.show(truncate = False)"
   ]
  },
  {
   "cell_type": "markdown",
   "id": "54188080",
   "metadata": {},
   "source": [
    "#### Split dataset into train and test"
   ]
  },
  {
   "cell_type": "code",
   "execution_count": 62,
   "id": "bb0abea1",
   "metadata": {},
   "outputs": [],
   "source": [
    "train, test  = churn_df1.randomSplit([0.8, 0.2], seed = 2)"
   ]
  },
  {
   "cell_type": "code",
   "execution_count": 63,
   "id": "ab2d2ae5",
   "metadata": {},
   "outputs": [
    {
     "data": {
      "text/plain": [
       "DataFrame[features: vector, label: double]"
      ]
     },
     "execution_count": 63,
     "metadata": {},
     "output_type": "execute_result"
    }
   ],
   "source": [
    "train.select(['features', 'label'])"
   ]
  },
  {
   "cell_type": "markdown",
   "id": "090006ea",
   "metadata": {},
   "source": [
    "#### Build Decision Tree ML model"
   ]
  },
  {
   "cell_type": "code",
   "execution_count": 64,
   "id": "4abb5c1c",
   "metadata": {},
   "outputs": [],
   "source": [
    "from pyspark.ml.classification import DecisionTreeClassifier, RandomForestClassifier\n",
    "tree = DecisionTreeClassifier(featuresCol='features', labelCol = 'label')\n",
    "decision_model = tree.fit(train)"
   ]
  },
  {
   "cell_type": "markdown",
   "id": "a95ec4e1",
   "metadata": {},
   "source": [
    "#### Evaluate the Model"
   ]
  },
  {
   "cell_type": "code",
   "execution_count": 66,
   "id": "9956498d",
   "metadata": {},
   "outputs": [],
   "source": [
    "predictions =  decision_model.transform(test)"
   ]
  },
  {
   "cell_type": "code",
   "execution_count": 67,
   "id": "467db526",
   "metadata": {
    "collapsed": true
   },
   "outputs": [
    {
     "name": "stdout",
     "output_type": "stream",
     "text": [
      "+-----+----------------------------------------+----------+\n",
      "|label|probability                             |prediction|\n",
      "+-----+----------------------------------------+----------+\n",
      "|1.0  |[0.13440860215053763,0.8655913978494624]|1.0       |\n",
      "|1.0  |[0.13440860215053763,0.8655913978494624]|1.0       |\n",
      "|0.0  |[0.350076103500761,0.649923896499239]   |1.0       |\n",
      "|1.0  |[0.13440860215053763,0.8655913978494624]|1.0       |\n",
      "|0.0  |[0.350076103500761,0.649923896499239]   |1.0       |\n",
      "|0.0  |[0.350076103500761,0.649923896499239]   |1.0       |\n",
      "|1.0  |[0.13440860215053763,0.8655913978494624]|1.0       |\n",
      "|1.0  |[0.13440860215053763,0.8655913978494624]|1.0       |\n",
      "|0.0  |[0.350076103500761,0.649923896499239]   |1.0       |\n",
      "|1.0  |[0.6071019473081328,0.3928980526918671] |0.0       |\n",
      "|0.0  |[0.6071019473081328,0.3928980526918671] |0.0       |\n",
      "|1.0  |[0.13440860215053763,0.8655913978494624]|1.0       |\n",
      "|1.0  |[0.350076103500761,0.649923896499239]   |1.0       |\n",
      "|1.0  |[0.13440860215053763,0.8655913978494624]|1.0       |\n",
      "|1.0  |[0.13440860215053763,0.8655913978494624]|1.0       |\n",
      "|1.0  |[0.350076103500761,0.649923896499239]   |1.0       |\n",
      "|1.0  |[0.350076103500761,0.649923896499239]   |1.0       |\n",
      "|1.0  |[0.13440860215053763,0.8655913978494624]|1.0       |\n",
      "|0.0  |[0.350076103500761,0.649923896499239]   |1.0       |\n",
      "|0.0  |[0.6071019473081328,0.3928980526918671] |0.0       |\n",
      "+-----+----------------------------------------+----------+\n",
      "only showing top 20 rows\n",
      "\n"
     ]
    }
   ],
   "source": [
    "predictions.select(['label','probability', 'prediction']).show(truncate=False)"
   ]
  },
  {
   "cell_type": "code",
   "execution_count": 69,
   "id": "45ebd8e6",
   "metadata": {},
   "outputs": [
    {
     "data": {
      "text/plain": [
       "0.7926093514328808"
      ]
     },
     "execution_count": 69,
     "metadata": {},
     "output_type": "execute_result"
    }
   ],
   "source": [
    "from pyspark.ml.evaluation import MulticlassClassificationEvaluator\n",
    "evaluator = MulticlassClassificationEvaluator(labelCol = 'label', predictionCol = 'prediction',\n",
    "                                             metricName = 'accuracy')\n",
    "accuracy = evaluator.evaluate(predictions)\n",
    "accuracy"
   ]
  },
  {
   "cell_type": "markdown",
   "id": "c56c5aa3",
   "metadata": {},
   "source": [
    "#### Build Random Forest Model"
   ]
  },
  {
   "cell_type": "code",
   "execution_count": 71,
   "id": "bb3f1134",
   "metadata": {},
   "outputs": [],
   "source": [
    "from pyspark.ml.classification import RandomForestClassifier\n",
    "randomForest = RandomForestClassifier(featuresCol = 'features',labelCol = 'label')\n",
    "rf_model= randomForest.fit(train)"
   ]
  },
  {
   "cell_type": "code",
   "execution_count": 72,
   "id": "51351e6f",
   "metadata": {},
   "outputs": [],
   "source": [
    "predictions =  rf_model.transform(test)"
   ]
  },
  {
   "cell_type": "code",
   "execution_count": 74,
   "id": "c1cfd85a",
   "metadata": {
    "collapsed": true
   },
   "outputs": [
    {
     "name": "stdout",
     "output_type": "stream",
     "text": [
      "+-----+----------------------------------------+----------+\n",
      "|label|probability                             |prediction|\n",
      "+-----+----------------------------------------+----------+\n",
      "|1.0  |[0.3176730601188934,0.6823269398811065] |1.0       |\n",
      "|1.0  |[0.3176730601188934,0.6823269398811065] |1.0       |\n",
      "|0.0  |[0.4137422580434661,0.5862577419565339] |1.0       |\n",
      "|1.0  |[0.3373973382031844,0.6626026617968155] |1.0       |\n",
      "|0.0  |[0.3760353877876359,0.6239646122123641] |1.0       |\n",
      "|0.0  |[0.43723714074113973,0.5627628592588602]|1.0       |\n",
      "|1.0  |[0.33893153812603594,0.6610684618739641]|1.0       |\n",
      "|1.0  |[0.33893153812603594,0.6610684618739641]|1.0       |\n",
      "|0.0  |[0.4827059064806817,0.5172940935193183] |1.0       |\n",
      "|1.0  |[0.6562348165530641,0.34376518344693585]|0.0       |\n",
      "|0.0  |[0.6749693449354799,0.32503065506452017]|0.0       |\n",
      "|1.0  |[0.30600459653339485,0.6939954034666052]|1.0       |\n",
      "|1.0  |[0.3633866573953637,0.6366133426046362] |1.0       |\n",
      "|1.0  |[0.32726307454053727,0.6727369254594627]|1.0       |\n",
      "|1.0  |[0.3221274453960635,0.6778725546039364] |1.0       |\n",
      "|1.0  |[0.36887572369305194,0.631124276306948] |1.0       |\n",
      "|1.0  |[0.357973167938475,0.6420268320615251]  |1.0       |\n",
      "|1.0  |[0.31837088877773584,0.6816291112222641]|1.0       |\n",
      "|0.0  |[0.3929272121496249,0.6070727878503751] |1.0       |\n",
      "|0.0  |[0.6948470195431818,0.3051529804568181] |0.0       |\n",
      "+-----+----------------------------------------+----------+\n",
      "only showing top 20 rows\n",
      "\n"
     ]
    }
   ],
   "source": [
    "predictions.select(['label','probability', 'prediction']).show(truncate=False)"
   ]
  },
  {
   "cell_type": "code",
   "execution_count": 75,
   "id": "6a657f70",
   "metadata": {},
   "outputs": [
    {
     "data": {
      "text/plain": [
       "0.7941176470588235"
      ]
     },
     "execution_count": 75,
     "metadata": {},
     "output_type": "execute_result"
    }
   ],
   "source": [
    "from pyspark.ml.evaluation import MulticlassClassificationEvaluator\n",
    "evaluator = MulticlassClassificationEvaluator(labelCol = 'label', predictionCol = 'prediction',\n",
    "                                             metricName = 'accuracy')\n",
    "accuracy = evaluator.evaluate(predictions)\n",
    "accuracy"
   ]
  },
  {
   "cell_type": "markdown",
   "id": "7cba1801",
   "metadata": {},
   "source": [
    "#### Logistic Regression ML Model"
   ]
  },
  {
   "cell_type": "code",
   "execution_count": 73,
   "id": "f04bcf35",
   "metadata": {},
   "outputs": [],
   "source": [
    "from pyspark.ml.classification import LogisticRegression\n",
    "logistic = LogisticRegression(featuresCol = 'features',labelCol = 'label')\n",
    "logit_model= logistic.fit(train)"
   ]
  },
  {
   "cell_type": "code",
   "execution_count": 76,
   "id": "a16c9aa0",
   "metadata": {},
   "outputs": [],
   "source": [
    "predictions =  logit_model.transform(test)"
   ]
  },
  {
   "cell_type": "code",
   "execution_count": 77,
   "id": "fa0f8f40",
   "metadata": {
    "collapsed": true
   },
   "outputs": [
    {
     "name": "stdout",
     "output_type": "stream",
     "text": [
      "+-----+----------------------------------------+----------+\n",
      "|label|probability                             |prediction|\n",
      "+-----+----------------------------------------+----------+\n",
      "|1.0  |[0.29707083712442606,0.7029291628755739]|1.0       |\n",
      "|1.0  |[0.299840507280267,0.700159492719733]   |1.0       |\n",
      "|0.0  |[0.3298114042006738,0.6701885957993262] |1.0       |\n",
      "|1.0  |[0.4022680279633068,0.5977319720366933] |1.0       |\n",
      "|0.0  |[0.4067777874729466,0.5932222125270534] |1.0       |\n",
      "|0.0  |[0.40622995954400115,0.5937700404559989]|1.0       |\n",
      "|1.0  |[0.37565761124560076,0.6243423887543992]|1.0       |\n",
      "|1.0  |[0.38125841120801496,0.618741588791985] |1.0       |\n",
      "|0.0  |[0.5455246981098829,0.45447530189011703]|0.0       |\n",
      "|1.0  |[0.625230253385939,0.3747697466140611]  |0.0       |\n",
      "|0.0  |[0.8168379835185562,0.18316201648144387]|0.0       |\n",
      "|1.0  |[0.25966028549346903,0.7403397145065309]|1.0       |\n",
      "|1.0  |[0.3360738330216257,0.6639261669783743] |1.0       |\n",
      "|1.0  |[0.34609089878034405,0.6539091012196561]|1.0       |\n",
      "|1.0  |[0.25881721935359575,0.7411827806464042]|1.0       |\n",
      "|1.0  |[0.2976124321492481,0.7023875678507518] |1.0       |\n",
      "|1.0  |[0.335987908172199,0.6640120918278011]  |1.0       |\n",
      "|1.0  |[0.22606981308665058,0.7739301869133495]|1.0       |\n",
      "|0.0  |[0.4153444576951642,0.5846555423048357] |1.0       |\n",
      "|0.0  |[0.6011986499669818,0.3988013500330182] |0.0       |\n",
      "+-----+----------------------------------------+----------+\n",
      "only showing top 20 rows\n",
      "\n"
     ]
    }
   ],
   "source": [
    "predictions.select(['label','probability', 'prediction']).show(truncate=False)"
   ]
  },
  {
   "cell_type": "code",
   "execution_count": 78,
   "id": "479aaf21",
   "metadata": {},
   "outputs": [
    {
     "data": {
      "text/plain": [
       "0.8144796380090498"
      ]
     },
     "execution_count": 78,
     "metadata": {},
     "output_type": "execute_result"
    }
   ],
   "source": [
    "from pyspark.ml.evaluation import MulticlassClassificationEvaluator\n",
    "evaluator = MulticlassClassificationEvaluator(labelCol = 'label', predictionCol = 'prediction',\n",
    "                                             metricName = 'accuracy')\n",
    "accuracy = evaluator.evaluate(predictions)\n",
    "accuracy"
   ]
  },
  {
   "cell_type": "code",
   "execution_count": null,
   "id": "6bf73058",
   "metadata": {},
   "outputs": [],
   "source": []
  }
 ],
 "metadata": {
  "kernelspec": {
   "display_name": "Python 3",
   "language": "python",
   "name": "python3"
  },
  "language_info": {
   "codemirror_mode": {
    "name": "ipython",
    "version": 3
   },
   "file_extension": ".py",
   "mimetype": "text/x-python",
   "name": "python",
   "nbconvert_exporter": "python",
   "pygments_lexer": "ipython3",
   "version": "3.6.9"
  }
 },
 "nbformat": 4,
 "nbformat_minor": 5
}
