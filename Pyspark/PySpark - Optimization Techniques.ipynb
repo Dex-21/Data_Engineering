{
 "cells": [
  {
   "cell_type": "code",
   "execution_count": 1,
   "id": "0dc060b1",
   "metadata": {
    "collapsed": true
   },
   "outputs": [
    {
     "data": {
      "text/html": [
       "\n",
       "        <div>\n",
       "            <p><b>SparkContext</b></p>\n",
       "\n",
       "            <p><a href=\"http://10.0.2.15:4041\">Spark UI</a></p>\n",
       "\n",
       "            <dl>\n",
       "              <dt>Version</dt>\n",
       "                <dd><code>v2.4.8</code></dd>\n",
       "              <dt>Master</dt>\n",
       "                <dd><code>local[*]</code></dd>\n",
       "              <dt>AppName</dt>\n",
       "                <dd><code>PySparkShell</code></dd>\n",
       "            </dl>\n",
       "        </div>\n",
       "        "
      ],
      "text/plain": [
       "<SparkContext master=local[*] appName=PySparkShell>"
      ]
     },
     "execution_count": 1,
     "metadata": {},
     "output_type": "execute_result"
    }
   ],
   "source": [
    "sc\n"
   ]
  },
  {
   "cell_type": "code",
   "execution_count": 2,
   "id": "c0979129",
   "metadata": {
    "collapsed": true
   },
   "outputs": [
    {
     "data": {
      "text/html": [
       "\n",
       "            <div>\n",
       "                <p><b>SparkSession - hive</b></p>\n",
       "                \n",
       "        <div>\n",
       "            <p><b>SparkContext</b></p>\n",
       "\n",
       "            <p><a href=\"http://10.0.2.15:4041\">Spark UI</a></p>\n",
       "\n",
       "            <dl>\n",
       "              <dt>Version</dt>\n",
       "                <dd><code>v2.4.8</code></dd>\n",
       "              <dt>Master</dt>\n",
       "                <dd><code>local[*]</code></dd>\n",
       "              <dt>AppName</dt>\n",
       "                <dd><code>PySparkShell</code></dd>\n",
       "            </dl>\n",
       "        </div>\n",
       "        \n",
       "            </div>\n",
       "        "
      ],
      "text/plain": [
       "<pyspark.sql.session.SparkSession at 0x7f0ce3dcb518>"
      ]
     },
     "execution_count": 2,
     "metadata": {},
     "output_type": "execute_result"
    }
   ],
   "source": [
    "spark"
   ]
  },
  {
   "cell_type": "code",
   "execution_count": 3,
   "id": "5f57beea",
   "metadata": {},
   "outputs": [],
   "source": [
    "hr_employee = spark.read.csv(\"file:///home/hadoop/Downloads/HR_Employee.csv\", inferSchema = True, header = True)"
   ]
  },
  {
   "cell_type": "code",
   "execution_count": 4,
   "id": "a2854b23",
   "metadata": {
    "collapsed": true
   },
   "outputs": [
    {
     "name": "stdout",
     "output_type": "stream",
     "text": [
      "root\n",
      " |-- EmployeeID: integer (nullable = true)\n",
      " |-- Department: string (nullable = true)\n",
      " |-- JobRole: string (nullable = true)\n",
      " |-- Attrition: string (nullable = true)\n",
      " |-- Gender: string (nullable = true)\n",
      " |-- Age: integer (nullable = true)\n",
      " |-- MaritalStatus: string (nullable = true)\n",
      " |-- Education: string (nullable = true)\n",
      " |-- EducationField: string (nullable = true)\n",
      " |-- BusinessTravel: string (nullable = true)\n",
      " |-- JobInvolvement: string (nullable = true)\n",
      " |-- JobLevel: integer (nullable = true)\n",
      " |-- JobSatisfaction: string (nullable = true)\n",
      " |-- Hourlyrate: integer (nullable = true)\n",
      " |-- Income: integer (nullable = true)\n",
      " |-- Salaryhike: integer (nullable = true)\n",
      " |-- OverTime: string (nullable = true)\n",
      " |-- Workex: integer (nullable = true)\n",
      " |-- YearsSinceLastPromotion: integer (nullable = true)\n",
      " |-- EmpSatisfaction: string (nullable = true)\n",
      " |-- TrainingTimesLastYear: integer (nullable = true)\n",
      " |-- WorkLifeBalance: string (nullable = true)\n",
      " |-- Performance_Rating: string (nullable = true)\n",
      "\n"
     ]
    }
   ],
   "source": [
    "hr_employee.printSchema()"
   ]
  },
  {
   "cell_type": "markdown",
   "id": "8928cf84",
   "metadata": {},
   "source": [
    "#### 1.BigData File Types\n",
    "    *Parquet File Format - Records are stored columunar format , this file format compress dataset of .csv of structured format into parquet format. Parquet format is good for query type of response.\n",
    "    * AVRO File Format - Row based , faster read and write .Used widely for serialization , Stores schema in JSON format. There is no compression in this file format.\n",
    "    * ORC File Format"
   ]
  },
  {
   "cell_type": "code",
   "execution_count": 6,
   "id": "898588e8",
   "metadata": {},
   "outputs": [
    {
     "data": {
      "text/plain": [
       "1"
      ]
     },
     "execution_count": 6,
     "metadata": {},
     "output_type": "execute_result"
    }
   ],
   "source": [
    "hr_employee.rdd.getNumPartitions()"
   ]
  },
  {
   "cell_type": "code",
   "execution_count": 5,
   "id": "2b6b0037",
   "metadata": {},
   "outputs": [],
   "source": [
    "hr_employee.write.parquet(\"file:///home/hadoop/Downloads/HR_Parquet\")"
   ]
  },
  {
   "cell_type": "code",
   "execution_count": 7,
   "id": "657502d4",
   "metadata": {},
   "outputs": [],
   "source": [
    "hr_employee.write.orc(\"/HR_orc\")"
   ]
  },
  {
   "cell_type": "code",
   "execution_count": 9,
   "id": "36d81e5d",
   "metadata": {
    "collapsed": true
   },
   "outputs": [
    {
     "name": "stdout",
     "output_type": "stream",
     "text": [
      "+----------+--------------------+--------------------+---------+------+---+-------------+-------------+--------------+-----------------+--------------+--------+---------------+----------+------+----------+--------+------+-----------------------+---------------+---------------------+---------------+------------------+\n",
      "|EmployeeID|          Department|             JobRole|Attrition|Gender|Age|MaritalStatus|    Education|EducationField|   BusinessTravel|JobInvolvement|JobLevel|JobSatisfaction|Hourlyrate|Income|Salaryhike|OverTime|Workex|YearsSinceLastPromotion|EmpSatisfaction|TrainingTimesLastYear|WorkLifeBalance|Performance_Rating|\n",
      "+----------+--------------------+--------------------+---------+------+---+-------------+-------------+--------------+-----------------+--------------+--------+---------------+----------+------+----------+--------+------+-----------------------+---------------+---------------------+---------------+------------------+\n",
      "|         1|               Sales|     Sales Executive|      Yes|Female| 41|       Single|      College| Life Sciences|    Travel_Rarely|          High|       2|      Very High|        94|  5993|        11|     Yes|     8|                      0|         Medium|                    0|            Bad|         Excellent|\n",
      "|         2|Research & Develo...|  Research Scientist|       No|  Male| 49|      Married|Below College| Life Sciences|Travel_Frequently|        Medium|       2|         Medium|        61|  5130|        23|      No|    10|                      1|           High|                    3|         Better|       Outstanding|\n",
      "|         3|Research & Develo...|Laboratory Techni...|      Yes|  Male| 37|       Single|      College|         Other|    Travel_Rarely|        Medium|       1|           High|        92|  2090|        15|     Yes|     7|                      0|      Very High|                    3|         Better|         Excellent|\n",
      "|         4|Research & Develo...|  Research Scientist|       No|Female| 33|      Married|       Master| Life Sciences|Travel_Frequently|          High|       1|           High|        56|  2909|        11|     Yes|     8|                      3|      Very High|                    3|         Better|         Excellent|\n",
      "|         5|Research & Develo...|Laboratory Techni...|       No|  Male| 27|      Married|Below College|       Medical|    Travel_Rarely|          High|       1|         Medium|        40|  3468|        12|      No|     6|                      2|            Low|                    3|         Better|         Excellent|\n",
      "+----------+--------------------+--------------------+---------+------+---+-------------+-------------+--------------+-----------------+--------------+--------+---------------+----------+------+----------+--------+------+-----------------------+---------------+---------------------+---------------+------------------+\n",
      "only showing top 5 rows\n",
      "\n"
     ]
    }
   ],
   "source": [
    "spark.read.orc(\"/HR_orc\").show(5)"
   ]
  },
  {
   "cell_type": "markdown",
   "id": "c7b7a229",
   "metadata": {},
   "source": [
    "#### Optimization Techniques\n",
    "    *Optimizing Spark jobs can significantly improve performance of Spark Running queries, Spark Jobs"
   ]
  },
  {
   "cell_type": "markdown",
   "id": "e035fe7c",
   "metadata": {},
   "source": [
    "#### 2.Partitioning\n",
    "    * Partitioning divides data into smaller chunks, which can be processed parallely."
   ]
  },
  {
   "cell_type": "code",
   "execution_count": 10,
   "id": "9d6c346a",
   "metadata": {},
   "outputs": [
    {
     "data": {
      "text/plain": [
       "1"
      ]
     },
     "execution_count": 10,
     "metadata": {},
     "output_type": "execute_result"
    }
   ],
   "source": [
    "hr_employee.rdd.getNumPartitions()"
   ]
  },
  {
   "cell_type": "code",
   "execution_count": 12,
   "id": "90d4fdce",
   "metadata": {},
   "outputs": [],
   "source": [
    "partitioned_df = hr_employee.repartition(3)"
   ]
  },
  {
   "cell_type": "code",
   "execution_count": 13,
   "id": "9df9acf0",
   "metadata": {},
   "outputs": [],
   "source": [
    "partitioned_df.write.parquet(\"/HR_Partition\")"
   ]
  },
  {
   "cell_type": "markdown",
   "id": "480423cb",
   "metadata": {},
   "source": [
    "#### 3.Caching & Persistance\n",
    "    * Managing different level of Storages"
   ]
  },
  {
   "cell_type": "code",
   "execution_count": 14,
   "id": "6a9b2e5e",
   "metadata": {},
   "outputs": [
    {
     "data": {
      "text/plain": [
       "DataFrame[EmployeeID: int, Department: string, JobRole: string, Attrition: string, Gender: string, Age: int, MaritalStatus: string, Education: string, EducationField: string, BusinessTravel: string, JobInvolvement: string, JobLevel: int, JobSatisfaction: string, Hourlyrate: int, Income: int, Salaryhike: int, OverTime: string, Workex: int, YearsSinceLastPromotion: int, EmpSatisfaction: string, TrainingTimesLastYear: int, WorkLifeBalance: string, Performance_Rating: string]"
      ]
     },
     "execution_count": 14,
     "metadata": {},
     "output_type": "execute_result"
    }
   ],
   "source": [
    "#In-Memory cache storage\n",
    "hr_employee.cache()"
   ]
  },
  {
   "cell_type": "code",
   "execution_count": 16,
   "id": "e6d9b0d9",
   "metadata": {},
   "outputs": [],
   "source": [
    "#Persistance of Dataframe with specific type of storage options like - memory only, memory ser, memory and disk\n",
    "from pyspark import StorageLevel\n",
    "hr_employee1 =  hr_employee.persist(StorageLevel.MEMORY_AND_DISK)"
   ]
  },
  {
   "cell_type": "code",
   "execution_count": 17,
   "id": "fa833b7a",
   "metadata": {},
   "outputs": [],
   "source": [
    "hr_employee2 =  hr_employee.persist(StorageLevel.MEMORY_ONLY_SER)"
   ]
  },
  {
   "cell_type": "markdown",
   "id": "58277ce0",
   "metadata": {},
   "source": [
    "#### 4. Serialization\n",
    "    * Efficient serialization reduces time to read/write and transfer it over network.\n",
    "    Java Serialization , Kyro Serialization ispopular serialization method for better performance over default java serialization."
   ]
  },
  {
   "cell_type": "markdown",
   "id": "f69e1fb3",
   "metadata": {},
   "source": [
    "a) JavaSerialization :\n",
    "* It is default serialization method. It is easy to use but drwaback is it will slow down the read,write process."
   ]
  },
  {
   "cell_type": "code",
   "execution_count": 18,
   "id": "dd362817",
   "metadata": {},
   "outputs": [],
   "source": [
    "from pyspark import SparkContext, SparkConf\n",
    "from pyspark.sql import SparkSession"
   ]
  },
  {
   "cell_type": "code",
   "execution_count": 19,
   "id": "1fe768ac",
   "metadata": {},
   "outputs": [],
   "source": [
    "spark = SparkSession.builder.appName(\"Java Serialization\").getOrCreate()"
   ]
  },
  {
   "cell_type": "code",
   "execution_count": 20,
   "id": "e37bb108",
   "metadata": {},
   "outputs": [],
   "source": [
    "spark.stop()"
   ]
  },
  {
   "cell_type": "code",
   "execution_count": 32,
   "id": "961bc0ef",
   "metadata": {},
   "outputs": [],
   "source": [
    "spark = SparkSession.builder.appName(\"JPySpark Serialization\")\\\n",
    ".config(\"spark.serializer\",\"org.apache.spark.serializer.JavaSerializer\").getOrCreate()"
   ]
  },
  {
   "cell_type": "code",
   "execution_count": 33,
   "id": "b4891773",
   "metadata": {},
   "outputs": [
    {
     "data": {
      "text/html": [
       "\n",
       "            <div>\n",
       "                <p><b>SparkSession - hive</b></p>\n",
       "                \n",
       "        <div>\n",
       "            <p><b>SparkContext</b></p>\n",
       "\n",
       "            <p><a href=\"http://10.0.2.15:4040\">Spark UI</a></p>\n",
       "\n",
       "            <dl>\n",
       "              <dt>Version</dt>\n",
       "                <dd><code>v2.4.8</code></dd>\n",
       "              <dt>Master</dt>\n",
       "                <dd><code>local[*]</code></dd>\n",
       "              <dt>AppName</dt>\n",
       "                <dd><code>JPySpark Serialization</code></dd>\n",
       "            </dl>\n",
       "        </div>\n",
       "        \n",
       "            </div>\n",
       "        "
      ],
      "text/plain": [
       "<pyspark.sql.session.SparkSession at 0x7f0ce0bc9588>"
      ]
     },
     "execution_count": 33,
     "metadata": {},
     "output_type": "execute_result"
    }
   ],
   "source": [
    "spark"
   ]
  },
  {
   "cell_type": "markdown",
   "id": "850a20ad",
   "metadata": {},
   "source": [
    "b) Kyro Serialization: Faster, More compact than Java Serialization"
   ]
  },
  {
   "cell_type": "code",
   "execution_count": 24,
   "id": "b9bceed5",
   "metadata": {},
   "outputs": [],
   "source": [
    "spark = SparkSession.builder\\\n",
    ".config(\"spark.serializer\",\"org.apache.spark.serializer.KyroSerializer\")\\\n",
    ".config(\"spark.kyro.registrationRequired\", \"true\")\\\n",
    ".config(\"spark.kyro.classesToRegister\",\"org.apache.spark.example.Person\")\\\n",
    ".appName(\"Kyro Serialization\").getOrCreate()"
   ]
  },
  {
   "cell_type": "markdown",
   "id": "7781b2a7",
   "metadata": {},
   "source": [
    "#### 5.Broadcast Join\n",
    "    *Broadcast small datasets improves join performance."
   ]
  },
  {
   "cell_type": "code",
   "execution_count": 40,
   "id": "07adc4c6",
   "metadata": {},
   "outputs": [],
   "source": [
    "small_df = spark.read.csv(\"file:///home/hadoop/Downloads/airports.csv\", inferSchema = True, header =True)\n",
    "df = spark.read.csv(\"file:///home/hadoop/Downloads/raw_flight_data.csv\", inferSchema =True, header=True)"
   ]
  },
  {
   "cell_type": "code",
   "execution_count": 41,
   "id": "66d4bd46",
   "metadata": {},
   "outputs": [],
   "source": [
    "from pyspark.sql.functions import broadcast\n",
    "broadcast_df = broadcast(small_df)"
   ]
  },
  {
   "cell_type": "code",
   "execution_count": 1,
   "id": "caa7f67b",
   "metadata": {
    "collapsed": true
   },
   "outputs": [
    {
     "ename": "NameError",
     "evalue": "name 'broadcast_df' is not defined",
     "output_type": "error",
     "traceback": [
      "\u001b[0;31m---------------------------------------------------------------------------\u001b[0m",
      "\u001b[0;31mNameError\u001b[0m                                 Traceback (most recent call last)",
      "\u001b[0;32m<ipython-input-1-f55d0c9db556>\u001b[0m in \u001b[0;36m<module>\u001b[0;34m\u001b[0m\n\u001b[0;32m----> 1\u001b[0;31m \u001b[0mbroadcast_df\u001b[0m \u001b[0;34m=\u001b[0m \u001b[0mbroadcast_df\u001b[0m\u001b[0;34m.\u001b[0m\u001b[0mcache\u001b[0m\u001b[0;34m(\u001b[0m\u001b[0;34m)\u001b[0m\u001b[0;34m\u001b[0m\u001b[0;34m\u001b[0m\u001b[0m\n\u001b[0m\u001b[1;32m      2\u001b[0m \u001b[0mdf\u001b[0m \u001b[0;34m=\u001b[0m \u001b[0mdf\u001b[0m\u001b[0;34m.\u001b[0m\u001b[0mcache\u001b[0m\u001b[0;34m(\u001b[0m\u001b[0;34m)\u001b[0m\u001b[0;34m\u001b[0m\u001b[0;34m\u001b[0m\u001b[0m\n",
      "\u001b[0;31mNameError\u001b[0m: name 'broadcast_df' is not defined"
     ]
    }
   ],
   "source": [
    "broadcast_df = broadcast_df.cache()\n",
    "df = df.cache()"
   ]
  },
  {
   "cell_type": "code",
   "execution_count": 46,
   "id": "edadc79f",
   "metadata": {},
   "outputs": [],
   "source": [
    "#Broadcast join\n",
    "airport_df = df.join(broadcast_df, df.OriginAirportID == broadcast_df.airport_id)"
   ]
  },
  {
   "cell_type": "code",
   "execution_count": 49,
   "id": "3d490b5b",
   "metadata": {},
   "outputs": [
    {
     "name": "stdout",
     "output_type": "stream",
     "text": [
      "+----------+---------+-------+---------------+-------------+--------+--------+----------+--------------+-----+--------------------+\n",
      "|DayofMonth|DayOfWeek|Carrier|OriginAirportID|DestAirportID|DepDelay|ArrDelay|airport_id|          city|state|                name|\n",
      "+----------+---------+-------+---------------+-------------+--------+--------+----------+--------------+-----+--------------------+\n",
      "|        19|        5|     DL|          11433|        13303|      -3|       1|     11433|       Detroit|   MI|Detroit Metro Way...|\n",
      "|        19|        5|     DL|          14869|        12478|       0|      -8|     14869|Salt Lake City|   UT|Salt Lake City In...|\n",
      "|        19|        5|     DL|          14057|        14869|      -4|     -15|     14057|      Portland|   OR|Portland Internat...|\n",
      "|        19|        5|     DL|          15016|        11433|      28|      24|     15016|     St. Louis|   MO|Lambert-St. Louis...|\n",
      "|        19|        5|     DL|          11193|        12892|      -6|     -11|     11193|    Cincinnati|   OH|Cincinnati/Northe...|\n",
      "+----------+---------+-------+---------------+-------------+--------+--------+----------+--------------+-----+--------------------+\n",
      "only showing top 5 rows\n",
      "\n"
     ]
    }
   ],
   "source": [
    "airport_df.show(5)"
   ]
  },
  {
   "cell_type": "markdown",
   "id": "a200c0f3",
   "metadata": {},
   "source": [
    "#### 6.Level of Parallellism"
   ]
  },
  {
   "cell_type": "code",
   "execution_count": 51,
   "id": "210249ea",
   "metadata": {},
   "outputs": [],
   "source": [
    "#Adjust the level of parallelism based upon the cluster size\n",
    "spark.conf.set(\"spark.default.parallelism\", 100)"
   ]
  },
  {
   "cell_type": "markdown",
   "id": "cc94275f",
   "metadata": {},
   "source": [
    "#### 7. Avoid GroupByKey\n",
    "    * Use ReduceByKey or aggregrateByKey instead of GroupByKey() to reduce number of shuffle."
   ]
  },
  {
   "cell_type": "code",
   "execution_count": 53,
   "id": "c36ca83c",
   "metadata": {},
   "outputs": [
    {
     "data": {
      "text/plain": [
       "[('dosa', 2), ('idly', 6), ('vada', 8), ('rice', 1), ('coffee', 5)]"
      ]
     },
     "execution_count": 53,
     "metadata": {},
     "output_type": "execute_result"
    }
   ],
   "source": [
    "rdd = spark.sparkContext.parallelize([('dosa',2),('idly',3),('vada',5),('rice',1),\n",
    "                                    ('coffee',5),('idly',3),('vada',3)])\n",
    "rdd.groupByKey().mapValues(sum).collect()"
   ]
  },
  {
   "cell_type": "code",
   "execution_count": 54,
   "id": "739d84da",
   "metadata": {},
   "outputs": [
    {
     "data": {
      "text/plain": [
       "[('dosa', 2), ('idly', 6), ('vada', 8), ('rice', 1), ('coffee', 5)]"
      ]
     },
     "execution_count": 54,
     "metadata": {},
     "output_type": "execute_result"
    }
   ],
   "source": [
    "rdd.reduceByKey(lambda x,y : x+y).collect()"
   ]
  },
  {
   "cell_type": "code",
   "execution_count": 57,
   "id": "3f3a3539",
   "metadata": {
    "collapsed": true
   },
   "outputs": [
    {
     "name": "stdout",
     "output_type": "stream",
     "text": [
      "+------+-----------+\n",
      "| order|total_value|\n",
      "+------+-----------+\n",
      "|sweets|          3|\n",
      "|  vada|          8|\n",
      "|  dosa|          2|\n",
      "|  idly|          6|\n",
      "|  rice|          1|\n",
      "|coffee|          5|\n",
      "+------+-----------+\n",
      "\n"
     ]
    }
   ],
   "source": [
    "from pyspark.sql.functions import sum\n",
    "df = spark.createDataFrame([('dosa',2),('idly',3),('vada',5),('rice',1),\n",
    "                                    ('coffee',5),('idly',3),('vada',3),('sweets',3)],\n",
    "                          [\"order\",\"value\"])\n",
    "df.groupBy(\"order\").agg(sum(\"value\").alias(\"total_value\")).show()"
   ]
  },
  {
   "cell_type": "code",
   "execution_count": 58,
   "id": "6d51dd5a",
   "metadata": {},
   "outputs": [
    {
     "data": {
      "text/plain": [
       "[('dosa', 2),\n",
       " ('idly', 6),\n",
       " ('vada', 8),\n",
       " ('rice', 1),\n",
       " ('coffee', 5),\n",
       " ('sweets', 3)]"
      ]
     },
     "execution_count": 58,
     "metadata": {},
     "output_type": "execute_result"
    }
   ],
   "source": [
    "df.rdd.reduceByKey(lambda x,y : x+y).collect()"
   ]
  },
  {
   "cell_type": "markdown",
   "id": "d04998c6",
   "metadata": {},
   "source": [
    "#### 8. Reduce Shuffle\n",
    "    *Reduce the number of shuffles by optimizing transformations.\n",
    "    *Use reduceByKey() over groupByKey()\n",
    "    *Use map() and reduce() over groupby()"
   ]
  },
  {
   "cell_type": "markdown",
   "id": "d88642a3",
   "metadata": {},
   "source": [
    "#### 9.Repartition() & Coalesce()"
   ]
  },
  {
   "cell_type": "markdown",
   "id": "df919092",
   "metadata": {},
   "source": [
    "#### 10.Accumulators\n",
    "    * Use accumulators for optimizing aggregate information like count(), sum(), corr(), max(), std(), var() etc. \n",
    "    across all executers parallely executing tasks in multiple worker nodes.\n",
    "    * Accumulators are used for counting and sum."
   ]
  },
  {
   "cell_type": "code",
   "execution_count": 82,
   "id": "4323dc6b",
   "metadata": {},
   "outputs": [],
   "source": [
    "acc = spark.sparkContext.accumulator(0)"
   ]
  },
  {
   "cell_type": "code",
   "execution_count": 66,
   "id": "59d3bac7",
   "metadata": {},
   "outputs": [
    {
     "data": {
      "text/plain": [
       "pyspark.accumulators.Accumulator"
      ]
     },
     "execution_count": 66,
     "metadata": {},
     "output_type": "execute_result"
    }
   ],
   "source": [
    "type(acc)"
   ]
  },
  {
   "cell_type": "code",
   "execution_count": 78,
   "id": "4450a99c",
   "metadata": {},
   "outputs": [],
   "source": [
    "rdd = spark.sparkContext.parallelize([1,2,3,4,5,6,7,8,9])"
   ]
  },
  {
   "cell_type": "code",
   "execution_count": 83,
   "id": "3ae1cfbd",
   "metadata": {},
   "outputs": [],
   "source": [
    "#python udf\n",
    "def add(x):\n",
    "    acc.add(x)"
   ]
  },
  {
   "cell_type": "code",
   "execution_count": 84,
   "id": "4aa09d8f",
   "metadata": {},
   "outputs": [],
   "source": [
    "rdd.foreach(add)"
   ]
  },
  {
   "cell_type": "code",
   "execution_count": 85,
   "id": "ee30ddc4",
   "metadata": {},
   "outputs": [
    {
     "name": "stdout",
     "output_type": "stream",
     "text": [
      "45\n"
     ]
    }
   ],
   "source": [
    "print(acc.value)"
   ]
  },
  {
   "cell_type": "code",
   "execution_count": 74,
   "id": "aa7e386f",
   "metadata": {},
   "outputs": [],
   "source": [
    "def counter(x):\n",
    "    global acc\n",
    "    acc.add(1)\n",
    "    return x"
   ]
  },
  {
   "cell_type": "code",
   "execution_count": 86,
   "id": "97fe88e9",
   "metadata": {},
   "outputs": [
    {
     "data": {
      "text/plain": [
       "9"
      ]
     },
     "execution_count": 86,
     "metadata": {},
     "output_type": "execute_result"
    }
   ],
   "source": [
    "rdd.map(counter).count()"
   ]
  },
  {
   "cell_type": "markdown",
   "id": "da444f7c",
   "metadata": {},
   "source": [
    "#### 11.Bucketing\n",
    "     * Use bucketing to create buckets of large datasets for efficent query and joins."
   ]
  },
  {
   "cell_type": "code",
   "execution_count": null,
   "id": "b8ea526d",
   "metadata": {},
   "outputs": [],
   "source": []
  }
 ],
 "metadata": {
  "kernelspec": {
   "display_name": "Python 3",
   "language": "python",
   "name": "python3"
  },
  "language_info": {
   "codemirror_mode": {
    "name": "ipython",
    "version": 3
   },
   "file_extension": ".py",
   "mimetype": "text/x-python",
   "name": "python",
   "nbconvert_exporter": "python",
   "pygments_lexer": "ipython3",
   "version": "3.6.9"
  }
 },
 "nbformat": 4,
 "nbformat_minor": 5
}
