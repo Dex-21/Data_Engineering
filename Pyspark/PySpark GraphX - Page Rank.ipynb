{
 "cells": [
  {
   "cell_type": "code",
   "execution_count": 1,
   "id": "ce02d9e6",
   "metadata": {},
   "outputs": [
    {
     "data": {
      "text/html": [
       "\n",
       "        <div>\n",
       "            <p><b>SparkContext</b></p>\n",
       "\n",
       "            <p><a href=\"http://10.0.2.15:4040\">Spark UI</a></p>\n",
       "\n",
       "            <dl>\n",
       "              <dt>Version</dt>\n",
       "                <dd><code>v2.4.8</code></dd>\n",
       "              <dt>Master</dt>\n",
       "                <dd><code>local[*]</code></dd>\n",
       "              <dt>AppName</dt>\n",
       "                <dd><code>PySparkShell</code></dd>\n",
       "            </dl>\n",
       "        </div>\n",
       "        "
      ],
      "text/plain": [
       "<SparkContext master=local[*] appName=PySparkShell>"
      ]
     },
     "execution_count": 1,
     "metadata": {},
     "output_type": "execute_result"
    }
   ],
   "source": [
    "sc"
   ]
  },
  {
   "cell_type": "code",
   "execution_count": 3,
   "id": "fd482eda",
   "metadata": {},
   "outputs": [
    {
     "data": {
      "text/html": [
       "\n",
       "            <div>\n",
       "                <p><b>SparkSession - hive</b></p>\n",
       "                \n",
       "        <div>\n",
       "            <p><b>SparkContext</b></p>\n",
       "\n",
       "            <p><a href=\"http://10.0.2.15:4040\">Spark UI</a></p>\n",
       "\n",
       "            <dl>\n",
       "              <dt>Version</dt>\n",
       "                <dd><code>v2.4.8</code></dd>\n",
       "              <dt>Master</dt>\n",
       "                <dd><code>local[*]</code></dd>\n",
       "              <dt>AppName</dt>\n",
       "                <dd><code>PySparkShell</code></dd>\n",
       "            </dl>\n",
       "        </div>\n",
       "        \n",
       "            </div>\n",
       "        "
      ],
      "text/plain": [
       "<pyspark.sql.session.SparkSession at 0x7f82f3353550>"
      ]
     },
     "execution_count": 3,
     "metadata": {},
     "output_type": "execute_result"
    }
   ],
   "source": [
    "spark"
   ]
  },
  {
   "cell_type": "code",
   "execution_count": 4,
   "id": "eedc5621",
   "metadata": {},
   "outputs": [],
   "source": [
    "from pyspark.sql.functions import *\n"
   ]
  },
  {
   "cell_type": "code",
   "execution_count": 5,
   "id": "6d5f8dbf",
   "metadata": {},
   "outputs": [],
   "source": [
    "#load user data\n",
    "user_data = spark.read.csv(\"file:///home/hadoop/Downloads/users.txt\", inferSchema = True, header = True)\n",
    "\n",
    "#load followers data\n",
    "follower_data = spark.read.csv(\"file:///home/hadoop/Downloads/followers.txt\", inferSchema = True, header = True)"
   ]
  },
  {
   "cell_type": "markdown",
   "id": "ddcb5bd9",
   "metadata": {},
   "source": [
    "#### Setup Spark for Graph Frames"
   ]
  },
  {
   "cell_type": "code",
   "execution_count": 6,
   "id": "b2417b90",
   "metadata": {},
   "outputs": [
    {
     "name": "stdout",
     "output_type": "stream",
     "text": [
      "+-------+------------+------------+\n",
      "|user_id|   user_name|   full_name|\n",
      "+-------+------------+------------+\n",
      "|      1|amitmishra08| amit mishra|\n",
      "|      2|    sharon_1|sharon dcruz|\n",
      "|      3|   naveen007|naveen rajan|\n",
      "|      4|   allen_456|  allen bose|\n",
      "|      5|    siva2109|    siva rao|\n",
      "|      6| bhagya10200|      bhagya|\n",
      "|      7|  devika9091|   devika T.|\n",
      "|      8|   anonymous|          NA|\n",
      "+-------+------------+------------+\n",
      "\n"
     ]
    }
   ],
   "source": [
    "user_data.show()"
   ]
  },
  {
   "cell_type": "code",
   "execution_count": 7,
   "id": "78fbcee3",
   "metadata": {},
   "outputs": [
    {
     "name": "stdout",
     "output_type": "stream",
     "text": [
      "+-----------+-----------+\n",
      "|follower_id|followee_id|\n",
      "+-----------+-----------+\n",
      "|          1|          2|\n",
      "|          2|          3|\n",
      "|          2|          4|\n",
      "|          4|          2|\n",
      "|          3|          1|\n",
      "|          1|          4|\n",
      "|          4|          7|\n",
      "|          7|          8|\n",
      "|          1|          6|\n",
      "|          5|          6|\n",
      "|          6|          5|\n",
      "+-----------+-----------+\n",
      "\n"
     ]
    }
   ],
   "source": [
    "follower_data.show()"
   ]
  },
  {
   "cell_type": "code",
   "execution_count": 8,
   "id": "0b8711b6",
   "metadata": {},
   "outputs": [
    {
     "name": "stdout",
     "output_type": "stream",
     "text": [
      "Defaulting to user installation because normal site-packages is not writeable\n",
      "Requirement already satisfied: graphframes in ./.local/lib/python3.6/site-packages (0.6)\n",
      "Requirement already satisfied: numpy in ./.local/lib/python3.6/site-packages (from graphframes) (1.19.5)\n",
      "Requirement already satisfied: nose in ./.local/lib/python3.6/site-packages (from graphframes) (1.3.7)\n"
     ]
    }
   ],
   "source": [
    "!pip install graphframes"
   ]
  },
  {
   "cell_type": "code",
   "execution_count": 9,
   "id": "50d116b0",
   "metadata": {},
   "outputs": [],
   "source": [
    "from graphframes import GraphFrame"
   ]
  },
  {
   "cell_type": "code",
   "execution_count": 10,
   "id": "a19ebf12",
   "metadata": {},
   "outputs": [],
   "source": [
    "#Create vertices and edges of Graphframe\n",
    "vertices = user_data.withColumnRenamed(\"user_id\",\"id\").select(\"id\",\"user_name\")"
   ]
  },
  {
   "cell_type": "code",
   "execution_count": 19,
   "id": "f937cfad",
   "metadata": {},
   "outputs": [],
   "source": [
    "edges = follower_data.withColumnRenamed(\"follower_id\",\"src\").withColumnRenamed(\"followee_id\",\"dst\")\\\n",
    ".withColumnRenamed(\"frelationship\",\"relationship\")"
   ]
  },
  {
   "cell_type": "code",
   "execution_count": 20,
   "id": "06fd8724",
   "metadata": {},
   "outputs": [],
   "source": [
    "#Create a graph - property Graph using vertices and edges\n",
    "graph = GraphFrame(vertices, edges)"
   ]
  },
  {
   "cell_type": "code",
   "execution_count": 21,
   "id": "f08c5005",
   "metadata": {},
   "outputs": [],
   "source": [
    "#Run pageRank algorithm from GraphX\n",
    "ranks = graph.pageRank(resetProbability = 0.15, maxIter= 20)"
   ]
  },
  {
   "cell_type": "code",
   "execution_count": 22,
   "id": "a0ea77b3",
   "metadata": {},
   "outputs": [
    {
     "name": "stdout",
     "output_type": "stream",
     "text": [
      "+---+------------+------------------+\n",
      "| id|   user_name|          pagerank|\n",
      "+---+------------+------------------+\n",
      "|  2|    sharon_1|1.4200047973135044|\n",
      "|  4|   allen_456| 1.371072199568242|\n",
      "|  3|   naveen007| 1.371072199568242|\n",
      "|  1|amitmishra08|0.7675701607100025|\n",
      "|  6| bhagya10200|0.7675701607100025|\n",
      "|  7|  devika9091|0.7675701607100025|\n",
      "|  5|    siva2109|0.7675701607100025|\n",
      "|  8|   anonymous|0.7675701607100025|\n",
      "+---+------------+------------------+\n",
      "\n"
     ]
    }
   ],
   "source": [
    "ranks.vertices.orderBy(ranks.vertices.pagerank.desc()).show()"
   ]
  },
  {
   "cell_type": "code",
   "execution_count": 16,
   "id": "0c0e316a",
   "metadata": {
    "collapsed": true
   },
   "outputs": [
    {
     "name": "stdout",
     "output_type": "stream",
     "text": [
      "+---+------------+\n",
      "| id|   user_name|\n",
      "+---+------------+\n",
      "|  1|amitmishra08|\n",
      "|  2|    sharon_1|\n",
      "|  3|   naveen007|\n",
      "|  4|   allen_456|\n",
      "|  5|    siva2109|\n",
      "|  6| bhagya10200|\n",
      "|  7|  devika9091|\n",
      "|  8|   anonymous|\n",
      "+---+------------+\n",
      "\n"
     ]
    }
   ],
   "source": [
    "graph.vertices.show()"
   ]
  },
  {
   "cell_type": "code",
   "execution_count": 17,
   "id": "c1e3b941",
   "metadata": {
    "collapsed": true
   },
   "outputs": [
    {
     "name": "stdout",
     "output_type": "stream",
     "text": [
      "+---+---+\n",
      "|src|dst|\n",
      "+---+---+\n",
      "|  1|  2|\n",
      "|  2|  3|\n",
      "|  2|  4|\n",
      "|  4|  2|\n",
      "|  3|  1|\n",
      "|  1|  4|\n",
      "|  4|  7|\n",
      "|  7|  8|\n",
      "|  1|  6|\n",
      "|  5|  6|\n",
      "|  6|  5|\n",
      "+---+---+\n",
      "\n"
     ]
    }
   ],
   "source": [
    "graph.edges.show()"
   ]
  },
  {
   "cell_type": "markdown",
   "id": "e329a651",
   "metadata": {},
   "source": [
    "#### Create a Network Graph"
   ]
  },
  {
   "cell_type": "code",
   "execution_count": 23,
   "id": "9622eb49",
   "metadata": {
    "collapsed": true
   },
   "outputs": [
    {
     "name": "stdout",
     "output_type": "stream",
     "text": [
      "Defaulting to user installation because normal site-packages is not writeable\n",
      "Collecting networkx\n",
      "  Downloading networkx-2.5.1-py3-none-any.whl (1.6 MB)\n",
      "     |████████████████████████████████| 1.6 MB 1.9 MB/s            \n",
      "\u001b[?25hCollecting decorator<5,>=4.3\n",
      "  Downloading decorator-4.4.2-py2.py3-none-any.whl (9.2 kB)\n",
      "Installing collected packages: decorator, networkx\n",
      "  Attempting uninstall: decorator\n",
      "    Found existing installation: decorator 5.1.1\n",
      "    Uninstalling decorator-5.1.1:\n",
      "      Successfully uninstalled decorator-5.1.1\n",
      "Successfully installed decorator-4.4.2 networkx-2.5.1\n"
     ]
    }
   ],
   "source": [
    "!pip3 install networkx\n"
   ]
  },
  {
   "cell_type": "code",
   "execution_count": 24,
   "id": "f4c5fc3b",
   "metadata": {},
   "outputs": [],
   "source": [
    "import networkx as nx"
   ]
  },
  {
   "cell_type": "code",
   "execution_count": 28,
   "id": "31d9614f",
   "metadata": {},
   "outputs": [],
   "source": [
    "nx_graph = nx.DiGraph()\n",
    "edges_df = edges.toPandas()\n",
    "for _, row in edges_df.iterrows():\n",
    "    nx_graph.add_edge(row['src'],row['dst'])"
   ]
  },
  {
   "cell_type": "code",
   "execution_count": 31,
   "id": "805fa207",
   "metadata": {},
   "outputs": [
    {
     "data": {
      "image/png": "[encoded data removed]",
      "text/plain": [
       "<Figure size 432x288 with 1 Axes>"
      ]
     },
     "metadata": {},
     "output_type": "display_data"
    }
   ],
   "source": [
    "import matplotlib.pyplot as plt\n",
    "pos = nx.spring_layout(nx_graph)\n",
    "nx.draw(nx_graph, pos, with_labels =True , node_size = 2000, node_color = 'skyblue', font_size = 16, arrows =True)\n",
    "plt.show()"
   ]
  },
  {
   "cell_type": "code",
   "execution_count": null,
   "id": "ccacc7cf",
   "metadata": {},
   "outputs": [],
   "source": []
  }
 ],
 "metadata": {
  "kernelspec": {
   "display_name": "Python 3",
   "language": "python",
   "name": "python3"
  },
  "language_info": {
   "codemirror_mode": {
    "name": "ipython",
    "version": 3
   },
   "file_extension": ".py",
   "mimetype": "text/x-python",
   "name": "python",
   "nbconvert_exporter": "python",
   "pygments_lexer": "ipython3",
   "version": "3.6.9"
  }
 },
 "nbformat": 4,
 "nbformat_minor": 5
}
