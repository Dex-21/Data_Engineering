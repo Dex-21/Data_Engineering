{
 "cells": [
  {
   "cell_type": "code",
   "execution_count": 56,
   "id": "76256ff2",
   "metadata": {},
   "outputs": [
    {
     "data": {
      "text/html": [
       "\n",
       "        <div>\n",
       "            <p><b>SparkContext</b></p>\n",
       "\n",
       "            <p><a href=\"http://10.0.2.15:4040\">Spark UI</a></p>\n",
       "\n",
       "            <dl>\n",
       "              <dt>Version</dt>\n",
       "                <dd><code>v2.4.8</code></dd>\n",
       "              <dt>Master</dt>\n",
       "                <dd><code>local[4]</code></dd>\n",
       "              <dt>AppName</dt>\n",
       "                <dd><code>PySparkSession</code></dd>\n",
       "            </dl>\n",
       "        </div>\n",
       "        "
      ],
      "text/plain": [
       "<SparkContext master=local[4] appName=PySparkSession>"
      ]
     },
     "execution_count": 56,
     "metadata": {},
     "output_type": "execute_result"
    }
   ],
   "source": [
    "sc"
   ]
  },
  {
   "cell_type": "code",
   "execution_count": 57,
   "id": "e48592b5",
   "metadata": {},
   "outputs": [
    {
     "data": {
      "text/html": [
       "\n",
       "            <div>\n",
       "                <p><b>SparkSession - hive</b></p>\n",
       "                \n",
       "        <div>\n",
       "            <p><b>SparkContext</b></p>\n",
       "\n",
       "            <p><a href=\"http://10.0.2.15:4040\">Spark UI</a></p>\n",
       "\n",
       "            <dl>\n",
       "              <dt>Version</dt>\n",
       "                <dd><code>v2.4.8</code></dd>\n",
       "              <dt>Master</dt>\n",
       "                <dd><code>local[4]</code></dd>\n",
       "              <dt>AppName</dt>\n",
       "                <dd><code>PySparkSession</code></dd>\n",
       "            </dl>\n",
       "        </div>\n",
       "        \n",
       "            </div>\n",
       "        "
      ],
      "text/plain": [
       "<pyspark.sql.session.SparkSession at 0x7f88d0cac080>"
      ]
     },
     "execution_count": 57,
     "metadata": {},
     "output_type": "execute_result"
    }
   ],
   "source": [
    "spark"
   ]
  },
  {
   "cell_type": "markdown",
   "id": "e76c825a",
   "metadata": {},
   "source": [
    "#### 1. Create a New Spark Session Instance."
   ]
  },
  {
   "cell_type": "code",
   "execution_count": 58,
   "id": "4ee9ea47",
   "metadata": {},
   "outputs": [],
   "source": [
    "sc.stop()"
   ]
  },
  {
   "cell_type": "code",
   "execution_count": 59,
   "id": "a421dc0d",
   "metadata": {},
   "outputs": [],
   "source": [
    "from pyspark import SparkConf, SparkContext\n",
    "#setMaster() = Set Spark Content Manager which is local[cpu cores]\n",
    "config = SparkConf().setMaster('local[4]').setAppName(\"PySparkSession\")\n",
    "sc = SparkContext(conf = config)"
   ]
  },
  {
   "cell_type": "code",
   "execution_count": 60,
   "id": "bd15c826",
   "metadata": {},
   "outputs": [],
   "source": [
    "from pyspark.sql import SparkSession\n",
    "spark = SparkSession.builder.appName('SQLSession').getOrCreate()"
   ]
  },
  {
   "cell_type": "code",
   "execution_count": 61,
   "id": "11df287e",
   "metadata": {},
   "outputs": [
    {
     "data": {
      "text/html": [
       "\n",
       "            <div>\n",
       "                <p><b>SparkSession - hive</b></p>\n",
       "                \n",
       "        <div>\n",
       "            <p><b>SparkContext</b></p>\n",
       "\n",
       "            <p><a href=\"http://10.0.2.15:4040\">Spark UI</a></p>\n",
       "\n",
       "            <dl>\n",
       "              <dt>Version</dt>\n",
       "                <dd><code>v2.4.8</code></dd>\n",
       "              <dt>Master</dt>\n",
       "                <dd><code>local[4]</code></dd>\n",
       "              <dt>AppName</dt>\n",
       "                <dd><code>PySparkSession</code></dd>\n",
       "            </dl>\n",
       "        </div>\n",
       "        \n",
       "            </div>\n",
       "        "
      ],
      "text/plain": [
       "<pyspark.sql.session.SparkSession at 0x7f88b65a1160>"
      ]
     },
     "execution_count": 61,
     "metadata": {},
     "output_type": "execute_result"
    }
   ],
   "source": [
    "spark"
   ]
  },
  {
   "cell_type": "code",
   "execution_count": 62,
   "id": "8cfe7222",
   "metadata": {},
   "outputs": [
    {
     "data": {
      "text/html": [
       "\n",
       "        <div>\n",
       "            <p><b>SparkContext</b></p>\n",
       "\n",
       "            <p><a href=\"http://10.0.2.15:4040\">Spark UI</a></p>\n",
       "\n",
       "            <dl>\n",
       "              <dt>Version</dt>\n",
       "                <dd><code>v2.4.8</code></dd>\n",
       "              <dt>Master</dt>\n",
       "                <dd><code>local[4]</code></dd>\n",
       "              <dt>AppName</dt>\n",
       "                <dd><code>PySparkSession</code></dd>\n",
       "            </dl>\n",
       "        </div>\n",
       "        "
      ],
      "text/plain": [
       "<SparkContext master=local[4] appName=PySparkSession>"
      ]
     },
     "execution_count": 62,
     "metadata": {},
     "output_type": "execute_result"
    }
   ],
   "source": [
    "sc"
   ]
  },
  {
   "cell_type": "code",
   "execution_count": 63,
   "id": "704d4013",
   "metadata": {},
   "outputs": [
    {
     "name": "stdout",
     "output_type": "stream",
     "text": [
      "mkdir: `/flights': File exists\r\n"
     ]
    }
   ],
   "source": [
    "!hdfs dfs -mkdir /flights"
   ]
  },
  {
   "cell_type": "code",
   "execution_count": 64,
   "id": "a656dca7",
   "metadata": {},
   "outputs": [
    {
     "name": "stdout",
     "output_type": "stream",
     "text": [
      "put: `/flights/raw_flight_data.csv': File exists\r\n"
     ]
    }
   ],
   "source": [
    "!hdfs dfs -put /home/hadoop/Downloads/raw_flight_data.csv /flights"
   ]
  },
  {
   "cell_type": "code",
   "execution_count": 65,
   "id": "c7562d0b",
   "metadata": {},
   "outputs": [],
   "source": [
    "flights_df = spark.read.csv(\"hdfs://localhost:9000/flights/raw_flight_data.csv\", header=True, inferSchema = True)"
   ]
  },
  {
   "cell_type": "code",
   "execution_count": 66,
   "id": "5e58f803",
   "metadata": {},
   "outputs": [
    {
     "data": {
      "text/plain": [
       "[Row(DayofMonth=19, DayOfWeek=5, Carrier='DL', OriginAirportID=11433, DestAirportID=13303, DepDelay=-3, ArrDelay=1),\n",
       " Row(DayofMonth=19, DayOfWeek=5, Carrier='DL', OriginAirportID=14869, DestAirportID=12478, DepDelay=0, ArrDelay=-8),\n",
       " Row(DayofMonth=19, DayOfWeek=5, Carrier='DL', OriginAirportID=14057, DestAirportID=14869, DepDelay=-4, ArrDelay=-15),\n",
       " Row(DayofMonth=19, DayOfWeek=5, Carrier='DL', OriginAirportID=15016, DestAirportID=11433, DepDelay=28, ArrDelay=24),\n",
       " Row(DayofMonth=19, DayOfWeek=5, Carrier='DL', OriginAirportID=11193, DestAirportID=12892, DepDelay=-6, ArrDelay=-11)]"
      ]
     },
     "execution_count": 66,
     "metadata": {},
     "output_type": "execute_result"
    }
   ],
   "source": [
    "flights_df.head(5)"
   ]
  },
  {
   "cell_type": "code",
   "execution_count": 67,
   "id": "fef4c8c6",
   "metadata": {},
   "outputs": [
    {
     "name": "stdout",
     "output_type": "stream",
     "text": [
      "+----------+---------+-------+---------------+-------------+--------+--------+\n",
      "|DayofMonth|DayOfWeek|Carrier|OriginAirportID|DestAirportID|DepDelay|ArrDelay|\n",
      "+----------+---------+-------+---------------+-------------+--------+--------+\n",
      "|        19|        5|     DL|          11433|        13303|      -3|       1|\n",
      "|        19|        5|     DL|          14869|        12478|       0|      -8|\n",
      "|        19|        5|     DL|          14057|        14869|      -4|     -15|\n",
      "|        19|        5|     DL|          15016|        11433|      28|      24|\n",
      "|        19|        5|     DL|          11193|        12892|      -6|     -11|\n",
      "|        19|        5|     DL|          10397|        15016|      -1|     -19|\n",
      "|        19|        5|     DL|          15016|        10397|       0|      -1|\n",
      "|        19|        5|     DL|          10397|        14869|      15|      24|\n",
      "|        19|        5|     DL|          10397|        10423|      33|      34|\n",
      "|        19|        5|     DL|          11278|        10397|     323|     322|\n",
      "|        19|        5|     DL|          14107|        13487|      -7|     -13|\n",
      "|        19|        5|     DL|          11433|        11298|      22|      41|\n",
      "|        19|        5|     DL|          11298|        11433|      40|      20|\n",
      "|        19|        5|     DL|          11433|        12892|      -2|      -7|\n",
      "|        19|        5|     DL|          10397|        12451|      71|      75|\n",
      "|        19|        5|     DL|          12451|        10397|      75|      57|\n",
      "|        19|        5|     DL|          12953|        10397|      -1|      10|\n",
      "|        19|        5|     DL|          11433|        12953|      -3|     -10|\n",
      "|        19|        5|     DL|          10397|        14771|      31|      38|\n",
      "|        19|        5|     DL|          13204|        10397|       8|      25|\n",
      "+----------+---------+-------+---------------+-------------+--------+--------+\n",
      "only showing top 20 rows\n",
      "\n"
     ]
    }
   ],
   "source": [
    "#Show data in a tabular format- default 20 records\n",
    "flights_df.show()"
   ]
  },
  {
   "cell_type": "markdown",
   "id": "3b14957b",
   "metadata": {},
   "source": [
    "#### select -\n",
    "To select specific columns from DataFrame"
   ]
  },
  {
   "cell_type": "code",
   "execution_count": 68,
   "id": "e3df6b2f",
   "metadata": {},
   "outputs": [
    {
     "name": "stdout",
     "output_type": "stream",
     "text": [
      "+----------+-------+---------------+--------+\n",
      "|DayOfMonth|Carrier|OriginAirportID|DepDelay|\n",
      "+----------+-------+---------------+--------+\n",
      "|        19|     DL|          11433|      -3|\n",
      "|        19|     DL|          14869|       0|\n",
      "|        19|     DL|          14057|      -4|\n",
      "|        19|     DL|          15016|      28|\n",
      "|        19|     DL|          11193|      -6|\n",
      "|        19|     DL|          10397|      -1|\n",
      "|        19|     DL|          15016|       0|\n",
      "|        19|     DL|          10397|      15|\n",
      "|        19|     DL|          10397|      33|\n",
      "|        19|     DL|          11278|     323|\n",
      "|        19|     DL|          14107|      -7|\n",
      "|        19|     DL|          11433|      22|\n",
      "|        19|     DL|          11298|      40|\n",
      "|        19|     DL|          11433|      -2|\n",
      "|        19|     DL|          10397|      71|\n",
      "|        19|     DL|          12451|      75|\n",
      "|        19|     DL|          12953|      -1|\n",
      "|        19|     DL|          11433|      -3|\n",
      "|        19|     DL|          10397|      31|\n",
      "|        19|     DL|          13204|       8|\n",
      "+----------+-------+---------------+--------+\n",
      "only showing top 20 rows\n",
      "\n"
     ]
    }
   ],
   "source": [
    "flights_df.select(['DayOfMonth','Carrier','OriginAirportID','DepDelay']).show()"
   ]
  },
  {
   "cell_type": "markdown",
   "id": "ac7fd70c",
   "metadata": {},
   "source": [
    "#### distinct() - To sHow unique columns"
   ]
  },
  {
   "cell_type": "code",
   "execution_count": 69,
   "id": "d2131654",
   "metadata": {},
   "outputs": [
    {
     "name": "stdout",
     "output_type": "stream",
     "text": [
      "+-------+\n",
      "|Carrier|\n",
      "+-------+\n",
      "|     UA|\n",
      "|     AA|\n",
      "|     EV|\n",
      "|     B6|\n",
      "|     DL|\n",
      "|     OO|\n",
      "|     F9|\n",
      "|     YV|\n",
      "|     US|\n",
      "|     MQ|\n",
      "|     HA|\n",
      "|     AS|\n",
      "|     FL|\n",
      "|     VX|\n",
      "|     WN|\n",
      "|     9E|\n",
      "+-------+\n",
      "\n"
     ]
    }
   ],
   "source": [
    "flights_df.select(['Carrier']).distinct().show()"
   ]
  },
  {
   "cell_type": "code",
   "execution_count": 70,
   "id": "75bddd25",
   "metadata": {},
   "outputs": [
    {
     "data": {
      "text/plain": [
       "['DayofMonth',\n",
       " 'DayOfWeek',\n",
       " 'Carrier',\n",
       " 'OriginAirportID',\n",
       " 'DestAirportID',\n",
       " 'DepDelay',\n",
       " 'ArrDelay']"
      ]
     },
     "execution_count": 70,
     "metadata": {},
     "output_type": "execute_result"
    }
   ],
   "source": [
    "#columns - SHow list of all DataFrame columns\n",
    "flights_df.columns"
   ]
  },
  {
   "cell_type": "markdown",
   "id": "74886963",
   "metadata": {},
   "source": [
    "#### 2)Count() - Aggregate method to show count of dataframe/ count of values"
   ]
  },
  {
   "cell_type": "code",
   "execution_count": 71,
   "id": "17588e3f",
   "metadata": {},
   "outputs": [
    {
     "data": {
      "text/plain": [
       "2719418"
      ]
     },
     "execution_count": 71,
     "metadata": {},
     "output_type": "execute_result"
    }
   ],
   "source": [
    "flights_df.count()"
   ]
  },
  {
   "cell_type": "code",
   "execution_count": 72,
   "id": "6bceafcb",
   "metadata": {},
   "outputs": [
    {
     "data": {
      "text/plain": [
       "16"
      ]
     },
     "execution_count": 72,
     "metadata": {},
     "output_type": "execute_result"
    }
   ],
   "source": [
    "#show Total count of Distinct carrier\n",
    "flights_df.select(['Carrier']).distinct().count()"
   ]
  },
  {
   "cell_type": "markdown",
   "id": "549764fb",
   "metadata": {},
   "source": [
    "#### 3) printSchema()\n",
    "    *Methods print schema naMe and schema datatypes"
   ]
  },
  {
   "cell_type": "code",
   "execution_count": 73,
   "id": "587fdc11",
   "metadata": {},
   "outputs": [
    {
     "name": "stdout",
     "output_type": "stream",
     "text": [
      "root\n",
      " |-- DayofMonth: integer (nullable = true)\n",
      " |-- DayOfWeek: integer (nullable = true)\n",
      " |-- Carrier: string (nullable = true)\n",
      " |-- OriginAirportID: integer (nullable = true)\n",
      " |-- DestAirportID: integer (nullable = true)\n",
      " |-- DepDelay: integer (nullable = true)\n",
      " |-- ArrDelay: integer (nullable = true)\n",
      "\n"
     ]
    }
   ],
   "source": [
    "flights_df.printSchema()"
   ]
  },
  {
   "cell_type": "markdown",
   "id": "3b217200",
   "metadata": {},
   "source": [
    "#### 4) where()\n",
    "    * It is a filter method with Boolean conditions and statements"
   ]
  },
  {
   "cell_type": "code",
   "execution_count": 74,
   "id": "07cf071e",
   "metadata": {},
   "outputs": [
    {
     "data": {
      "text/plain": [
       "Row(DayofMonth=19, DayOfWeek=5, Carrier='DL', OriginAirportID=15016, DestAirportID=11433, DepDelay=28, ArrDelay=24)"
      ]
     },
     "execution_count": 74,
     "metadata": {},
     "output_type": "execute_result"
    }
   ],
   "source": [
    "flights_df.where(flights_df.DepDelay > 0).first()"
   ]
  },
  {
   "cell_type": "code",
   "execution_count": 75,
   "id": "26829316",
   "metadata": {},
   "outputs": [
    {
     "name": "stdout",
     "output_type": "stream",
     "text": [
      "+----------+---------+-------+---------------+-------------+--------+--------+\n",
      "|DayofMonth|DayOfWeek|Carrier|OriginAirportID|DestAirportID|DepDelay|ArrDelay|\n",
      "+----------+---------+-------+---------------+-------------+--------+--------+\n",
      "|        19|        5|     DL|          15016|        11433|      28|      24|\n",
      "|        19|        5|     DL|          10397|        14869|      15|      24|\n",
      "|        19|        5|     DL|          10397|        10423|      33|      34|\n",
      "|        19|        5|     DL|          11278|        10397|     323|     322|\n",
      "|        19|        5|     DL|          11433|        11298|      22|      41|\n",
      "|        19|        5|     DL|          11298|        11433|      40|      20|\n",
      "|        19|        5|     DL|          10397|        12451|      71|      75|\n",
      "|        19|        5|     DL|          12451|        10397|      75|      57|\n",
      "|        19|        5|     DL|          10397|        14771|      31|      38|\n",
      "|        19|        5|     DL|          13204|        10397|       8|      25|\n",
      "|        19|        5|     DL|          12889|        13487|       7|      16|\n",
      "|        19|        5|     DL|          14027|        10397|      13|      25|\n",
      "|        19|        5|     DL|          13244|        10397|       4|      13|\n",
      "|        19|        5|     DL|          12953|        11697|      12|      -8|\n",
      "|        19|        5|     DL|          10397|        12892|      15|       7|\n",
      "|        19|        5|     DL|          14747|        14869|      15|      18|\n",
      "|        19|        5|     DL|          10423|        10397|      56|      49|\n",
      "|        20|        6|     DL|          12892|        15304|      21|      -2|\n",
      "|        20|        6|     DL|          10397|        11193|      16|      -2|\n",
      "|        20|        6|     DL|          10397|        11278|       2|       1|\n",
      "+----------+---------+-------+---------------+-------------+--------+--------+\n",
      "only showing top 20 rows\n",
      "\n"
     ]
    }
   ],
   "source": [
    "flights_df.where(flights_df.DepDelay >0).show()"
   ]
  },
  {
   "cell_type": "code",
   "execution_count": 76,
   "id": "944d7f3f",
   "metadata": {},
   "outputs": [
    {
     "name": "stdout",
     "output_type": "stream",
     "text": [
      "+----------+---------+-------+---------------+-------------+--------+--------+\n",
      "|DayofMonth|DayOfWeek|Carrier|OriginAirportID|DestAirportID|DepDelay|ArrDelay|\n",
      "+----------+---------+-------+---------------+-------------+--------+--------+\n",
      "|        19|        5|     DL|          15016|        11433|      28|      24|\n",
      "|        19|        5|     DL|          10397|        14869|      15|      24|\n",
      "|        19|        5|     DL|          10397|        10423|      33|      34|\n",
      "|        19|        5|     DL|          11278|        10397|     323|     322|\n",
      "|        19|        5|     DL|          11433|        11298|      22|      41|\n",
      "|        19|        5|     DL|          11298|        11433|      40|      20|\n",
      "|        19|        5|     DL|          10397|        12451|      71|      75|\n",
      "|        19|        5|     DL|          12451|        10397|      75|      57|\n",
      "|        19|        5|     DL|          10397|        14771|      31|      38|\n",
      "|        19|        5|     DL|          13204|        10397|       8|      25|\n",
      "|        19|        5|     DL|          12889|        13487|       7|      16|\n",
      "|        19|        5|     DL|          14027|        10397|      13|      25|\n",
      "|        19|        5|     DL|          13244|        10397|       4|      13|\n",
      "|        19|        5|     DL|          10397|        12892|      15|       7|\n",
      "|        19|        5|     DL|          14747|        14869|      15|      18|\n",
      "|        19|        5|     DL|          10423|        10397|      56|      49|\n",
      "|        20|        6|     DL|          10397|        11278|       2|       1|\n",
      "|        20|        6|     DL|          11278|        10397|      34|      38|\n",
      "|        20|        6|     DL|          11697|        12953|      20|       1|\n",
      "|        20|        6|     DL|          13487|        13198|      35|      26|\n",
      "+----------+---------+-------+---------------+-------------+--------+--------+\n",
      "only showing top 20 rows\n",
      "\n"
     ]
    }
   ],
   "source": [
    "flights_df.where((flights_df.DepDelay >0) & (flights_df.ArrDelay >0)).show()"
   ]
  },
  {
   "cell_type": "markdown",
   "id": "f082d4fb",
   "metadata": {},
   "source": [
    "#### 5) Filter()"
   ]
  },
  {
   "cell_type": "code",
   "execution_count": 77,
   "id": "6e150715",
   "metadata": {},
   "outputs": [
    {
     "name": "stdout",
     "output_type": "stream",
     "text": [
      "+----------+---------+-------+---------------+-------------+--------+--------+\n",
      "|DayofMonth|DayOfWeek|Carrier|OriginAirportID|DestAirportID|DepDelay|ArrDelay|\n",
      "+----------+---------+-------+---------------+-------------+--------+--------+\n",
      "|        19|        5|     DL|          15016|        11433|      28|      24|\n",
      "|        19|        5|     DL|          10397|        14869|      15|      24|\n",
      "|        19|        5|     DL|          10397|        10423|      33|      34|\n",
      "|        19|        5|     DL|          11278|        10397|     323|     322|\n",
      "|        19|        5|     DL|          11433|        11298|      22|      41|\n",
      "|        19|        5|     DL|          11298|        11433|      40|      20|\n",
      "|        19|        5|     DL|          10397|        12451|      71|      75|\n",
      "|        19|        5|     DL|          12451|        10397|      75|      57|\n",
      "|        19|        5|     DL|          10397|        14771|      31|      38|\n",
      "|        19|        5|     DL|          13204|        10397|       8|      25|\n",
      "|        19|        5|     DL|          12889|        13487|       7|      16|\n",
      "|        19|        5|     DL|          14027|        10397|      13|      25|\n",
      "|        19|        5|     DL|          13244|        10397|       4|      13|\n",
      "|        19|        5|     DL|          10397|        12892|      15|       7|\n",
      "|        19|        5|     DL|          14747|        14869|      15|      18|\n",
      "|        19|        5|     DL|          10423|        10397|      56|      49|\n",
      "|        20|        6|     DL|          10397|        11278|       2|       1|\n",
      "|        20|        6|     DL|          11278|        10397|      34|      38|\n",
      "|        20|        6|     DL|          11697|        12953|      20|       1|\n",
      "|        20|        6|     DL|          13487|        13198|      35|      26|\n",
      "+----------+---------+-------+---------------+-------------+--------+--------+\n",
      "only showing top 20 rows\n",
      "\n"
     ]
    }
   ],
   "source": [
    "flights_df.filter((flights_df.DepDelay >0) & (flights_df.ArrDelay >0)).show()"
   ]
  },
  {
   "cell_type": "markdown",
   "id": "0f207640",
   "metadata": {},
   "source": [
    "#### 6) isin()\n",
    "    *Filter values from DataFRame by matching pattern"
   ]
  },
  {
   "cell_type": "code",
   "execution_count": 78,
   "id": "78b03455",
   "metadata": {},
   "outputs": [
    {
     "data": {
      "text/plain": [
       "Column<b'(Carrier IN (DL, F9, UA, 9E))'>"
      ]
     },
     "execution_count": 78,
     "metadata": {},
     "output_type": "execute_result"
    }
   ],
   "source": [
    "flights_df.Carrier.isin('DL','F9','UA','9E')"
   ]
  },
  {
   "cell_type": "code",
   "execution_count": 79,
   "id": "93bf7aeb",
   "metadata": {},
   "outputs": [
    {
     "name": "stdout",
     "output_type": "stream",
     "text": [
      "+----------+---------+-------+---------------+-------------+--------+--------+\n",
      "|DayofMonth|DayOfWeek|Carrier|OriginAirportID|DestAirportID|DepDelay|ArrDelay|\n",
      "+----------+---------+-------+---------------+-------------+--------+--------+\n",
      "|        19|        5|     DL|          11433|        13303|      -3|       1|\n",
      "|        19|        5|     DL|          14869|        12478|       0|      -8|\n",
      "|        19|        5|     DL|          14057|        14869|      -4|     -15|\n",
      "|        19|        5|     DL|          15016|        11433|      28|      24|\n",
      "|        19|        5|     DL|          11193|        12892|      -6|     -11|\n",
      "|        19|        5|     DL|          10397|        15016|      -1|     -19|\n",
      "|        19|        5|     DL|          15016|        10397|       0|      -1|\n",
      "|        19|        5|     DL|          10397|        14869|      15|      24|\n",
      "|        19|        5|     DL|          10397|        10423|      33|      34|\n",
      "|        19|        5|     DL|          11278|        10397|     323|     322|\n",
      "|        19|        5|     DL|          14107|        13487|      -7|     -13|\n",
      "|        19|        5|     DL|          11433|        11298|      22|      41|\n",
      "|        19|        5|     DL|          11298|        11433|      40|      20|\n",
      "|        19|        5|     DL|          11433|        12892|      -2|      -7|\n",
      "|        19|        5|     DL|          10397|        12451|      71|      75|\n",
      "|        19|        5|     DL|          12451|        10397|      75|      57|\n",
      "|        19|        5|     DL|          12953|        10397|      -1|      10|\n",
      "|        19|        5|     DL|          11433|        12953|      -3|     -10|\n",
      "|        19|        5|     DL|          10397|        14771|      31|      38|\n",
      "|        19|        5|     DL|          13204|        10397|       8|      25|\n",
      "+----------+---------+-------+---------------+-------------+--------+--------+\n",
      "only showing top 20 rows\n",
      "\n"
     ]
    }
   ],
   "source": [
    "flights_df.where(flights_df.Carrier.isin('DL','F9','UA','9E')).show()"
   ]
  },
  {
   "cell_type": "markdown",
   "id": "93bc9d52",
   "metadata": {},
   "source": [
    "*Read airports.csv files as Spark DataFrame"
   ]
  },
  {
   "cell_type": "code",
   "execution_count": 80,
   "id": "3592f483",
   "metadata": {},
   "outputs": [],
   "source": [
    "airports_df = spark.read.csv(\"file:///home/hadoop/Downloads/airports.csv\" , header = True , inferSchema = True)"
   ]
  },
  {
   "cell_type": "code",
   "execution_count": 81,
   "id": "b5da92cb",
   "metadata": {},
   "outputs": [
    {
     "name": "stdout",
     "output_type": "stream",
     "text": [
      "+----------+-----------+-----+--------------------+\n",
      "|airport_id|       city|state|                name|\n",
      "+----------+-----------+-----+--------------------+\n",
      "|     10165|Adak Island|   AK|                Adak|\n",
      "|     10299|  Anchorage|   AK|Ted Stevens Ancho...|\n",
      "|     10304|      Aniak|   AK|       Aniak Airport|\n",
      "|     10754|     Barrow|   AK|Wiley Post/Will R...|\n",
      "|     10551|     Bethel|   AK|      Bethel Airport|\n",
      "|     10926|    Cordova|   AK|Merle K Mudhole S...|\n",
      "|     14709|  Deadhorse|   AK|   Deadhorse Airport|\n",
      "|     11336| Dillingham|   AK|  Dillingham Airport|\n",
      "|     11630|  Fairbanks|   AK|Fairbanks Interna...|\n",
      "|     11997|   Gustavus|   AK|    Gustavus Airport|\n",
      "|     12523|     Juneau|   AK|Juneau International|\n",
      "|     12819|  Ketchikan|   AK|Ketchikan Interna...|\n",
      "|     10245|King Salmon|   AK| King Salmon Airport|\n",
      "|     10170|     Kodiak|   AK|      Kodiak Airport|\n",
      "|     13970|   Kotzebue|   AK| Ralph Wien Memorial|\n",
      "|     13873|       Nome|   AK|        Nome Airport|\n",
      "|     14256| Petersburg|   AK|Petersburg James ...|\n",
      "|     14828|      Sitka|   AK|Sitka Rocky Gutie...|\n",
      "|     12807| St. Mary's|   AK|  St. Mary's Airport|\n",
      "|     11445|   Unalaska|   AK|    Unalaska Airport|\n",
      "+----------+-----------+-----+--------------------+\n",
      "only showing top 20 rows\n",
      "\n"
     ]
    }
   ],
   "source": [
    "airports_df.show()"
   ]
  },
  {
   "cell_type": "markdown",
   "id": "59943a98",
   "metadata": {},
   "source": [
    "#### 7) Join()\n",
    "    * To join two or more than two dataframes using condition."
   ]
  },
  {
   "cell_type": "code",
   "execution_count": 82,
   "id": "ec16fdeb",
   "metadata": {},
   "outputs": [],
   "source": [
    "flightsAirportDF=flights_df.join(airports_df.select(['airport_id','name']), flights_df.OriginAirportID==airports_df.airport_id )"
   ]
  },
  {
   "cell_type": "code",
   "execution_count": 83,
   "id": "702bbd30",
   "metadata": {},
   "outputs": [
    {
     "name": "stdout",
     "output_type": "stream",
     "text": [
      "+----------+---------+-------+---------------+-------------+--------+--------+----------+--------------------+\n",
      "|DayofMonth|DayOfWeek|Carrier|OriginAirportID|DestAirportID|DepDelay|ArrDelay|airport_id|                name|\n",
      "+----------+---------+-------+---------------+-------------+--------+--------+----------+--------------------+\n",
      "|        19|        5|     DL|          11433|        13303|      -3|       1|     11433|Detroit Metro Way...|\n",
      "|        19|        5|     DL|          14869|        12478|       0|      -8|     14869|Salt Lake City In...|\n",
      "|        19|        5|     DL|          14057|        14869|      -4|     -15|     14057|Portland Internat...|\n",
      "|        19|        5|     DL|          15016|        11433|      28|      24|     15016|Lambert-St. Louis...|\n",
      "|        19|        5|     DL|          11193|        12892|      -6|     -11|     11193|Cincinnati/Northe...|\n",
      "|        19|        5|     DL|          10397|        15016|      -1|     -19|     10397|Hartsfield-Jackso...|\n",
      "|        19|        5|     DL|          15016|        10397|       0|      -1|     15016|Lambert-St. Louis...|\n",
      "|        19|        5|     DL|          10397|        14869|      15|      24|     10397|Hartsfield-Jackso...|\n",
      "|        19|        5|     DL|          10397|        10423|      33|      34|     10397|Hartsfield-Jackso...|\n",
      "|        19|        5|     DL|          11278|        10397|     323|     322|     11278|Ronald Reagan Was...|\n",
      "|        19|        5|     DL|          14107|        13487|      -7|     -13|     14107|Phoenix Sky Harbo...|\n",
      "|        19|        5|     DL|          11433|        11298|      22|      41|     11433|Detroit Metro Way...|\n",
      "|        19|        5|     DL|          11298|        11433|      40|      20|     11298|Dallas/Fort Worth...|\n",
      "|        19|        5|     DL|          11433|        12892|      -2|      -7|     11433|Detroit Metro Way...|\n",
      "|        19|        5|     DL|          10397|        12451|      71|      75|     10397|Hartsfield-Jackso...|\n",
      "|        19|        5|     DL|          12451|        10397|      75|      57|     12451|Jacksonville Inte...|\n",
      "|        19|        5|     DL|          12953|        10397|      -1|      10|     12953|           LaGuardia|\n",
      "|        19|        5|     DL|          11433|        12953|      -3|     -10|     11433|Detroit Metro Way...|\n",
      "|        19|        5|     DL|          10397|        14771|      31|      38|     10397|Hartsfield-Jackso...|\n",
      "|        19|        5|     DL|          13204|        10397|       8|      25|     13204|Orlando Internati...|\n",
      "+----------+---------+-------+---------------+-------------+--------+--------+----------+--------------------+\n",
      "only showing top 20 rows\n",
      "\n"
     ]
    }
   ],
   "source": [
    "flightsAirportDF.show()"
   ]
  },
  {
   "cell_type": "markdown",
   "id": "5cc5c3bf",
   "metadata": {},
   "source": [
    "#### 8) Drop Duplicates\n",
    "    * It will drop duplicate reCords from existing Dataframe"
   ]
  },
  {
   "cell_type": "code",
   "execution_count": 84,
   "id": "11619c17",
   "metadata": {},
   "outputs": [],
   "source": [
    "flights_df1 = flights_df.dropDuplicates()"
   ]
  },
  {
   "cell_type": "markdown",
   "id": "d295acfe",
   "metadata": {},
   "source": [
    "#### Task1 : Calculate the percentage of the overall data that wIll be losing after DropDuplicates()"
   ]
  },
  {
   "cell_type": "code",
   "execution_count": 87,
   "id": "c4decdbd",
   "metadata": {},
   "outputs": [
    {
     "data": {
      "text/plain": [
       "0.8249927006440348"
      ]
     },
     "execution_count": 87,
     "metadata": {},
     "output_type": "execute_result"
    }
   ],
   "source": [
    "(flights_df.count()-flights_df1.count())/flights_df.count() * 100\n"
   ]
  },
  {
   "cell_type": "markdown",
   "id": "7ca5beda",
   "metadata": {},
   "source": [
    "#### 11.Describe\n",
    "    * Use describe method to show summary statistics or numeric dataframe columns."
   ]
  },
  {
   "cell_type": "code",
   "execution_count": 88,
   "id": "a979a219",
   "metadata": {},
   "outputs": [
    {
     "name": "stdout",
     "output_type": "stream",
     "text": [
      "+-------+------------------+-----------------+-------+------------------+------------------+------------------+------------------+\n",
      "|summary|        DayofMonth|        DayOfWeek|Carrier|   OriginAirportID|     DestAirportID|          DepDelay|          ArrDelay|\n",
      "+-------+------------------+-----------------+-------+------------------+------------------+------------------+------------------+\n",
      "|  count|           2696983|          2696983|2696983|           2696983|           2696983|           2674774|           2673185|\n",
      "|   mean|15.798996508320593|3.900369412784582|   null|12742.459424846207| 12742.85937657004|10.618575625454712|6.7272897311633875|\n",
      "| stddev|  8.80126719913545|1.986458242170198|   null|1502.0359941370625|1501.9939589817984|  36.1983084325127| 38.75007476808384|\n",
      "|    min|                 1|                1|     9E|             10140|             10140|               -63|               -94|\n",
      "|    max|                31|                7|     YV|             15376|             15376|              1863|              1845|\n",
      "+-------+------------------+-----------------+-------+------------------+------------------+------------------+------------------+\n",
      "\n"
     ]
    }
   ],
   "source": [
    "flights_df1.describe().show()"
   ]
  },
  {
   "cell_type": "markdown",
   "id": "1dec23b0",
   "metadata": {},
   "source": [
    "#### summary()\n",
    "    * Use the summary() method for detailed summary of columns\n",
    "    * Summary includes count() , stdev() , min(),max(), mean(), quartiles Q1, Q2, Q3"
   ]
  },
  {
   "cell_type": "code",
   "execution_count": 89,
   "id": "5aecf1e6",
   "metadata": {},
   "outputs": [
    {
     "name": "stdout",
     "output_type": "stream",
     "text": [
      "+-------+-----------------+------------------+-------+-----------------+------------------+-----------------+-----------------+\n",
      "|summary|       DayofMonth|         DayOfWeek|Carrier|  OriginAirportID|     DestAirportID|         DepDelay|         ArrDelay|\n",
      "+-------+-----------------+------------------+-------+-----------------+------------------+-----------------+-----------------+\n",
      "|  count|          2719418|           2719418|2719418|          2719418|           2719418|          2691974|          2690385|\n",
      "|   mean|15.79747468024408|3.8983907586108497|   null|12742.26441172339|12742.455345592329|10.53686662649788| 6.63768791455498|\n",
      "| stddev|8.799860168985413|1.9859881390373355|   null|1501.972939702572|1501.9692528927803|36.09952806643145|38.64881489390095|\n",
      "|    min|                1|                 1|     9E|            10140|             10140|              -63|              -94|\n",
      "|    25%|                8|                 2|   null|            11292|             11292|               -4|              -11|\n",
      "|    50%|               16|                 4|   null|            12892|             12892|               -1|               -3|\n",
      "|    75%|               23|                 6|   null|            14057|             14057|               10|               10|\n",
      "|    max|               31|                 7|     YV|            15376|             15376|             1863|             1845|\n",
      "+-------+-----------------+------------------+-------+-----------------+------------------+-----------------+-----------------+\n",
      "\n"
     ]
    }
   ],
   "source": [
    "flights_df.summary().show()"
   ]
  },
  {
   "cell_type": "markdown",
   "id": "3e1fc3ff",
   "metadata": {},
   "source": [
    "#### 13.Select categorical columns"
   ]
  },
  {
   "cell_type": "code",
   "execution_count": 91,
   "id": "2c775702",
   "metadata": {},
   "outputs": [],
   "source": [
    "from pyspark.sql.types import IntegerType, StringType\n",
    "from pyspark.sql.functions import *"
   ]
  },
  {
   "cell_type": "code",
   "execution_count": 93,
   "id": "ec901955",
   "metadata": {},
   "outputs": [],
   "source": [
    "#Select categorical columns \n",
    "categorical_cols = [field.name for field in flights_df.schema.fields if isinstance(field.dataType, StringType)]"
   ]
  },
  {
   "cell_type": "code",
   "execution_count": 94,
   "id": "f7f444a7",
   "metadata": {},
   "outputs": [
    {
     "data": {
      "text/plain": [
       "['Carrier']"
      ]
     },
     "execution_count": 94,
     "metadata": {},
     "output_type": "execute_result"
    }
   ],
   "source": [
    "categorical_cols"
   ]
  },
  {
   "cell_type": "markdown",
   "id": "83636018",
   "metadata": {},
   "source": [
    "#### 14. col().groupBy()\n",
    "*'col' function is used to refer to a column in Dataframe\n",
    "*groupBy() method method to group rows of DataFrame based on values of one or more columns"
   ]
  },
  {
   "cell_type": "code",
   "execution_count": 97,
   "id": "6e664ebb",
   "metadata": {},
   "outputs": [],
   "source": [
    "#In pyspark 'col' function is used to refer to a column in Dataframe\n",
    "#where to use it - In column operations\n",
    "from pyspark.sql.functions import col"
   ]
  },
  {
   "cell_type": "code",
   "execution_count": 99,
   "id": "e455dcdc",
   "metadata": {},
   "outputs": [
    {
     "data": {
      "text/plain": [
       "664460"
      ]
     },
     "execution_count": 99,
     "metadata": {},
     "output_type": "execute_result"
    }
   ],
   "source": [
    "flights_df1.filter(col('ArrDelay') > 10).count()"
   ]
  },
  {
   "cell_type": "code",
   "execution_count": 100,
   "id": "92ad475e",
   "metadata": {},
   "outputs": [
    {
     "name": "stdout",
     "output_type": "stream",
     "text": [
      "+-------+------+\n",
      "|Carrier| count|\n",
      "+-------+------+\n",
      "|     UA|286010|\n",
      "|     AA|288910|\n",
      "|     EV|157218|\n",
      "|     B6|121875|\n",
      "|     DL|381601|\n",
      "|     OO|159639|\n",
      "|     F9| 35736|\n",
      "|     YV| 52740|\n",
      "|     US|232955|\n",
      "|     MQ|112113|\n",
      "|     HA| 17424|\n",
      "|     AS| 68544|\n",
      "|     FL| 92674|\n",
      "|     VX| 34726|\n",
      "|     WN|575090|\n",
      "|     9E| 79728|\n",
      "+-------+------+\n",
      "\n"
     ]
    }
   ],
   "source": [
    "# Get frequency values for each Categorical Column\n",
    "for column in categorical_cols:\n",
    "    flights_df1.groupBy(column).count().show()"
   ]
  },
  {
   "cell_type": "markdown",
   "id": "5fbccaf6",
   "metadata": {},
   "source": [
    "#### 15. isNull()\n",
    "    * Method returns boolean outcome for missing values."
   ]
  },
  {
   "cell_type": "code",
   "execution_count": 103,
   "id": "552dc8b2",
   "metadata": {
    "collapsed": true
   },
   "outputs": [
    {
     "name": "stdout",
     "output_type": "stream",
     "text": [
      "+----------+---------+-------+---------------+-------------+--------+--------+\n",
      "|DayofMonth|DayOfWeek|Carrier|OriginAirportID|DestAirportID|DepDelay|ArrDelay|\n",
      "+----------+---------+-------+---------------+-------------+--------+--------+\n",
      "|        17|        3|     DL|          14869|        14771|    null|    null|\n",
      "|        11|        4|     EV|          12266|        13871|    null|    null|\n",
      "|        19|        5|     EV|          11618|        11433|    null|    null|\n",
      "|        10|        3|     EV|          13930|        13851|    null|    null|\n",
      "|         9|        2|     EV|          11292|        14107|    null|    null|\n",
      "|        18|        4|     AA|          13303|        12892|    null|    null|\n",
      "|        11|        4|     AA|          13930|        11292|    null|    null|\n",
      "|        18|        4|     AA|          11298|        14107|    null|    null|\n",
      "|        16|        2|     AA|          11278|        13930|    null|    null|\n",
      "|        17|        3|     AA|          13930|        14107|    null|    null|\n",
      "|        16|        2|     AA|          12478|        12266|    null|    null|\n",
      "|        18|        4|     AA|          11298|        11618|    null|    null|\n",
      "|         3|        3|     AS|          14679|        14747|    null|    null|\n",
      "|        18|        4|     AA|          13930|        15304|    null|    null|\n",
      "|        18|        4|     DL|          10397|        13930|    null|    null|\n",
      "|         8|        1|     WN|          11292|        14893|    null|    null|\n",
      "|        12|        5|     MQ|          13930|        11618|    null|    null|\n",
      "|        11|        4|     MQ|          13930|        10693|    null|    null|\n",
      "|        16|        2|     MQ|          10792|        13930|    null|    null|\n",
      "|        17|        3|     MQ|          13930|        11433|      88|    null|\n",
      "|        16|        2|     MQ|          11278|        10693|    null|    null|\n",
      "|        10|        5|     EV|          14683|        12266|    null|    null|\n",
      "|        11|        6|     EV|          15016|        11618|    null|    null|\n",
      "|        23|        4|     9E|          13931|        11433|    null|    null|\n",
      "|        30|        4|     AA|          11042|        11298|    null|    null|\n",
      "|        28|        2|     B6|          14843|        12478|    null|    null|\n",
      "|        21|        2|     AA|          14771|        13303|    null|    null|\n",
      "|         2|        4|     WN|          14570|        12889|    null|    null|\n",
      "|         4|        6|     WN|          13796|        12892|    null|    null|\n",
      "|        30|        4|     YV|          12173|        13830|    null|    null|\n",
      "|        18|        6|     YV|          13851|        12264|       0|    null|\n",
      "|        12|        7|     MQ|          14679|        12892|    null|    null|\n",
      "|        31|        5|     F9|          13851|        11292|    null|    null|\n",
      "|        21|        2|     UA|          12953|        13930|    null|    null|\n",
      "|        27|        4|     MQ|          11042|        12953|    null|    null|\n",
      "|        17|        1|     MQ|          12892|        14869|    null|    null|\n",
      "|         5|        3|     OO|          10397|        12266|    null|    null|\n",
      "|        27|        4|     UA|          12266|        11618|    null|    null|\n",
      "|        12|        3|     UA|          13930|        11278|    null|    null|\n",
      "|         2|        7|     9E|          10792|        12478|    null|    null|\n",
      "|         7|        5|     9E|          11193|        14100|    null|    null|\n",
      "|        26|        3|     9E|          12478|        11057|     128|    null|\n",
      "|         7|        5|     9E|          14100|        11193|    null|    null|\n",
      "|        29|        6|     9E|          11433|        11042|    null|    null|\n",
      "|         2|        7|     9E|          11433|        14100|    null|    null|\n",
      "|        13|        4|     AA|          10721|        13303|    null|    null|\n",
      "|        28|        5|     AA|          13930|        15016|    null|    null|\n",
      "|        18|        2|     AA|          13851|        11298|    null|    null|\n",
      "|        18|        2|     AA|          13244|        11298|    null|    null|\n",
      "|        14|        5|     AA|          11298|        10140|    null|    null|\n",
      "|         3|        1|     DL|          12889|        12892|    null|    null|\n",
      "|        10|        1|     DL|          14908|        14869|    null|    null|\n",
      "|        13|        4|     US|          12953|        11278|      -6|    null|\n",
      "|         5|        3|     WN|          13796|        14679|    null|    null|\n",
      "|        21|        5|     WN|          14908|        14107|    null|    null|\n",
      "|        25|        2|     WN|          14679|        12889|    null|    null|\n",
      "|        27|        4|     WN|          12191|        13495|    null|    null|\n",
      "|        17|        1|     WN|          14679|        14771|    null|    null|\n",
      "|        24|        1|     DL|          14107|        14869|    null|    null|\n",
      "|        24|        1|     EV|          11618|        13487|    null|    null|\n",
      "|         9|        7|     EV|          12266|        11259|    null|    null|\n",
      "|        16|        7|     EV|          13930|        14730|    null|    null|\n",
      "|        10|        1|     EV|          11433|        14100|    null|    null|\n",
      "|        24|        1|     EV|          12953|        12264|    null|    null|\n",
      "|        13|        4|     EV|          11042|        10792|    null|    null|\n",
      "|        14|        5|     EV|          13487|        13931|    null|    null|\n",
      "|        22|        1|     EV|          12266|        13244|    null|    null|\n",
      "|        28|        7|     EV|          12953|        14122|    null|    null|\n",
      "|        22|        1|     EV|          10397|        11042|    null|    null|\n",
      "|        28|        7|     EV|          13198|        12953|    null|    null|\n",
      "|         7|        7|     EV|          14100|        13487|    null|    null|\n",
      "|        12|        5|     FL|          13232|        13204|    null|    null|\n",
      "|        28|        7|     MQ|          14100|        13930|    null|    null|\n",
      "|        28|        7|     9E|          11193|        11618|    null|    null|\n",
      "|         5|        5|     AA|          13930|        10721|    null|    null|\n",
      "|        11|        4|     AA|          11298|        12892|    null|    null|\n",
      "|        13|        6|     B6|          15304|        14843|    null|    null|\n",
      "|         8|        1|     B6|          12954|        13796|    null|    null|\n",
      "|        10|        3|     MQ|          12478|        10821|    null|    null|\n",
      "|        30|        2|     MQ|          14831|        12892|    null|    null|\n",
      "|        21|        7|     FL|          15304|        10397|    null|    null|\n",
      "|        26|        5|     UA|          12266|        13303|    null|    null|\n",
      "|        23|        2|     UA|          12892|        14771|    null|    null|\n",
      "|         7|        7|     UA|          11618|        14771|    null|    null|\n",
      "|        28|        3|     9E|          12478|        11433|    null|    null|\n",
      "|        11|        7|     9E|          11057|        12478|    null|    null|\n",
      "|        23|        5|     AA|          13930|        13303|    null|    null|\n",
      "|        13|        2|     AA|          12264|        11298|    null|    null|\n",
      "|        22|        4|     US|          12953|        10721|    null|    null|\n",
      "|        10|        6|     WN|          11259|        12191|    null|    null|\n",
      "|        21|        3|     YV|          11057|        11066|    null|    null|\n",
      "|        26|        1|     EV|          14730|        11042|    null|    null|\n",
      "|         1|        4|     EV|          11618|        13851|    null|    null|\n",
      "|         1|        4|     EV|          12451|        11618|    null|    null|\n",
      "|         1|        4|     EV|          12953|        11057|    null|    null|\n",
      "|        28|        3|     FL|          13495|        10397|      -5|    null|\n",
      "|        28|        3|     MQ|          14492|        11278|    null|    null|\n",
      "|         5|        1|     OO|          11292|        14869|    null|    null|\n",
      "|        10|        6|     OO|          13930|        13342|      13|    null|\n",
      "|        30|        1|     MQ|          11066|        13930|    null|    null|\n",
      "+----------+---------+-------+---------------+-------------+--------+--------+\n",
      "only showing top 100 rows\n",
      "\n"
     ]
    }
   ],
   "source": [
    "#Check for nulls in each columns\n",
    "flights_df1.filter(col('ArrDelay').isNull()).show(100)"
   ]
  },
  {
   "cell_type": "code",
   "execution_count": 104,
   "id": "a8ce3a7e",
   "metadata": {},
   "outputs": [
    {
     "data": {
      "text/plain": [
       "23798"
      ]
     },
     "execution_count": 104,
     "metadata": {},
     "output_type": "execute_result"
    }
   ],
   "source": [
    "#Show the num of missing values for one column\n",
    "flights_df1.filter(col('ArrDelay').isNull()).count()"
   ]
  },
  {
   "cell_type": "code",
   "execution_count": 105,
   "id": "5a07dce1",
   "metadata": {},
   "outputs": [
    {
     "data": {
      "text/plain": [
       "2696983"
      ]
     },
     "execution_count": 105,
     "metadata": {},
     "output_type": "execute_result"
    }
   ],
   "source": [
    "flights_df1.select(col('ArrDelay').isNull()).count()"
   ]
  },
  {
   "cell_type": "code",
   "execution_count": 106,
   "id": "85a1e306",
   "metadata": {
    "scrolled": true
   },
   "outputs": [
    {
     "name": "stdout",
     "output_type": "stream",
     "text": [
      "+------------------+\n",
      "|(ArrDelay IS NULL)|\n",
      "+------------------+\n",
      "|             false|\n",
      "|             false|\n",
      "|             false|\n",
      "|             false|\n",
      "|             false|\n",
      "|             false|\n",
      "|             false|\n",
      "|             false|\n",
      "|             false|\n",
      "|             false|\n",
      "|             false|\n",
      "|             false|\n",
      "|             false|\n",
      "|             false|\n",
      "|             false|\n",
      "|              true|\n",
      "|             false|\n",
      "|             false|\n",
      "|             false|\n",
      "|             false|\n",
      "+------------------+\n",
      "only showing top 20 rows\n",
      "\n"
     ]
    }
   ],
   "source": [
    "flights_df1.select(col('ArrDelay').isNull()).show()"
   ]
  },
  {
   "cell_type": "code",
   "execution_count": 107,
   "id": "3c87d8a2",
   "metadata": {},
   "outputs": [
    {
     "data": {
      "text/plain": [
       "DataFrame[(ArrDelay IS NULL): boolean]"
      ]
     },
     "execution_count": 107,
     "metadata": {},
     "output_type": "execute_result"
    }
   ],
   "source": [
    "#isNull returns boolean value\n",
    "flights_df1.select(col('ArrDelay').isNull())"
   ]
  },
  {
   "cell_type": "code",
   "execution_count": 110,
   "id": "c1f43e17",
   "metadata": {},
   "outputs": [
    {
     "name": "stdout",
     "output_type": "stream",
     "text": [
      "+----------+---------+-------+---------------+-------------+--------+--------+\n",
      "|DayofMonth|DayOfWeek|Carrier|OriginAirportID|DestAirportID|DepDelay|ArrDelay|\n",
      "+----------+---------+-------+---------------+-------------+--------+--------+\n",
      "|         0|        0|      0|              0|            0|   27444|   29033|\n",
      "+----------+---------+-------+---------------+-------------+--------+--------+\n",
      "\n"
     ]
    }
   ],
   "source": [
    "flights_df.select([count(when(isnull(column), column)).alias(column) for column in flights_df1.columns]).show()"
   ]
  },
  {
   "cell_type": "code",
   "execution_count": null,
   "id": "b825cb44",
   "metadata": {},
   "outputs": [],
   "source": [
    "\n",
    " "
   ]
  },
  {
   "cell_type": "code",
   "execution_count": null,
   "id": "3be60190",
   "metadata": {},
   "outputs": [],
   "source": []
  },
  {
   "cell_type": "code",
   "execution_count": 140,
   "id": "47791f57",
   "metadata": {},
   "outputs": [
    {
     "name": "stdout",
     "output_type": "stream",
     "text": [
      "{'DayofMonth': 0}\n",
      "{'DayOfWeek': 0}\n",
      "{'Carrier': 0}\n",
      "{'OriginAirportID': 0}\n",
      "{'DestAirportID': 0}\n",
      "{'DepDelay': 27444}\n",
      "{'ArrDelay': 29033}\n"
     ]
    }
   ],
   "source": [
    "for columns in flights_df.columns:\n",
    "    print({columns:flights_df.filter(col(columns).isNull()).count()})"
   ]
  },
  {
   "cell_type": "code",
   "execution_count": 142,
   "id": "d7911e2b",
   "metadata": {},
   "outputs": [
    {
     "name": "stdout",
     "output_type": "stream",
     "text": [
      "+----------+---------+-------+---------------+-------------+--------+--------+\n",
      "|DayofMonth|DayOfWeek|Carrier|OriginAirportID|DestAirportID|DepDelay|ArrDelay|\n",
      "+----------+---------+-------+---------------+-------------+--------+--------+\n",
      "|         0|        0|      0|              0|            0|   27444|   29033|\n",
      "+----------+---------+-------+---------------+-------------+--------+--------+\n",
      "\n"
     ]
    }
   ],
   "source": [
    "#alternative approach - col(), isNull()\n",
    "from pyspark.sql.functions import col\n",
    "\n",
    "flights_df.select([sum(col(column).isNull().cast(\"int\")).alias(column)\n",
    "                      for column in flights_df.columns]).show()"
   ]
  },
  {
   "cell_type": "markdown",
   "id": "12cc7a3a",
   "metadata": {},
   "source": [
    "#### 16.fillna()\n",
    "    * To replace or fill missing values of columns with central tendancy(mean, median, mode)\n",
    "    *Replace missing values by 0s"
   ]
  },
  {
   "cell_type": "code",
   "execution_count": 143,
   "id": "4214bcfa",
   "metadata": {},
   "outputs": [],
   "source": [
    "flights_df2 = flights_df1.fillna({'DepDelay': 0, 'ArrDelay':0})"
   ]
  },
  {
   "cell_type": "code",
   "execution_count": 144,
   "id": "8ec11d26",
   "metadata": {},
   "outputs": [
    {
     "name": "stdout",
     "output_type": "stream",
     "text": [
      "+----------+---------+-------+---------------+-------------+--------+--------+\n",
      "|DayofMonth|DayOfWeek|Carrier|OriginAirportID|DestAirportID|DepDelay|ArrDelay|\n",
      "+----------+---------+-------+---------------+-------------+--------+--------+\n",
      "|         0|        0|      0|              0|            0|       0|       0|\n",
      "+----------+---------+-------+---------------+-------------+--------+--------+\n",
      "\n"
     ]
    }
   ],
   "source": [
    "flights_df2.select([sum(col(column).isNull().cast(\"int\")).alias(column)\n",
    "                      for column in flights_df2.columns]).show()"
   ]
  },
  {
   "cell_type": "markdown",
   "id": "10309577",
   "metadata": {},
   "source": [
    "#### 17.dropna()"
   ]
  },
  {
   "cell_type": "code",
   "execution_count": 145,
   "id": "15dbe53a",
   "metadata": {},
   "outputs": [],
   "source": [
    "flights_df3 = flights_df1.dropna()"
   ]
  },
  {
   "cell_type": "markdown",
   "id": "bbc4fe03",
   "metadata": {},
   "source": [
    "#### 18.Statistical Methods\n",
    "    *mean(), median(), stddev(), quartiles"
   ]
  },
  {
   "cell_type": "code",
   "execution_count": 147,
   "id": "0f625d6f",
   "metadata": {},
   "outputs": [
    {
     "name": "stdout",
     "output_type": "stream",
     "text": [
      "+-------------+\n",
      "|DepDelay_Mean|\n",
      "+-------------+\n",
      "|         11.0|\n",
      "+-------------+\n",
      "\n"
     ]
    }
   ],
   "source": [
    "flights_df1.select(round(mean(col('DepDelay'))).alias('DepDelay_Mean')).show()"
   ]
  },
  {
   "cell_type": "code",
   "execution_count": 149,
   "id": "88bed556",
   "metadata": {},
   "outputs": [
    {
     "name": "stdout",
     "output_type": "stream",
     "text": [
      "+------------+\n",
      "|DepDelay_Std|\n",
      "+------------+\n",
      "|      36.198|\n",
      "+------------+\n",
      "\n"
     ]
    }
   ],
   "source": [
    "flights_df1.select(round(stddev(col('DepDelay')),3).alias('DepDelay_Std')).show()"
   ]
  },
  {
   "cell_type": "code",
   "execution_count": 150,
   "id": "b8cb4087",
   "metadata": {},
   "outputs": [
    {
     "name": "stdout",
     "output_type": "stream",
     "text": [
      "+-----------------+\n",
      "|DepDelay_Variance|\n",
      "+-----------------+\n",
      "|         1310.318|\n",
      "+-----------------+\n",
      "\n"
     ]
    }
   ],
   "source": [
    "flights_df1.select(round(variance(col('DepDelay')),3).alias('DepDelay_Variance')).show()"
   ]
  },
  {
   "cell_type": "markdown",
   "id": "1fe038cd",
   "metadata": {},
   "source": [
    "#### * To Calculate median - use approxQuantile().exp()"
   ]
  },
  {
   "cell_type": "code",
   "execution_count": 152,
   "id": "c07a3c8d",
   "metadata": {},
   "outputs": [
    {
     "data": {
      "text/plain": [
       "-3.0"
      ]
     },
     "execution_count": 152,
     "metadata": {},
     "output_type": "execute_result"
    }
   ],
   "source": [
    "flights_df1.approxQuantile('ArrDelay', [0.5], 0.0001)[0]"
   ]
  },
  {
   "cell_type": "code",
   "execution_count": 153,
   "id": "f84e9483",
   "metadata": {},
   "outputs": [
    {
     "data": {
      "text/plain": [
       "11.0"
      ]
     },
     "execution_count": 153,
     "metadata": {},
     "output_type": "execute_result"
    }
   ],
   "source": [
    "flights_df1.select(round(mean(col('DepDelay'))).alias('DepDelay_Mean')).collect()[0][0]"
   ]
  },
  {
   "cell_type": "markdown",
   "id": "cc04e764",
   "metadata": {},
   "source": [
    "#### GroupBy() and agg()"
   ]
  },
  {
   "cell_type": "code",
   "execution_count": 154,
   "id": "981616da",
   "metadata": {},
   "outputs": [
    {
     "data": {
      "text/plain": [
       "<pyspark.sql.group.GroupedData at 0x7f88b5b5fcf8>"
      ]
     },
     "execution_count": 154,
     "metadata": {},
     "output_type": "execute_result"
    }
   ],
   "source": [
    "flights_df1.groupby(\"Carrier\")"
   ]
  },
  {
   "cell_type": "code",
   "execution_count": 155,
   "id": "bfc15b68",
   "metadata": {},
   "outputs": [
    {
     "name": "stdout",
     "output_type": "stream",
     "text": [
      "+-------+------------------+\n",
      "|Carrier|     avg(DepDelay)|\n",
      "+-------+------------------+\n",
      "|     UA|12.644186783024843|\n",
      "|     AA|12.154096505870111|\n",
      "|     EV| 14.52813602113455|\n",
      "|     B6|12.675216069471794|\n",
      "|     DL| 7.451940716867138|\n",
      "|     OO| 7.954327121364983|\n",
      "|     F9|12.142480802645592|\n",
      "|     YV| 9.595018289496604|\n",
      "|     US| 5.011879623272143|\n",
      "|     MQ|15.612577198673192|\n",
      "|     HA|1.5358414704192993|\n",
      "|     AS|0.6606730403765751|\n",
      "|     FL|10.227206113831024|\n",
      "|     VX|14.416962353959326|\n",
      "|     WN|12.930658050935614|\n",
      "|     9E| 9.767838809034908|\n",
      "+-------+------------------+\n",
      "\n"
     ]
    }
   ],
   "source": [
    "flights_df1.groupBy('Carrier').agg(mean('DepDelay')).show()"
   ]
  },
  {
   "cell_type": "code",
   "execution_count": 163,
   "id": "d98cb33f",
   "metadata": {},
   "outputs": [
    {
     "name": "stdout",
     "output_type": "stream",
     "text": [
      "+-------+------------------+--------------------+\n",
      "|Carrier|     Mean_DepDelay|      Mean_Arr_Delay|\n",
      "+-------+------------------+--------------------+\n",
      "|     UA|12.644186783024843|   5.207155029152466|\n",
      "|     AA|12.154096505870111|    7.22786703097812|\n",
      "|     EV| 14.52813602113455|  10.501436641191532|\n",
      "|     B6|12.675216069471794|   9.679335778153199|\n",
      "|     DL| 7.451940716867138|  2.8085929091567747|\n",
      "|     OO| 7.954327121364983|   6.447766785619039|\n",
      "|     F9|12.142480802645592|  12.870312237233028|\n",
      "|     YV| 9.595018289496604|   8.749505833107245|\n",
      "|     US| 5.011879623272143|   3.957719324788726|\n",
      "|     MQ|15.612577198673192|   14.27679662028746|\n",
      "|     HA|1.5358414704192993|   1.534325271442523|\n",
      "|     AS|0.6606730403765751|-0.27272328542814955|\n",
      "|     FL|10.227206113831024|   7.277437501357486|\n",
      "|     VX|14.416962353959326|   9.678802215555043|\n",
      "|     WN|12.930658050935614|   8.368672739670938|\n",
      "|     9E| 9.767838809034908|   4.931550031523011|\n",
      "+-------+------------------+--------------------+\n",
      "\n"
     ]
    }
   ],
   "source": [
    "flights_df1.groupBy('Carrier').agg(mean('DepDelay').alias('Mean_DepDelay')\n",
    "                                   , mean('ArrDelay').alias('Mean_Arr_Delay')).show()"
   ]
  },
  {
   "cell_type": "markdown",
   "id": "f2e3cc8b",
   "metadata": {},
   "source": [
    "#### 20.WithColumn\n",
    "    * All cOlumn operation  - used to create new column or update in an existing column in DataFrame.\n",
    "    * withColumn is also used for applying transformation or calculation.\n",
    "    *df.wIthColumn(colName, col)"
   ]
  },
  {
   "cell_type": "code",
   "execution_count": 162,
   "id": "c5959e48",
   "metadata": {},
   "outputs": [
    {
     "name": "stdout",
     "output_type": "stream",
     "text": [
      "+----------+---------+-------+---------------+-------------+--------+--------+----------+\n",
      "|DayofMonth|DayOfWeek|Carrier|OriginAirportID|DestAirportID|DepDelay|ArrDelay|TotalDelay|\n",
      "+----------+---------+-------+---------------+-------------+--------+--------+----------+\n",
      "|        19|        5|     DL|          12889|        13487|       7|      16|        23|\n",
      "|        18|        4|     DL|          12892|        13487|       5|      -4|         1|\n",
      "|        18|        4|     DL|          14635|        11193|      -7|     -12|       -19|\n",
      "|        18|        4|     DL|          10397|        11298|      -3|      44|        41|\n",
      "|        18|        4|     DL|          10397|        12451|       1|      -7|        -6|\n",
      "|        19|        5|     DL|          13487|        11433|      -3|     -21|       -24|\n",
      "|        19|        5|     DL|          14771|        13487|     340|     325|       665|\n",
      "|        19|        5|     DL|          10397|        11298|      20|      20|        40|\n",
      "|        19|        5|     DL|          12953|        13487|       4|     -28|       -24|\n",
      "|        19|        5|     DL|          14869|        11278|      -4|     -24|       -28|\n",
      "|        20|        6|     DL|          12889|        12478|      -6|      -9|       -15|\n",
      "|        16|        2|     DL|          10397|        11193|      -4|     -19|       -23|\n",
      "|        16|        2|     DL|          14747|        13487|     -16|     -17|       -33|\n",
      "|        16|        2|     DL|          10721|        10397|       9|       3|        12|\n",
      "|        17|        3|     DL|          12173|        14747|      10|       8|        18|\n",
      "|        17|        3|     DL|          14869|        14771|    null|    null|      null|\n",
      "|        18|        4|     DL|          10397|        13495|       0|       6|         6|\n",
      "|        18|        4|     DL|          15304|        11433|      -7|     -13|       -20|\n",
      "|        18|        4|     DL|          10397|        11618|      -1|     -19|       -20|\n",
      "|        18|        4|     DL|          13487|        10397|       3|      -3|         0|\n",
      "+----------+---------+-------+---------------+-------------+--------+--------+----------+\n",
      "only showing top 20 rows\n",
      "\n"
     ]
    }
   ],
   "source": [
    "flights_df1.withColumn(\"TotalDelay\", col('DepDelay') + col('ArrDelay')).show()"
   ]
  },
  {
   "cell_type": "code",
   "execution_count": 161,
   "id": "e7497920",
   "metadata": {},
   "outputs": [
    {
     "name": "stdout",
     "output_type": "stream",
     "text": [
      "+----------+---------+-------+---------------+-------------+--------+--------+--------+\n",
      "|DayofMonth|DayOfWeek|Carrier|OriginAirportID|DestAirportID|DepDelay|ArrDelay| IsDelay|\n",
      "+----------+---------+-------+---------------+-------------+--------+--------+--------+\n",
      "|        19|        5|     DL|          12889|        13487|       7|      16|   Delay|\n",
      "|        18|        4|     DL|          12892|        13487|       5|      -4|   Delay|\n",
      "|        18|        4|     DL|          14635|        11193|      -7|     -12|No Delay|\n",
      "|        18|        4|     DL|          10397|        11298|      -3|      44|No Delay|\n",
      "|        18|        4|     DL|          10397|        12451|       1|      -7|   Delay|\n",
      "|        19|        5|     DL|          13487|        11433|      -3|     -21|No Delay|\n",
      "|        19|        5|     DL|          14771|        13487|     340|     325|   Delay|\n",
      "|        19|        5|     DL|          10397|        11298|      20|      20|   Delay|\n",
      "|        19|        5|     DL|          12953|        13487|       4|     -28|   Delay|\n",
      "|        19|        5|     DL|          14869|        11278|      -4|     -24|No Delay|\n",
      "|        20|        6|     DL|          12889|        12478|      -6|      -9|No Delay|\n",
      "|        16|        2|     DL|          10397|        11193|      -4|     -19|No Delay|\n",
      "|        16|        2|     DL|          14747|        13487|     -16|     -17|No Delay|\n",
      "|        16|        2|     DL|          10721|        10397|       9|       3|   Delay|\n",
      "|        17|        3|     DL|          12173|        14747|      10|       8|   Delay|\n",
      "|        17|        3|     DL|          14869|        14771|    null|    null|No Delay|\n",
      "|        18|        4|     DL|          10397|        13495|       0|       6|   Delay|\n",
      "|        18|        4|     DL|          15304|        11433|      -7|     -13|No Delay|\n",
      "|        18|        4|     DL|          10397|        11618|      -1|     -19|No Delay|\n",
      "|        18|        4|     DL|          13487|        10397|       3|      -3|   Delay|\n",
      "+----------+---------+-------+---------------+-------------+--------+--------+--------+\n",
      "only showing top 20 rows\n",
      "\n"
     ]
    }
   ],
   "source": [
    "flights_df1.withColumn(\"IsDelay\", when(col('DepDelay') >= 0, \"Delay\").otherwise(\"No Delay\")).show()"
   ]
  },
  {
   "cell_type": "markdown",
   "id": "ae6a008f",
   "metadata": {},
   "source": [
    "#### 21. expr()"
   ]
  },
  {
   "cell_type": "code",
   "execution_count": 167,
   "id": "207f4583",
   "metadata": {},
   "outputs": [
    {
     "data": {
      "text/plain": [
       "[Row(median=-3)]"
      ]
     },
     "execution_count": 167,
     "metadata": {},
     "output_type": "execute_result"
    }
   ],
   "source": [
    "from pyspark.sql.functions import expr\n",
    "median_expr = expr(f\"percentile_approx({'ArrDelay'}, 0.5)\")\n",
    "\n",
    "flights_df1.agg(median_expr.alias('median')).collect()\n"
   ]
  },
  {
   "cell_type": "code",
   "execution_count": null,
   "id": "9b8acea9",
   "metadata": {},
   "outputs": [],
   "source": []
  }
 ],
 "metadata": {
  "kernelspec": {
   "display_name": "Python 3",
   "language": "python",
   "name": "python3"
  },
  "language_info": {
   "codemirror_mode": {
    "name": "ipython",
    "version": 3
   },
   "file_extension": ".py",
   "mimetype": "text/x-python",
   "name": "python",
   "nbconvert_exporter": "python",
   "pygments_lexer": "ipython3",
   "version": "3.6.9"
  }
 },
 "nbformat": 4,
 "nbformat_minor": 5
}
