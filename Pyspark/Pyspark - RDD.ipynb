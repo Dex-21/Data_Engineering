{
 "cells": [
  {
   "cell_type": "code",
   "execution_count": null,
   "id": "25869edd",
   "metadata": {},
   "outputs": [],
   "source": [
    "sc"
   ]
  },
  {
   "cell_type": "code",
   "execution_count": null,
   "id": "74b0736e",
   "metadata": {},
   "outputs": [],
   "source": [
    "spark\n"
   ]
  },
  {
   "cell_type": "markdown",
   "id": "3429a9c4",
   "metadata": {},
   "source": [
    "#### 1. Create new spark session"
   ]
  },
  {
   "cell_type": "code",
   "execution_count": null,
   "id": "32e49290",
   "metadata": {},
   "outputs": [],
   "source": [
    "sc.stop()"
   ]
  },
  {
   "cell_type": "code",
   "execution_count": null,
   "id": "58db9556",
   "metadata": {},
   "outputs": [],
   "source": [
    "from pyspark import SparkConf, SparkContext\n",
    "#setMaster() = Set Spark Content Manager which is local[cpu cores]\n",
    "config = SparkConf().setMaster('local[2]').setAppName(\"RDDSession\")\n",
    "sc = SparkContext(conf = config)"
   ]
  },
  {
   "cell_type": "code",
   "execution_count": null,
   "id": "563903af",
   "metadata": {},
   "outputs": [],
   "source": [
    "sc"
   ]
  },
  {
   "cell_type": "code",
   "execution_count": null,
   "id": "d8efe5b6",
   "metadata": {},
   "outputs": [],
   "source": [
    "from pyspark.sql import SparkSession\n",
    "spark = SparkSession.builder.appName('SQLSession').getOrCreate()"
   ]
  },
  {
   "cell_type": "markdown",
   "id": "237352eb",
   "metadata": {},
   "source": [
    "#### 2. Create RDD\n",
    "     * Create RDD using sc.parellelize() using collections like numpy array ,lists, tuples etc."
   ]
  },
  {
   "cell_type": "code",
   "execution_count": null,
   "id": "f015e973",
   "metadata": {},
   "outputs": [],
   "source": [
    "rdd1 = sc.parallelize([10,20,30,40,50,60,70,80,90])"
   ]
  },
  {
   "cell_type": "code",
   "execution_count": null,
   "id": "2c5d8905",
   "metadata": {},
   "outputs": [],
   "source": [
    "type(rdd1)"
   ]
  },
  {
   "cell_type": "code",
   "execution_count": null,
   "id": "d6c69dfa",
   "metadata": {},
   "outputs": [],
   "source": [
    "print(rdd1.collect())"
   ]
  },
  {
   "cell_type": "code",
   "execution_count": null,
   "id": "fb722fd7",
   "metadata": {},
   "outputs": [],
   "source": [
    "print((rdd1.take(5)))    #take(num of values as per the input count)"
   ]
  },
  {
   "cell_type": "code",
   "execution_count": null,
   "id": "67ac987d",
   "metadata": {},
   "outputs": [],
   "source": [
    "print(\"Total Count of RDD :\", rdd1.count())       #Returns total count of values present in the RDD"
   ]
  },
  {
   "cell_type": "code",
   "execution_count": null,
   "id": "6e373d3e",
   "metadata": {},
   "outputs": [],
   "source": [
    "rdd1.getNumPartitions()      # Number of RDD Partitions = Number of Workers"
   ]
  },
  {
   "cell_type": "markdown",
   "id": "79f783fa",
   "metadata": {},
   "source": [
    "#### 3. Narrow Transformation"
   ]
  },
  {
   "cell_type": "code",
   "execution_count": null,
   "id": "06202226",
   "metadata": {},
   "outputs": [],
   "source": [
    "#Map Transformation - Applies to all individual values\n",
    "rdd2 = rdd1.map(lambda val : val * 3)"
   ]
  },
  {
   "cell_type": "code",
   "execution_count": null,
   "id": "dd50e24f",
   "metadata": {},
   "outputs": [],
   "source": [
    "#call action() method - collect() or take()\n",
    "rdd2.collect()"
   ]
  },
  {
   "cell_type": "code",
   "execution_count": null,
   "id": "a19a61c8",
   "metadata": {},
   "outputs": [],
   "source": [
    "rdd3 = rdd1.map(lambda val : str(val) + \"Number\")\n",
    "rdd3.collect()"
   ]
  },
  {
   "cell_type": "code",
   "execution_count": null,
   "id": "af4bb456",
   "metadata": {},
   "outputs": [],
   "source": [
    "#Filter method - Narow Transformation which applies condition to each element of RDD\n",
    "#All transformation method like map(), filter() expect a function as an Input\n",
    "rdd4 = rdd1.filter(lambda x : x <= 70) \n",
    "rdd4.collect()"
   ]
  },
  {
   "cell_type": "code",
   "execution_count": null,
   "id": "f904d00a",
   "metadata": {},
   "outputs": [],
   "source": [
    "#Create an RDD using range()\n",
    "rdd5 = sc.parallelize(range(1,30))\n",
    "print(rdd5.take(10))"
   ]
  },
  {
   "cell_type": "code",
   "execution_count": null,
   "id": "1e3d6119",
   "metadata": {},
   "outputs": [],
   "source": [
    "rdd6 = rdd5.filter(lambda x: x % 2 == 0).map(lambda x: str(x) + 'Even')\n",
    "print(rdd6.collect())"
   ]
  },
  {
   "cell_type": "code",
   "execution_count": null,
   "id": "aea7a58f",
   "metadata": {},
   "outputs": [],
   "source": [
    "city_rdd = sc.parallelize([\"Delhi,Kolkata, Kochi,Vizag,Varkala,Chennai,Banglore,Pune\",\n",
    "                         \"Dubai, New York,Berlin,Noida,Banglore,Vizag\",\n",
    "                         \"Venice,Dehradun,Munnar,Mumbai,Kochi,Kottayam\"])\n",
    "city_rdd.collect()"
   ]
  },
  {
   "cell_type": "code",
   "execution_count": null,
   "id": "975d522a",
   "metadata": {},
   "outputs": [],
   "source": [
    "city_names = city_rdd.map(lambda val : val.split(','))\n",
    "print(city_names.collect())"
   ]
  },
  {
   "cell_type": "code",
   "execution_count": null,
   "id": "8ea120a4",
   "metadata": {},
   "outputs": [],
   "source": [
    "city_names2 = city_names.flatMap(lambda val : val)\n",
    "city_names2.collect()"
   ]
  },
  {
   "cell_type": "code",
   "execution_count": null,
   "id": "ba96a786",
   "metadata": {},
   "outputs": [],
   "source": [
    "# Union - Union of Two RDDs\n",
    "rdd7  = rdd1.filter(lambda val : val > 20 and val <= 70)\n",
    "uniRDD = rdd1.union(rdd7)\n",
    "uniRDD.collect()"
   ]
  },
  {
   "cell_type": "code",
   "execution_count": null,
   "id": "c2b5903f",
   "metadata": {},
   "outputs": [],
   "source": []
  },
  {
   "cell_type": "markdown",
   "id": "7dc64487",
   "metadata": {},
   "source": [
    "#### Task : Create RDD using city_names and generate City_name starting with 'B' or 'K'"
   ]
  },
  {
   "cell_type": "code",
   "execution_count": null,
   "id": "f59e4b7a",
   "metadata": {},
   "outputs": [],
   "source": [
    "city_names_3 = city_names2.filter(lambda val : val[0].lower() == 'k' or val[0].lower() == 'b')\n",
    "city_names_3.collect()"
   ]
  },
  {
   "cell_type": "code",
   "execution_count": null,
   "id": "ff268e89",
   "metadata": {},
   "outputs": [],
   "source": [
    "city_names3 = city_names2.filter(lambda val : val.startswith('K') or val.startswith('B'))\n",
    "city_names3.collect()"
   ]
  },
  {
   "cell_type": "code",
   "execution_count": null,
   "id": "3d82dd3b",
   "metadata": {},
   "outputs": [],
   "source": [
    "#distinct = returns new RDD with distinct elements\n",
    "distinct_city = city_names2.distinct()\n",
    "print(distinct_city.collect())"
   ]
  },
  {
   "cell_type": "code",
   "execution_count": null,
   "id": "824261a7",
   "metadata": {},
   "outputs": [],
   "source": [
    "#simple (withReplacement ,fraction, seed)\n",
    "#samples a fraction of data from a RDD with replacement\n",
    "sample_rdd = city_names2.sample(True, 0.5, seed=11)     #withReplacement\n",
    "sample_rdd.collect()"
   ]
  },
  {
   "cell_type": "code",
   "execution_count": null,
   "id": "786e9d59",
   "metadata": {},
   "outputs": [],
   "source": [
    "sample_rdd = city_names2.sample(False, 0.5, seed=11)      #withoutReplacement\n",
    "sample_rdd.collect()"
   ]
  },
  {
   "cell_type": "markdown",
   "id": "1ccd4138",
   "metadata": {},
   "source": [
    "#### 4. Wide Transformation"
   ]
  },
  {
   "cell_type": "code",
   "execution_count": null,
   "id": "7a0e78b6",
   "metadata": {},
   "outputs": [],
   "source": [
    "city_names_3.getNumPartitions()"
   ]
  },
  {
   "cell_type": "code",
   "execution_count": 128,
   "id": "e7879efc",
   "metadata": {},
   "outputs": [
    {
     "data": {
      "text/plain": [
       "[('Trivandrum', 24),\n",
       " ('Chennai', 30),\n",
       " ('Mumbai', 21),\n",
       " ('Kochi', 12),\n",
       " ('Chennai', 20),\n",
       " ('Trivandrum', 15),\n",
       " ('Delhi', 25),\n",
       " ('Delhi', 12),\n",
       " ('Kottayam', 60)]"
      ]
     },
     "execution_count": 128,
     "metadata": {},
     "output_type": "execute_result"
    }
   ],
   "source": [
    "pairs = [('Trivandrum',24), ('Chennai',30),('Mumbai',21),('Kochi',12),('Chennai',20),('Trivandrum',15),('Delhi',25)\n",
    "        ,('Delhi',12),('Kottayam',60)]\n",
    "pairs_rdd = sc.parallelize(pairs)\n",
    "pairs_rdd.collect()"
   ]
  },
  {
   "cell_type": "code",
   "execution_count": null,
   "id": "1cebc895",
   "metadata": {},
   "outputs": [],
   "source": [
    "pairs_rdd.getNumPartitions()"
   ]
  },
  {
   "cell_type": "code",
   "execution_count": null,
   "id": "01c3c8f7",
   "metadata": {},
   "outputs": [],
   "source": [
    "#repartition() - To create more number of partition\n",
    "new_pair_rdd = pairs_rdd.repartition(4)\n",
    "new_pair_rdd.getNumPartitions()"
   ]
  },
  {
   "cell_type": "code",
   "execution_count": 127,
   "id": "6a069e28",
   "metadata": {},
   "outputs": [
    {
     "data": {
      "text/plain": [
       "2"
      ]
     },
     "execution_count": 127,
     "metadata": {},
     "output_type": "execute_result"
    }
   ],
   "source": [
    "#coalesce - Reduces the number of RDD Partirtions\n",
    "new_pair_rdd1 = new_pair_rdd.coalesce(2)\n",
    "new_pair_rdd1.getNumPartitions()"
   ]
  },
  {
   "cell_type": "code",
   "execution_count": null,
   "id": "e65f6c90",
   "metadata": {},
   "outputs": [],
   "source": [
    "#ReduceByKey - Aggrregate each value of RDD by keys . It does involves shuffling of values to ensure that all values\n",
    "#\n",
    "pairs_rdd2 = pairs_rdd.reduceByKey(lambda x,_:x + _ )\n",
    "pairs_rdd2.collect()"
   ]
  },
  {
   "cell_type": "code",
   "execution_count": 129,
   "id": "a3c150e1",
   "metadata": {},
   "outputs": [
    {
     "data": {
      "text/plain": [
       "[('Nuggets', 3),\n",
       " ('Chole Bhature', 4),\n",
       " ('Dosa', 2),\n",
       " ('Vada', 2),\n",
       " ('Fries', 4),\n",
       " ('PaniPuri', 15)]"
      ]
     },
     "execution_count": 129,
     "metadata": {},
     "output_type": "execute_result"
    }
   ],
   "source": [
    "orders = [('Fries',2),('Nuggets',3),('PaniPuri',5),('Chole Bhature',2),('Dosa',1)\n",
    "         ,('Dosa',1),('PaniPuri',5),('Vada',2),('PaniPuri',5),('Fries',2),('Chole Bhature',2)]\n",
    "orders_rdd = sc.parallelize(orders)\n",
    "orders_rdd.reduceByKey(lambda x,y : x + y).collect()"
   ]
  },
  {
   "cell_type": "code",
   "execution_count": null,
   "id": "33312fba",
   "metadata": {},
   "outputs": [],
   "source": [
    "#Intersection : Method to scan all rdd and find common among all partitions of RDD\n",
    "rdd8 = sc.parallelize(['Delhi','Kolkata','Banglore','Vizag','Varkala','Chennai'])\n",
    "rdd9 = sc.parallelize(['Delhi','Pune','Trivandrum','Banglore','Vizag','Mumbai'])\n",
    "rdd8.intersection(rdd9).collect()"
   ]
  },
  {
   "cell_type": "code",
   "execution_count": null,
   "id": "ea6fbee7",
   "metadata": {},
   "outputs": [],
   "source": [
    "#sc.parallelize(collections, number of partitions)\n",
    "rdd10 = sc.parallelize(range(1,50),4)\n",
    "rdd10.getNumPartitions()"
   ]
  },
  {
   "cell_type": "code",
   "execution_count": null,
   "id": "0d9651b4",
   "metadata": {},
   "outputs": [],
   "source": [
    "print(rdd10.collect())"
   ]
  },
  {
   "cell_type": "code",
   "execution_count": null,
   "id": "74e932fd",
   "metadata": {},
   "outputs": [],
   "source": [
    "def partition_func(iterator):\n",
    "    return [sum(iterator)]"
   ]
  },
  {
   "cell_type": "code",
   "execution_count": null,
   "id": "bda8050a",
   "metadata": {},
   "outputs": [],
   "source": [
    "partitioned_rdd = rdd10.mapPartitions(partition_func)\n",
    "partitioned_rdd.collect()"
   ]
  },
  {
   "cell_type": "code",
   "execution_count": null,
   "id": "9106598b",
   "metadata": {},
   "outputs": [],
   "source": [
    "pairs = [('Trivandrum',24), ('Chennai',30),('Mumbai',21),('Kochi',12),('Chennai',20),('Trivandrum',15),('Delhi',25)\n",
    "        ,('Delhi',12),('Kottayam',60)]\n",
    "pairs_rdd = sc.parallelize(pairs)"
   ]
  },
  {
   "cell_type": "code",
   "execution_count": null,
   "id": "3cc06fc5",
   "metadata": {},
   "outputs": [],
   "source": [
    "pairs_rdd.groupByKey().collect()"
   ]
  },
  {
   "cell_type": "code",
   "execution_count": null,
   "id": "e54b6b73",
   "metadata": {},
   "outputs": [],
   "source": [
    "#groupByKey - Groups data by key , which involves shuffling all values for each key.\n",
    "grouped_rdd = pairs_rdd.groupByKey().mapValues(list)\n",
    "grouped_rdd.collect()"
   ]
  },
  {
   "cell_type": "code",
   "execution_count": null,
   "id": "782de749",
   "metadata": {},
   "outputs": [],
   "source": [
    "pairs_rdd.groupByKey().mapValues(len).collect()\n"
   ]
  },
  {
   "cell_type": "code",
   "execution_count": null,
   "id": "ffd8b99b",
   "metadata": {},
   "outputs": [],
   "source": [
    "#Join() - Joins two RDD based on their keys which requires shuffling tghe data to ensure all keys are correctly paired.\n",
    "order1 = sc.parallelize([('Fries',2),('Nuggets',3),('PaniPuri',5),('Chole Bhature',2),('Dosa',1)])\n",
    "order2 = sc.parallelize([('Dosa',1),('PaniPuri',5),('Vada',2),('Juice',5),('Fries',2),('Chole Bhature',2)])"
   ]
  },
  {
   "cell_type": "code",
   "execution_count": null,
   "id": "82e5867a",
   "metadata": {},
   "outputs": [],
   "source": [
    "#join will scan all partitioned rdd to find common keys\n",
    "joined_rdd = order1.join(order2)\n",
    "joined_rdd.collect()"
   ]
  },
  {
   "cell_type": "code",
   "execution_count": null,
   "id": "77765068",
   "metadata": {},
   "outputs": [],
   "source": [
    "order1.leftOuterJoin(order2).collect()"
   ]
  },
  {
   "cell_type": "code",
   "execution_count": null,
   "id": "569b5d29",
   "metadata": {},
   "outputs": [],
   "source": [
    "order1.rightOuterJoin(order2).collect()"
   ]
  },
  {
   "cell_type": "code",
   "execution_count": null,
   "id": "3b6da8d6",
   "metadata": {},
   "outputs": [],
   "source": [
    "order1.fullOuterJoin(order2).collect()"
   ]
  },
  {
   "cell_type": "code",
   "execution_count": null,
   "id": "82c6391a",
   "metadata": {},
   "outputs": [],
   "source": [
    "#Groups data from two rdd by key, resulting ionto new RDD with keys and values grouped from both RDD.\n",
    "results = order1.cogroup(order2).collect()\n",
    "for key, (values1,values2) in results:\n",
    "    print(f\"{key}, {list(values1)}, {list(values2)}\")"
   ]
  },
  {
   "cell_type": "markdown",
   "id": "858d30ff",
   "metadata": {},
   "source": [
    "#### RDD using FileName()"
   ]
  },
  {
   "cell_type": "code",
   "execution_count": null,
   "id": "2b52e8c7",
   "metadata": {},
   "outputs": [],
   "source": [
    "# load localFS use 'file://path_to_filename'\n",
    "emp_RDD = sc.textFile(\"file:///home/hadoop/Downloads/Employee_Advance.csv\")\n",
    "emp_RDD.take(6)"
   ]
  },
  {
   "cell_type": "code",
   "execution_count": null,
   "id": "fa4b82ec",
   "metadata": {},
   "outputs": [],
   "source": [
    "emp_RDD1 = emp_RDD.map(lambda row: row.split(','))\n",
    "emp_RDD1.collect()"
   ]
  },
  {
   "cell_type": "markdown",
   "id": "43a83e2e",
   "metadata": {},
   "source": [
    "#### 1)Show all employees working in the Department = \"Business Development\""
   ]
  },
  {
   "cell_type": "code",
   "execution_count": 151,
   "id": "fcce3621",
   "metadata": {},
   "outputs": [
    {
     "data": {
      "text/plain": [
       "[['3',\n",
       "  'Siward',\n",
       "  'Struijs',\n",
       "  'sstruijs2@wikia.com',\n",
       "  'Male',\n",
       "  'Business Development',\n",
       "  '432657',\n",
       "  'Armenian',\n",
       "  'London',\n",
       "  'United States'],\n",
       " ['6',\n",
       "  'Tova',\n",
       "  'Manclark',\n",
       "  'tmanclark5@army.mil',\n",
       "  'Female',\n",
       "  'Business Development',\n",
       "  '659039',\n",
       "  'Hiri Motu',\n",
       "  'Le Mans',\n",
       "  'France'],\n",
       " ['9',\n",
       "  'Warde',\n",
       "  'Stenett',\n",
       "  'wstenett8@altervista.org',\n",
       "  'Genderqueer',\n",
       "  'Business Development',\n",
       "  '807769',\n",
       "  'Moldovan',\n",
       "  'Bastia',\n",
       "  'France'],\n",
       " ['17',\n",
       "  'Bern',\n",
       "  'Lafond',\n",
       "  'blafondg@amazon.de',\n",
       "  'Non-binary',\n",
       "  'Business Development',\n",
       "  '933737',\n",
       "  'Greek',\n",
       "  'San Antonio',\n",
       "  'United States'],\n",
       " ['19',\n",
       "  'Hillery',\n",
       "  'Costall',\n",
       "  'hcostalli@rakuten.co.jp',\n",
       "  'Genderfluid',\n",
       "  'Business Development',\n",
       "  '736463',\n",
       "  'Norwegian',\n",
       "  'Clermont-Ferrand',\n",
       "  'France']]"
      ]
     },
     "execution_count": 151,
     "metadata": {},
     "output_type": "execute_result"
    }
   ],
   "source": [
    "emp_BD = emp_RDD1.filter(lambda val: val[5] == \"Business Development\")\n",
    "#Returns first 5 rows of List of Employees working in Business Development\n",
    "emp_BD.take(5)"
   ]
  },
  {
   "cell_type": "markdown",
   "id": "4b11a8a4",
   "metadata": {},
   "source": [
    "#### 2)Count total number of Employees in Organization"
   ]
  },
  {
   "cell_type": "code",
   "execution_count": 162,
   "id": "e07f649d",
   "metadata": {},
   "outputs": [
    {
     "data": {
      "text/plain": [
       "1000"
      ]
     },
     "execution_count": 162,
     "metadata": {},
     "output_type": "execute_result"
    }
   ],
   "source": [
    "emp_RDD1.count()\n"
   ]
  },
  {
   "cell_type": "markdown",
   "id": "6748ad4b",
   "metadata": {},
   "source": [
    "#### 3)Find Average Income of each Department"
   ]
  },
  {
   "cell_type": "code",
   "execution_count": 168,
   "id": "f8e04ad1",
   "metadata": {},
   "outputs": [
    {
     "data": {
      "text/plain": [
       "[('Accounting', 814474.3333333334),\n",
       " ('Human Resources', 772824.3829787234),\n",
       " ('Legal', 754482.0),\n",
       " ('Services', 765440.4444444445),\n",
       " ('Sales', 745501.5921052631),\n",
       " ('Product Management', 696304.2985074627),\n",
       " ('Support', 825695.0947368421),\n",
       " ('Business Development', 783081.2710280374),\n",
       " ('Research and Development', 789849.1486486486),\n",
       " ('Training', 757752.380952381),\n",
       " ('Marketing', 744170.7831325302),\n",
       " ('Engineering', 757094.5466666666)]"
      ]
     },
     "execution_count": 168,
     "metadata": {},
     "output_type": "execute_result"
    }
   ],
   "source": [
    "emp_Dep = emp_RDD1.map(lambda val: (val[5],val[6]))\n",
    "emp_total = emp_Dep.groupByKey().mapValues(len)\n",
    "emp_sum = emp_Dep.reduceByKey(lambda a1,a2: int(a1)+int(a2)).join(emp_total)\n",
    "emp_sum.map(lambda x : (x[0],x[1][0]/x[1][1])).collect()"
   ]
  },
  {
   "cell_type": "code",
   "execution_count": 171,
   "id": "1a7db746",
   "metadata": {},
   "outputs": [
    {
     "name": "stdout",
     "output_type": "stream",
     "text": [
      "Accounting 814474.3333333334\n",
      "Human Resources 772824.3829787234\n",
      "Legal 754482.0\n",
      "Services 765440.4444444445\n",
      "Sales 745501.5921052631\n",
      "Product Management 696304.2985074627\n",
      "Support 825695.0947368421\n",
      "Business Development 783081.2710280374\n",
      "Research and Development 789849.1486486486\n",
      "Training 757752.380952381\n",
      "Marketing 744170.7831325302\n",
      "Engineering 757094.5466666666\n"
     ]
    }
   ],
   "source": [
    "#Alternative\n",
    "emp_Dep = emp_RDD1.map(lambda val: (val[5],int(val[6])))\n",
    "emp_total = emp_Dep.groupByKey().mapValues(list).collect()\n",
    "for i in emp_total:\n",
    "    print(i[0], sum(i[1])/len(i[1]))"
   ]
  },
  {
   "cell_type": "markdown",
   "id": "bdf9dae7",
   "metadata": {},
   "source": [
    "#### 4)Count the number of Employees working in each department"
   ]
  },
  {
   "cell_type": "code",
   "execution_count": 175,
   "id": "0be340b0",
   "metadata": {},
   "outputs": [
    {
     "data": {
      "text/plain": [
       "[('Accounting', 93),\n",
       " ('Human Resources', 94),\n",
       " ('Legal', 80),\n",
       " ('Services', 72),\n",
       " ('Sales', 76),\n",
       " ('Product Management', 67),\n",
       " ('Support', 95),\n",
       " ('Business Development', 107),\n",
       " ('Research and Development', 74),\n",
       " ('Training', 84),\n",
       " ('Marketing', 83),\n",
       " ('Engineering', 75)]"
      ]
     },
     "execution_count": 175,
     "metadata": {},
     "output_type": "execute_result"
    }
   ],
   "source": [
    "emp_Dep = emp_RDD1.map(lambda val: (val[5],1)).groupByKey().mapValues(len)\n",
    "emp_Dep.collect()"
   ]
  },
  {
   "cell_type": "code",
   "execution_count": 133,
   "id": "b8f60d2c",
   "metadata": {},
   "outputs": [
    {
     "data": {
      "text/plain": [
       "[('Accounting', 93),\n",
       " ('Human Resources', 94),\n",
       " ('Legal', 80),\n",
       " ('Services', 72),\n",
       " ('Sales', 76),\n",
       " ('Product Management', 67),\n",
       " ('Support', 95),\n",
       " ('Business Development', 107),\n",
       " ('Research and Development', 74),\n",
       " ('Training', 84),\n",
       " ('Marketing', 83),\n",
       " ('Engineering', 75)]"
      ]
     },
     "execution_count": 133,
     "metadata": {},
     "output_type": "execute_result"
    }
   ],
   "source": [
    "#Alternative\n",
    "emp_RDD1.groupBy(lambda row : row[5]).mapValues(len).collect()"
   ]
  },
  {
   "cell_type": "markdown",
   "id": "18eb1f25",
   "metadata": {},
   "source": [
    "#### 5) List of all unique titles"
   ]
  },
  {
   "cell_type": "code",
   "execution_count": 172,
   "id": "c04d916b",
   "metadata": {},
   "outputs": [
    {
     "data": {
      "text/plain": [
       "['Accounting',\n",
       " 'Human Resources',\n",
       " 'Legal',\n",
       " 'Services',\n",
       " 'Sales',\n",
       " 'Product Management',\n",
       " 'Support',\n",
       " 'Business Development',\n",
       " 'Research and Development',\n",
       " 'Training',\n",
       " 'Marketing',\n",
       " 'Engineering']"
      ]
     },
     "execution_count": 172,
     "metadata": {},
     "output_type": "execute_result"
    }
   ],
   "source": [
    "#distinct - wide transformation\n",
    "emp_RDD1.map(lambda row : row[5]).distinct().collect()"
   ]
  },
  {
   "cell_type": "markdown",
   "id": "5ef473cb",
   "metadata": {},
   "source": [
    "#### 6) Count all the employees whose first letter starts with \"A\""
   ]
  },
  {
   "cell_type": "code",
   "execution_count": 174,
   "id": "bd38e7ee",
   "metadata": {},
   "outputs": [
    {
     "data": {
      "text/plain": [
       "81"
      ]
     },
     "execution_count": 174,
     "metadata": {},
     "output_type": "execute_result"
    }
   ],
   "source": [
    "emp_RDD1.filter(lambda x: x[1].startswith('A')).count()"
   ]
  },
  {
   "cell_type": "markdown",
   "id": "9d993aa7",
   "metadata": {},
   "source": [
    "#### 7) WordCount Example using Spark RDD"
   ]
  },
  {
   "cell_type": "code",
   "execution_count": 176,
   "id": "9d55ff4e",
   "metadata": {},
   "outputs": [
    {
     "name": "stdout",
     "output_type": "stream",
     "text": [
      "Found 3 items\r\n",
      "drwxr-xr-x   - hadoop supergroup          0 2022-11-21 15:25 /hbase\r\n",
      "drwxrwxrwx   - hadoop supergroup          0 2022-11-21 15:12 /tmp\r\n",
      "drwxr-xr-x   - hadoop supergroup          0 2022-11-21 15:11 /user\r\n"
     ]
    }
   ],
   "source": [
    "!hdfs dfs -ls /"
   ]
  },
  {
   "cell_type": "code",
   "execution_count": 177,
   "id": "d1cccf38",
   "metadata": {},
   "outputs": [],
   "source": [
    "!hdfs dfs -mkdir /wordcount"
   ]
  },
  {
   "cell_type": "code",
   "execution_count": 186,
   "id": "a2d8e2bd",
   "metadata": {},
   "outputs": [],
   "source": [
    "!hdfs dfs -put /home/hadoop/Downloads/Harry_Potter_and_the_Deathly_Hallows.txt /wordcount/"
   ]
  },
  {
   "cell_type": "code",
   "execution_count": 188,
   "id": "edd70025",
   "metadata": {},
   "outputs": [
    {
     "data": {
      "text/plain": [
       "[('the', 10280),\n",
       " ('and', 5283),\n",
       " ('to', 4843),\n",
       " ('of', 4121),\n",
       " ('he', 3845),\n",
       " ('a', 3523),\n",
       " ('was', 2681),\n",
       " ('his', 2602),\n",
       " ('in', 2159),\n",
       " ('had', 1990),\n",
       " ('harry', 1867),\n",
       " ('it', 1859),\n",
       " ('that', 1813),\n",
       " ('said', 1676),\n",
       " ('you', 1485),\n",
       " ('as', 1409),\n",
       " ('at', 1401),\n",
       " ('i', 1275),\n",
       " ('with', 1127),\n",
       " ('they', 1091),\n",
       " ('not', 1083),\n",
       " ('on', 984),\n",
       " ('for', 980),\n",
       " ('but', 975),\n",
       " ('she', 918),\n",
       " ('her', 864),\n",
       " ('—', 841),\n",
       " ('from', 836),\n",
       " ('have', 784),\n",
       " ('…', 756),\n",
       " ('were', 738),\n",
       " ('be', 737),\n",
       " ('him', 666),\n",
       " ('into', 655),\n",
       " ('hermione', 653),\n",
       " ('out', 650),\n",
       " ('could', 627),\n",
       " ('all', 583),\n",
       " ('ron', 578),\n",
       " ('what', 571),\n",
       " ('been', 567),\n",
       " ('“i', 535),\n",
       " ('up', 510),\n",
       " ('we', 498),\n",
       " ('there', 493),\n",
       " ('who', 490),\n",
       " ('is', 484),\n",
       " ('—”', 472),\n",
       " ('their', 465),\n",
       " ('did', 451),\n",
       " ('would', 443),\n",
       " ('them', 442),\n",
       " ('like', 424),\n",
       " ('if', 424),\n",
       " ('looked', 419),\n",
       " ('by', 419),\n",
       " ('harry,', 414),\n",
       " ('back', 409),\n",
       " ('so', 403),\n",
       " ('over', 383),\n",
       " ('this', 382),\n",
       " ('an', 381),\n",
       " ('then', 365),\n",
       " ('one', 364),\n",
       " ('wand', 352),\n",
       " ('do', 342),\n",
       " ('about', 339),\n",
       " ('know', 338),\n",
       " ('my', 334),\n",
       " ('are', 333),\n",
       " ('or', 333),\n",
       " ('when', 332),\n",
       " ('dumbledore', 330),\n",
       " ('your', 330),\n",
       " ('harry.', 324),\n",
       " ('still', 321),\n",
       " ('no', 319),\n",
       " ('more', 316),\n",
       " ('through', 315),\n",
       " ('around', 300),\n",
       " ('where', 298),\n",
       " ('which', 298),\n",
       " ('how', 298),\n",
       " ('down', 296),\n",
       " ('think', 288),\n",
       " ('just', 281),\n",
       " ('got', 266),\n",
       " ('him,', 265),\n",
       " ('now', 264),\n",
       " ('saw', 260),\n",
       " ('seemed', 255),\n",
       " ('don’t', 255),\n",
       " ('get', 254),\n",
       " ('than', 251),\n",
       " ('me', 250),\n",
       " ('ron,', 249),\n",
       " ('“you', 245),\n",
       " ('it,', 245),\n",
       " ('knew', 242),\n",
       " ('voldemort', 240),\n",
       " ('after', 239),\n",
       " ('harry’s', 239),\n",
       " ('little', 238),\n",
       " ('him.', 237),\n",
       " ('only', 235),\n",
       " ('death', 234),\n",
       " ('asked', 228),\n",
       " ('thought', 226),\n",
       " ('see', 225),\n",
       " ('it’s', 223),\n",
       " ('looking', 222),\n",
       " ('before', 222),\n",
       " ('hermione,', 221),\n",
       " ('will', 219),\n",
       " ('eyes', 214),\n",
       " ('never', 214),\n",
       " ('off', 214),\n",
       " ('its', 213),\n",
       " ('“but', 212),\n",
       " ('…”', 204),\n",
       " ('felt', 202),\n",
       " ('going', 197),\n",
       " ('can', 194),\n",
       " ('though', 189),\n",
       " ('told', 189),\n",
       " ('even', 186),\n",
       " ('upon', 184),\n",
       " ('said,', 183),\n",
       " ('other', 178),\n",
       " ('toward', 177),\n",
       " ('turned', 175),\n",
       " ('made', 174),\n",
       " ('ron.', 173),\n",
       " ('dark', 171),\n",
       " ('time', 171),\n",
       " ('it.', 170),\n",
       " ('come', 170),\n",
       " ('them,', 169),\n",
       " ('behind', 169),\n",
       " ('snape', 167),\n",
       " ('“and', 167),\n",
       " ('two', 165),\n",
       " ('hermione.', 162),\n",
       " ('something', 160),\n",
       " ('look', 160),\n",
       " ('go', 160),\n",
       " ('must', 158),\n",
       " ('any', 158),\n",
       " ('us', 156),\n",
       " ('i’m', 154),\n",
       " ('last', 153),\n",
       " ('left', 153),\n",
       " ('heard', 150),\n",
       " ('face', 150),\n",
       " ('because', 149),\n",
       " ('some', 148),\n",
       " ('“the', 146),\n",
       " ('way', 146),\n",
       " ('much', 146),\n",
       " ('long', 145),\n",
       " ('took', 143),\n",
       " ('might', 143),\n",
       " ('want', 143),\n",
       " ('great', 142),\n",
       " ('“what', 142),\n",
       " ('take', 141),\n",
       " ('voice', 141),\n",
       " ('old', 141),\n",
       " ('came', 140),\n",
       " ('away', 138),\n",
       " ('them.', 137),\n",
       " ('room', 136),\n",
       " ('sure', 136),\n",
       " ('himself', 136),\n",
       " ('hand', 136),\n",
       " ('inside', 134),\n",
       " ('why', 133),\n",
       " ('didn’t', 132),\n",
       " ('tell', 132),\n",
       " ('“we', 132),\n",
       " ('make', 131),\n",
       " ('under', 131),\n",
       " ('door', 131),\n",
       " ('', 130),\n",
       " ('once', 130),\n",
       " ('own', 130),\n",
       " ('need', 130),\n",
       " ('stood', 129),\n",
       " ('mrs.', 128),\n",
       " ('front', 127),\n",
       " ('can’t', 126),\n",
       " ('find', 125),\n",
       " ('you,', 124),\n",
       " ('another', 124),\n",
       " ('very', 123),\n",
       " ('while', 123),\n",
       " ('place', 122),\n",
       " ('really', 121),\n",
       " ('first', 121),\n",
       " ('against', 119),\n",
       " ('head', 117),\n",
       " ('has', 116),\n",
       " ('nothing', 114),\n",
       " ('here', 114),\n",
       " ('again.', 114),\n",
       " ('mr.', 113),\n",
       " ('moment', 113),\n",
       " ('trying', 112),\n",
       " ('wanted', 112),\n",
       " ('“well,', 111),\n",
       " ('few', 111),\n",
       " ('“it', 111),\n",
       " ('ever', 110),\n",
       " ('beside', 110),\n",
       " ('you’re', 109),\n",
       " ('weasley', 108),\n",
       " ('pulled', 108),\n",
       " ('those', 108),\n",
       " ('our', 108),\n",
       " ('“it’s', 108),\n",
       " ('both', 107),\n",
       " ('three', 107),\n",
       " ('too', 107),\n",
       " ('wand,', 106),\n",
       " ('onto', 106),\n",
       " ('every', 105),\n",
       " ('most', 104),\n",
       " ('between', 104),\n",
       " ('again,', 103),\n",
       " ('let', 102),\n",
       " ('without', 102),\n",
       " ('he’s', 102),\n",
       " ('“he', 101),\n",
       " ('hermione’s', 100),\n",
       " ('ron’s', 100),\n",
       " ('across', 99),\n",
       " ('cloak', 98),\n",
       " ('each', 98),\n",
       " ('say', 97),\n",
       " ('beneath', 96),\n",
       " ('open', 96),\n",
       " ('right', 95),\n",
       " ('people', 95),\n",
       " ('dumbledore’s', 95),\n",
       " ('sword', 94),\n",
       " ('raised', 92),\n",
       " ('eaters', 92),\n",
       " ('light', 92),\n",
       " ('that’s', 92),\n",
       " ('seen', 91),\n",
       " ('thing', 89),\n",
       " ('again', 88),\n",
       " ('sat', 88),\n",
       " ('keep', 88),\n",
       " ('hair', 87),\n",
       " ('being', 87),\n",
       " ('gave', 86),\n",
       " ('lupin', 86),\n",
       " ('many', 86),\n",
       " ('then,', 85),\n",
       " ('put', 85),\n",
       " ('fell', 85),\n",
       " ('close', 84),\n",
       " ('i’ve', 84),\n",
       " ('small', 84),\n",
       " ('same', 83),\n",
       " ('black', 83),\n",
       " ('whether', 83),\n",
       " ('found', 83),\n",
       " ('hear', 82),\n",
       " ('we’re', 82),\n",
       " ('give', 81),\n",
       " ('already', 80),\n",
       " ('side', 80),\n",
       " ('voldemort’s', 79),\n",
       " ('lord', 79),\n",
       " ('“harry,', 79),\n",
       " ('quite', 78),\n",
       " ('until', 78),\n",
       " ('“so', 77),\n",
       " ('wizard', 76),\n",
       " ('scar', 76),\n",
       " ('now,', 76),\n",
       " ('half', 76),\n",
       " ('bill', 76),\n",
       " ('good', 75),\n",
       " ('professor', 75),\n",
       " ('however,', 74),\n",
       " ('yet', 74),\n",
       " ('tried', 74),\n",
       " ('it?”', 74),\n",
       " ('“oh,', 74),\n",
       " ('hands', 74),\n",
       " ('kreacher', 74),\n",
       " ('her,', 73),\n",
       " ('hagrid', 73),\n",
       " ('feel', 73),\n",
       " ('“i’m', 73),\n",
       " ('began', 73),\n",
       " ('her.', 73),\n",
       " ('up,', 73),\n",
       " ('griphook', 73),\n",
       " ('set', 72),\n",
       " ('caught', 72),\n",
       " ('along', 72),\n",
       " ('albus', 72),\n",
       " ('these', 71),\n",
       " ('top', 71),\n",
       " ('man', 71),\n",
       " ('full', 70),\n",
       " ('sitting', 70),\n",
       " ('able', 70),\n",
       " ('moved', 70),\n",
       " ('boy', 69),\n",
       " ('help', 69),\n",
       " ('me,', 69),\n",
       " ('voldemort,', 68),\n",
       " ('new', 67),\n",
       " ('holding', 67),\n",
       " ('reached', 67),\n",
       " ('walked', 67),\n",
       " ('elder', 67),\n",
       " ('went', 67),\n",
       " ('taken', 67),\n",
       " ('you?”', 67),\n",
       " ('golden', 67),\n",
       " ('ministry', 66),\n",
       " ('supposed', 66),\n",
       " ('should', 66),\n",
       " ('end', 65),\n",
       " ('“that', 65),\n",
       " ('pointed', 65),\n",
       " ('rather', 65),\n",
       " ('feet', 65),\n",
       " ('there,', 64),\n",
       " ('several', 64),\n",
       " ('glanced', 64),\n",
       " ('luna', 64),\n",
       " ('held', 64),\n",
       " ('know,', 64),\n",
       " ('said.', 64),\n",
       " ('isn’t', 64),\n",
       " ('opened', 63),\n",
       " ('stone', 63),\n",
       " ('magical', 63),\n",
       " ('invisibility', 63),\n",
       " ('“', 63),\n",
       " ('second', 63),\n",
       " ('always', 62),\n",
       " ('voice.', 62),\n",
       " ('try', 62),\n",
       " ('“if', 62),\n",
       " ('standing', 62),\n",
       " ('ginny', 62),\n",
       " ('flew', 62),\n",
       " ('potter', 61),\n",
       " ('eyes.', 61),\n",
       " ('wearing', 61),\n",
       " ('hogwarts', 61),\n",
       " ('they’re', 61),\n",
       " ('you’ve', 60),\n",
       " ('anyone', 60),\n",
       " ('wand.', 60),\n",
       " ('silver', 60),\n",
       " ('white', 60),\n",
       " ('closed', 60),\n",
       " ('dumbledore,', 60),\n",
       " ('air', 60),\n",
       " ('passed', 59),\n",
       " ('“how', 59),\n",
       " ('lay', 59),\n",
       " ('whispered', 59),\n",
       " ('else', 59),\n",
       " ('bit', 59),\n",
       " ('house', 58),\n",
       " ('everything', 58),\n",
       " ('believe', 58),\n",
       " ('shouted', 58),\n",
       " ('nearly', 58),\n",
       " ('done', 58),\n",
       " ('magic', 58),\n",
       " ('we’ve', 58),\n",
       " ('won’t', 58),\n",
       " ('goblin', 58),\n",
       " ('lost', 57),\n",
       " ('i’d', 57),\n",
       " ('voice,', 57),\n",
       " ('whose', 56),\n",
       " ('?”', 56),\n",
       " ('use', 56),\n",
       " ('room,', 56),\n",
       " ('wizards', 56),\n",
       " ('face.', 56),\n",
       " ('pointing', 55),\n",
       " ('years', 55),\n",
       " ('happened', 55),\n",
       " ('far', 55),\n",
       " ('dropped', 55),\n",
       " ('watching', 54),\n",
       " ('kill', 54),\n",
       " ('am', 54),\n",
       " ('anything', 54),\n",
       " ('ran', 54),\n",
       " ('such', 54),\n",
       " ('locket', 54),\n",
       " ('nobody', 53),\n",
       " ('“my', 53),\n",
       " ('tiny', 53),\n",
       " ('forced', 53),\n",
       " ('“yeah,', 53),\n",
       " ('appeared', 53),\n",
       " ('better', 53),\n",
       " ('slightly', 53),\n",
       " ('here,', 52),\n",
       " ('godric’s', 52),\n",
       " ('xenophilius', 52),\n",
       " ('master', 52),\n",
       " ('next', 52),\n",
       " ('sound', 51),\n",
       " ('on,', 51),\n",
       " ('things', 51),\n",
       " ('mind', 51),\n",
       " ('leave', 51),\n",
       " ('there’s', 51),\n",
       " ('forward', 51),\n",
       " ('shall', 51),\n",
       " ('does', 51),\n",
       " ('whole', 51),\n",
       " ('hit', 51),\n",
       " ('“no,”', 51),\n",
       " ('“—', 50),\n",
       " ('family', 50),\n",
       " ('pain', 50),\n",
       " ('read', 50),\n",
       " ('called', 50),\n",
       " ('“no', 50),\n",
       " ('room.', 50),\n",
       " ('started', 49),\n",
       " ('known', 49),\n",
       " ('green', 49),\n",
       " ('kept', 49),\n",
       " ('sight', 49),\n",
       " ('lying', 49),\n",
       " ('i’ll', 49),\n",
       " ('“don’t', 49),\n",
       " ('horcrux', 49),\n",
       " ('barely', 48),\n",
       " ('perhaps', 48),\n",
       " ('fleur', 48),\n",
       " ('red', 48),\n",
       " ('snake', 48),\n",
       " ('time,', 48),\n",
       " ('fred', 48),\n",
       " ('used', 47),\n",
       " ('low', 47),\n",
       " ('malfoy', 47),\n",
       " ('shook', 47),\n",
       " ('bellatrix', 47),\n",
       " ('drew', 47),\n",
       " ('body', 47),\n",
       " ('since', 47),\n",
       " ('real', 47),\n",
       " ('hard', 47),\n",
       " ('large', 46),\n",
       " ('continued', 46),\n",
       " ('ask', 46),\n",
       " ('“no,', 46),\n",
       " ('order', 46),\n",
       " ('away,', 46),\n",
       " ('given', 46),\n",
       " ('together', 46),\n",
       " ('eyes,', 46),\n",
       " ('thinking', 46),\n",
       " ('deep', 46),\n",
       " ('doesn’t', 46),\n",
       " ('gone', 46),\n",
       " ('right,', 45),\n",
       " ('silence', 45),\n",
       " ('back,', 45),\n",
       " ('floor', 45),\n",
       " ('wizarding', 45),\n",
       " ('cold', 45),\n",
       " ('threw', 45),\n",
       " ('we’ll', 45),\n",
       " ('ought', 45),\n",
       " ('fear', 45),\n",
       " ('heart', 45),\n",
       " ('broke', 45),\n",
       " ('uncle', 45),\n",
       " ('others', 44),\n",
       " ('“yes,', 44),\n",
       " ('“why', 44),\n",
       " ('that,', 44),\n",
       " ('it,”', 44),\n",
       " ('idea', 44),\n",
       " ('burst', 44),\n",
       " ('james', 44),\n",
       " ('part', 44),\n",
       " ('broken', 44),\n",
       " ('coming', 44),\n",
       " ('mother', 44),\n",
       " ('head,', 43),\n",
       " ('well,', 43),\n",
       " ('exactly', 43),\n",
       " ('name', 43),\n",
       " ('realized', 43),\n",
       " ('arms', 43),\n",
       " ('door,', 43),\n",
       " ('enough', 43),\n",
       " ('you’d', 43),\n",
       " ('longer', 42),\n",
       " ('sent', 42),\n",
       " ('hidden', 42),\n",
       " ('himself,', 42),\n",
       " ('less', 42),\n",
       " ('bathilda', 42),\n",
       " ('wasn’t', 42),\n",
       " ('tent', 42),\n",
       " ('wands', 41),\n",
       " ('night', 41),\n",
       " ('scrimgeour', 41),\n",
       " ('rest', 41),\n",
       " ('“a', 41),\n",
       " ('killed', 41),\n",
       " ('entrance', 41),\n",
       " ('was,', 41),\n",
       " ('words', 41),\n",
       " ('cloak,', 41),\n",
       " ('floor,', 41),\n",
       " ('arm', 41),\n",
       " ('hand.', 40),\n",
       " ('“not', 40),\n",
       " ('you-know-who', 40),\n",
       " ('“oh', 40),\n",
       " ('past', 40),\n",
       " ('you,”', 40),\n",
       " ('stop', 40),\n",
       " ('cast', 40),\n",
       " ('running', 40),\n",
       " ('leaving', 40),\n",
       " ('dead', 40),\n",
       " ('remained', 40),\n",
       " ('well', 40),\n",
       " ('led', 39),\n",
       " ('dragon', 39),\n",
       " ('making', 39),\n",
       " ('feet,', 39),\n",
       " ('it.”', 39),\n",
       " ('there.', 39),\n",
       " ('mean', 39),\n",
       " ('wouldn’t', 39),\n",
       " ('dumbledore.', 39),\n",
       " ('face,', 39),\n",
       " ('number', 39),\n",
       " ('beyond', 38),\n",
       " ('talking', 38),\n",
       " ('muggle', 38),\n",
       " ('living', 38),\n",
       " ('best', 38),\n",
       " ('eater', 38),\n",
       " ('neville', 38),\n",
       " ('back.', 38),\n",
       " ('up.', 38),\n",
       " ('cried', 38),\n",
       " ('door.', 38),\n",
       " ('me.', 38),\n",
       " ('alone', 38),\n",
       " ('away.', 38),\n",
       " ('hurried', 38),\n",
       " ('moment,', 38),\n",
       " ('what’s', 38),\n",
       " ('became', 38),\n",
       " ('haven’t', 38),\n",
       " ('lily', 38),\n",
       " ('high', 37),\n",
       " ('young', 37),\n",
       " ('“all', 37),\n",
       " ('point', 37),\n",
       " ('getting', 37),\n",
       " ('“they', 37),\n",
       " ('hope', 37),\n",
       " ('charm', 37),\n",
       " ('also', 37),\n",
       " ('empty', 37),\n",
       " ('whom', 37),\n",
       " ('you.', 37),\n",
       " ('hold', 37),\n",
       " ('hall', 37),\n",
       " ('“that’s', 37),\n",
       " ('moving', 37),\n",
       " ('snape.', 36),\n",
       " ('move', 36),\n",
       " ('snape’s', 36),\n",
       " ('themselves', 36),\n",
       " ('mouth', 36),\n",
       " ('work', 36),\n",
       " ('flying', 36),\n",
       " ('power', 36),\n",
       " ('gryffindor', 36),\n",
       " ('except', 36),\n",
       " ('repeated', 36),\n",
       " ('hand,', 36),\n",
       " ('within', 36),\n",
       " ('potter,', 36),\n",
       " ('eye', 36),\n",
       " ('died', 36),\n",
       " ('turning', 36),\n",
       " ('simply', 36),\n",
       " ('“you’re', 36),\n",
       " ('tonks', 36),\n",
       " ('head.', 36),\n",
       " ('hardly', 36),\n",
       " ('understand', 35),\n",
       " ('probably', 35),\n",
       " ('ground', 35),\n",
       " ('darkness', 35),\n",
       " ('unable', 35),\n",
       " ('break', 35),\n",
       " ('\\x0cchapter', 35),\n",
       " ('all,', 35),\n",
       " ('couldn’t', 35),\n",
       " ('window', 35),\n",
       " ('someone', 35),\n",
       " ('regulus', 35),\n",
       " ('voldemort.', 34),\n",
       " ('stopped', 34),\n",
       " ('out,', 34),\n",
       " ('ollivander', 34),\n",
       " ('curse', 34),\n",
       " ('watched', 34),\n",
       " ('blood', 34),\n",
       " ('outside', 34),\n",
       " ('remembered', 34),\n",
       " ('doing', 34),\n",
       " ('castle', 34),\n",
       " ('hagrid,', 34),\n",
       " ('spoke', 33),\n",
       " ('short', 33),\n",
       " ('echoed', 33),\n",
       " ('cannot', 33),\n",
       " ('above', 33),\n",
       " ('school', 33),\n",
       " ('right,”', 33),\n",
       " ('“this', 33),\n",
       " ('steps', 33),\n",
       " ('“he’s', 33),\n",
       " ('air,', 33),\n",
       " ('phineas', 33),\n",
       " ('followed', 33),\n",
       " ('and,', 33),\n",
       " ('life', 33),\n",
       " ('seem', 33),\n",
       " ('kitchen', 33),\n",
       " ('everyone', 33),\n",
       " ('it?', 33),\n",
       " ('floor.', 32),\n",
       " ('fingers', 32),\n",
       " ('stared', 32),\n",
       " ('picked', 32),\n",
       " ('hiding', 32),\n",
       " ('backward', 32),\n",
       " ('waiting', 32),\n",
       " ('george', 32),\n",
       " ('sign', 32),\n",
       " ('slowly', 32),\n",
       " ('lupin.', 32),\n",
       " ('recognized', 32),\n",
       " ('feeling', 32),\n",
       " ('remember', 32),\n",
       " ('“i’ve', 32),\n",
       " ('course', 32),\n",
       " ('talk', 32),\n",
       " ('it!”', 32),\n",
       " ('deathly', 32),\n",
       " ('apparently', 31),\n",
       " ('figure', 31),\n",
       " ('snape,', 31),\n",
       " ('course,', 31),\n",
       " ('true', 31),\n",
       " ('now.', 31),\n",
       " ('“let’s', 31),\n",
       " ('joined', 31),\n",
       " ('managed', 31),\n",
       " ('let’s', 31),\n",
       " ('him;', 31),\n",
       " ('too.', 31),\n",
       " ('“is', 31),\n",
       " ('he’d', 31),\n",
       " ('she’s', 31),\n",
       " ('staring', 31),\n",
       " ('either', 31),\n",
       " ('returned', 31),\n",
       " ('word', 31),\n",
       " ('so,', 31),\n",
       " ('mundungus', 31),\n",
       " ('robes', 31),\n",
       " ('yaxley', 30),\n",
       " ('clear', 30),\n",
       " ('you.”', 30),\n",
       " ('question', 30),\n",
       " ('they’ve', 30),\n",
       " ('“there’s', 30),\n",
       " ('“what’s', 30),\n",
       " ('sirius', 30),\n",
       " ('straight', 30),\n",
       " ('table', 30),\n",
       " ('taking', 30),\n",
       " ('expected', 30),\n",
       " ('draco', 30),\n",
       " ('clutching', 30),\n",
       " ('fact', 30),\n",
       " ('later', 30),\n",
       " ('least', 30),\n",
       " ('sense', 30),\n",
       " ('dudley', 30),\n",
       " ('himself.', 30),\n",
       " ('jumped', 30),\n",
       " ('”', 30),\n",
       " ('enormous', 30),\n",
       " ('vanished', 30),\n",
       " ('reckon', 30),\n",
       " ('elf', 30),\n",
       " ('goblins', 30),\n",
       " ('once,', 29),\n",
       " ('is,', 29),\n",
       " ('run', 29),\n",
       " ('bright', 29),\n",
       " ('watch', 29),\n",
       " ('yes,', 29),\n",
       " ('rose', 29),\n",
       " ('petunia', 29),\n",
       " ('this,', 29),\n",
       " ('aren’t', 29),\n",
       " ('call', 29),\n",
       " ('suddenly', 29),\n",
       " ('“where', 29),\n",
       " ('lot', 29),\n",
       " ('finally', 29),\n",
       " ('wondered', 29),\n",
       " ('down,', 29),\n",
       " ('friends', 29),\n",
       " ('soon', 29),\n",
       " ('you’ll', 29),\n",
       " ('blue', 29),\n",
       " ('“there', 29),\n",
       " ('“we’re', 29),\n",
       " ('shot', 29),\n",
       " ('seized', 29),\n",
       " ('ginny,', 29),\n",
       " ('stay', 29),\n",
       " ('chance', 28),\n",
       " ('four', 28),\n",
       " ('gold', 28),\n",
       " ('father', 28),\n",
       " ('turn', 28),\n",
       " ('kingsley', 28),\n",
       " ('middle', 28),\n",
       " ('dragged', 28),\n",
       " ('free', 28),\n",
       " ('office', 28),\n",
       " ('thin', 28),\n",
       " ('show', 28),\n",
       " ('please', 28),\n",
       " ('on.', 28),\n",
       " ('hogwarts,', 28),\n",
       " ('other.', 28),\n",
       " ('stairs', 28),\n",
       " ('vernon', 28),\n",
       " ('case', 28),\n",
       " ('hall,', 28),\n",
       " ('seconds', 28),\n",
       " ('herself', 28),\n",
       " ('spell', 28),\n",
       " ('brought', 28),\n",
       " ('having', 28),\n",
       " ('mcgonagall', 28),\n",
       " ('diadem', 28),\n",
       " ('heavy', 27),\n",
       " ('pale', 27),\n",
       " ('placed', 27),\n",
       " ('home', 27),\n",
       " ('lucius', 27),\n",
       " ('world', 27),\n",
       " ('edge', 27),\n",
       " ('grindelwald', 27),\n",
       " ('bag', 27),\n",
       " ('filled', 27),\n",
       " ('d’you', 27),\n",
       " ('shaking', 27),\n",
       " ('slipped', 27),\n",
       " ('needed', 27),\n",
       " ('me,”', 27),\n",
       " ('corridor', 27),\n",
       " ('completely', 27),\n",
       " ('wall', 27),\n",
       " ('“are', 27),\n",
       " ('avoid', 27),\n",
       " ('spells', 27),\n",
       " ('breath', 27),\n",
       " ('muriel', 27),\n",
       " ('swung', 26),\n",
       " ('here,”', 26),\n",
       " ('bring', 26),\n",
       " ('tears', 26),\n",
       " ('“she', 26),\n",
       " ('days', 26),\n",
       " ('nose', 26),\n",
       " ('maybe', 26),\n",
       " ('plan', 26),\n",
       " ('me?”', 26),\n",
       " ('me.”', 26),\n",
       " ('he,', 26),\n",
       " ('other,', 26),\n",
       " ('sudden', 26),\n",
       " ('keeping', 26),\n",
       " ('woman', 26),\n",
       " ('wait', 26),\n",
       " ('we’d', 26),\n",
       " ('couple', 26),\n",
       " ('soul', 26),\n",
       " ('lupin,', 26),\n",
       " ('darkness,', 26),\n",
       " ('way,', 26),\n",
       " ('weasley.', 26),\n",
       " ('stuff', 26),\n",
       " ('shut', 26),\n",
       " ('objects', 26),\n",
       " ('hallows', 26),\n",
       " ('greyback', 26),\n",
       " ('neither', 25),\n",
       " ('walls', 25),\n",
       " ('fire', 25),\n",
       " ('none', 25),\n",
       " ('protection', 25),\n",
       " ('open.', 25),\n",
       " ('mean,', 25),\n",
       " ('mother’s', 25),\n",
       " ('different', 25),\n",
       " ('no,', 25),\n",
       " ('added', 25),\n",
       " ('decided', 25),\n",
       " ('shock', 25),\n",
       " ('near', 25),\n",
       " ('live', 25),\n",
       " ('they’ll', 25),\n",
       " ('do,', 25),\n",
       " ('beaded', 25),\n",
       " ('somewhere', 25),\n",
       " ('sort', 25),\n",
       " ('pocket', 25),\n",
       " ('lift', 25),\n",
       " ('picture', 25),\n",
       " ('actually', 25),\n",
       " ('house,', 25),\n",
       " ('witch', 25),\n",
       " ('burned', 25),\n",
       " ('auntie', 25),\n",
       " ('yelled', 25),\n",
       " ('knew,', 25),\n",
       " ('too,', 25),\n",
       " ('horcrux,', 25),\n",
       " ('hall.', 25),\n",
       " ('apart', 24),\n",
       " ('pushed', 24),\n",
       " ('marble', 24),\n",
       " ('change', 24),\n",
       " ('you?', 24),\n",
       " ('finger', 24),\n",
       " ('mention', 24),\n",
       " ('together,', 24),\n",
       " ('ariana', 24),\n",
       " ('book', 24),\n",
       " ('may', 24),\n",
       " ('safe', 24),\n",
       " ('asked,', 24),\n",
       " ('mad-eye', 24),\n",
       " ('fred,', 24),\n",
       " ('thick', 24),\n",
       " ('harry!”', 24),\n",
       " ('ceiling', 24),\n",
       " ('“…', 24),\n",
       " ('lived', 24),\n",
       " ('darkness.', 24),\n",
       " ('goblin,', 24),\n",
       " ('silent', 24),\n",
       " ('directly', 24),\n",
       " ('us,', 24),\n",
       " ('once.', 24),\n",
       " ('aunt', 24),\n",
       " ('met', 24),\n",
       " ('do.', 24),\n",
       " ('miss', 24),\n",
       " ('all.', 24),\n",
       " ('skeeter', 24),\n",
       " ('telling', 24),\n",
       " ('loud', 24),\n",
       " ('pulling', 24),\n",
       " ('dementors', 24),\n",
       " ('sorry', 24),\n",
       " ('odd', 24),\n",
       " ('scream', 24),\n",
       " ('return', 24),\n",
       " ('mum', 24),\n",
       " ('meant', 24),\n",
       " ('around,', 24),\n",
       " ('snitch', 24),\n",
       " ('below', 23),\n",
       " ('means', 23),\n",
       " ('speak', 23),\n",
       " ('nor', 23),\n",
       " ('become', 23),\n",
       " ('cut', 23),\n",
       " ('although', 23),\n",
       " ('him:', 23),\n",
       " ('looks', 23),\n",
       " ('ready', 23),\n",
       " ('sorry,', 23),\n",
       " ('covered', 23),\n",
       " ('asked.', 23),\n",
       " ('hollow', 23),\n",
       " ('screamed', 23),\n",
       " ('terrible', 23),\n",
       " ('table,', 23),\n",
       " ('robes,', 23),\n",
       " ('happy', 23),\n",
       " ('bellatrix’s', 23),\n",
       " ('important', 23),\n",
       " ('roared', 23),\n",
       " ('“harry', 23),\n",
       " ('in,', 23),\n",
       " ('answer', 23),\n",
       " ('somebody', 23),\n",
       " ('“who', 23),\n",
       " ('later,', 23),\n",
       " ('luna,', 23),\n",
       " ('kind', 22),\n",
       " ('says', 22),\n",
       " ('aside', 22),\n",
       " ('brother', 22),\n",
       " ('distant', 22),\n",
       " ('surely', 22),\n",
       " ('hole', 22),\n",
       " ('falling', 22),\n",
       " ('“dumbledore', 22),\n",
       " ('join', 22),\n",
       " ('fighting', 22),\n",
       " ('trees', 22),\n",
       " ('almost', 22),\n",
       " ('faces', 22),\n",
       " ('discovered', 22),\n",
       " ('“of', 22),\n",
       " ('bottom', 22),\n",
       " ('night,', 22),\n",
       " ('parents', 22),\n",
       " ('dangerous', 22),\n",
       " ('opening', 22),\n",
       " ('whatever', 22),\n",
       " ('expect', 22),\n",
       " ('smile', 22),\n",
       " ('“what?”', 22),\n",
       " ('foot', 22),\n",
       " ('time.', 22),\n",
       " ('climbed', 22),\n",
       " ('usually', 22),\n",
       " ('that,”', 22),\n",
       " ('destroy', 22),\n",
       " ('bed', 22),\n",
       " ('nodded', 22),\n",
       " ('tent,', 22),\n",
       " ('students', 22),\n",
       " ('forest', 22),\n",
       " ('gringotts', 22),\n",
       " ('high,', 21),\n",
       " ('strode', 21),\n",
       " ('drawing', 21),\n",
       " ('light,', 21),\n",
       " ('right.', 21),\n",
       " ('determined', 21),\n",
       " ('feet.', 21),\n",
       " ('sister', 21),\n",
       " ('“do', 21),\n",
       " ('third', 21),\n",
       " ('leapt', 21),\n",
       " ('doge', 21),\n",
       " ('matter', 21),\n",
       " ('death,', 21),\n",
       " ('following', 21),\n",
       " ('meet', 21),\n",
       " ('see.', 21),\n",
       " ('hours', 21),\n",
       " ('eaters,', 21),\n",
       " ('out.', 21),\n",
       " ('“no!”', 21),\n",
       " ('shouted,', 21),\n",
       " ('water', 21),\n",
       " ('pretty', 21),\n",
       " ('glass', 21),\n",
       " ('here.', 21),\n",
       " ('tightly', 21),\n",
       " ('happen', 21),\n",
       " ...]"
      ]
     },
     "execution_count": 188,
     "metadata": {},
     "output_type": "execute_result"
    }
   ],
   "source": [
    "rdd = sc.textFile('/wordcount/Harry_Potter_and_the_Deathly_Hallows.txt')\n",
    "rdd_word1 = rdd.flatMap(lambda line : line.split(\" \"))\n",
    "rdd_word2 = rdd_word1.map(lambda word : (word.lower(),1))\n",
    "rdd_word3 = rdd_word2.reduceByKey(lambda x, y: x + y)\n",
    "rdd_word4 = rdd_word3.filter(lambda val : val[1] > 10).sortBy(lambda val : val[1], ascending = False)\n",
    "rdd_word4.collect()"
   ]
  },
  {
   "cell_type": "markdown",
   "id": "f261fbcb",
   "metadata": {},
   "source": [
    "#### 8) Count the number of Employees working in each city and Sort City by Employees Count in Desc Order."
   ]
  },
  {
   "cell_type": "code",
   "execution_count": 195,
   "id": "c53928bf",
   "metadata": {},
   "outputs": [
    {
     "data": {
      "text/plain": [
       "[('Washington', 13),\n",
       " ('Berlin', 13),\n",
       " ('Lyon', 13),\n",
       " ('Cincinnati', 9),\n",
       " ('Dallas', 9),\n",
       " ('Cergy-Pontoise', 9),\n",
       " ('Sacramento', 8),\n",
       " ('Strasbourg', 8),\n",
       " ('Lille', 7),\n",
       " ('Dijon', 7),\n",
       " ('Los Angeles', 7),\n",
       " ('Pittsburgh', 7),\n",
       " ('Bordeaux', 7),\n",
       " ('San Jose', 7),\n",
       " ('Denver', 7),\n",
       " ('El Paso', 7),\n",
       " ('Montpellier', 7),\n",
       " ('Chicago', 6),\n",
       " ('Tulsa', 6),\n",
       " ('Quimper', 6),\n",
       " ('Marseille', 6),\n",
       " ('New York City', 6),\n",
       " ('Pau', 6),\n",
       " ('Poitiers', 6),\n",
       " ('Montgomery', 6),\n",
       " ('Le Mans', 5),\n",
       " ('Avignon', 5),\n",
       " ('Seattle', 5),\n",
       " ('Marne-la-Vallée', 5),\n",
       " ('Limoges', 5),\n",
       " ('Oakland', 5),\n",
       " ('Fort Worth', 5),\n",
       " ('Houston', 5),\n",
       " ('San Diego', 5),\n",
       " ('Philadelphia', 5),\n",
       " ('Paris La Défense', 5),\n",
       " ('Rungis', 5),\n",
       " ('Perpignan', 5),\n",
       " ('Rouen', 5),\n",
       " ('Caen', 5),\n",
       " ('Minneapolis', 5),\n",
       " ('Nantes', 5),\n",
       " ('Orléans', 5),\n",
       " ('Nürnberg', 4),\n",
       " ('Mobile', 4),\n",
       " ('Aix-en-Provence', 4),\n",
       " ('Angoulême', 4),\n",
       " ('Charlotte', 4),\n",
       " ('Düsseldorf', 4),\n",
       " ('Topeka', 4),\n",
       " ('Kansas City', 4),\n",
       " ('Roissy Charles-de-Gaulle', 4),\n",
       " ('Saint Petersburg', 4),\n",
       " ('Levallois-Perret', 4),\n",
       " ('Orlando', 4),\n",
       " ('Rueil-Malmaison', 4),\n",
       " ('Detroit', 4),\n",
       " ('Springfield', 4),\n",
       " ('Phoenix', 4),\n",
       " ('Tampa', 4),\n",
       " ('Lexington', 4),\n",
       " ('Tallahassee', 4),\n",
       " ('Hamburg', 4),\n",
       " ('Midland', 4),\n",
       " ('Miami', 4),\n",
       " ('Des Moines', 4),\n",
       " ('New Orleans', 4),\n",
       " ('Toulouse', 3),\n",
       " ('Lees Summit', 3),\n",
       " ('Columbus', 3),\n",
       " ('Paris 13', 3),\n",
       " ('Bonneuil-sur-Marne', 3),\n",
       " ('Mesquite', 3),\n",
       " ('Hannover', 3),\n",
       " ('Amarillo', 3),\n",
       " ('Atlanta', 3),\n",
       " ('Dayton', 3),\n",
       " ('Vannes', 3),\n",
       " ('Nîmes', 3),\n",
       " ('Besançon', 3),\n",
       " ('Le Havre', 3),\n",
       " ('Paris 07', 3),\n",
       " ('Rodez', 3),\n",
       " ('Norfolk', 3),\n",
       " ('Fresno', 3),\n",
       " ('Seminole', 3),\n",
       " ('Grand Rapids', 3),\n",
       " ('San Antonio', 3),\n",
       " ('Lansing', 3),\n",
       " ('Oklahoma City', 3),\n",
       " ('Arlington', 3),\n",
       " ('Digne-les-Bains', 3),\n",
       " ('Fontenay-sous-Bois', 3),\n",
       " ('Birmingham', 3),\n",
       " ('Mantes-la-Jolie', 3),\n",
       " ('Rockford', 3),\n",
       " ('Albany', 3),\n",
       " ('Newport News', 3),\n",
       " ('Villeneuve-la-Garenne', 3),\n",
       " ('Valence', 3),\n",
       " ('Cluses', 3),\n",
       " ('Paris 20', 3),\n",
       " ('Creil', 3),\n",
       " ('Erie', 3),\n",
       " ('München', 3),\n",
       " ('Nice', 3),\n",
       " ('West Palm Beach', 3),\n",
       " ('Long Beach', 3),\n",
       " ('Chartres', 3),\n",
       " ('Austin', 3),\n",
       " ('Tarbes', 3),\n",
       " ('Paris 11', 2),\n",
       " ('Stockton', 2),\n",
       " ('Bastia', 2),\n",
       " ('Clermont-Ferrand', 2),\n",
       " ('Landivisiau', 2),\n",
       " ('Saint-Pierre-des-Corps', 2),\n",
       " ('Wissous', 2),\n",
       " ('Reims', 2),\n",
       " ('Bourges', 2),\n",
       " ('Amiens', 2),\n",
       " ('Fécamp', 2),\n",
       " ('Saint-Ouen', 2),\n",
       " ('Brooklyn', 2),\n",
       " ('Mulhouse', 2),\n",
       " ('Beaumont', 2),\n",
       " ('Bayonne', 2),\n",
       " ('Vedène', 2),\n",
       " ('La Tour-du-Pin', 2),\n",
       " ('Honolulu', 2),\n",
       " ('Stuttgart', 2),\n",
       " ('Hartford', 2),\n",
       " ('Istres', 2),\n",
       " ('Whittier', 2),\n",
       " ('Hendaye', 2),\n",
       " ('Ivry-sur-Seine', 2),\n",
       " ('Roubaix', 2),\n",
       " ('Pouzauges', 2),\n",
       " ('Leipzig', 2),\n",
       " ('Erfurt', 2),\n",
       " ('Rive-de-Gier', 2),\n",
       " ('Vesoul', 2),\n",
       " ('Saint-Denis', 2),\n",
       " ('Melun', 2),\n",
       " ('Jacksonville', 2),\n",
       " ('Valenciennes', 2),\n",
       " ('Young America', 2),\n",
       " ('Yonkers', 2),\n",
       " ('Saint-Gaudens', 2),\n",
       " ('San Francisco', 2),\n",
       " ('Cambrai', 2),\n",
       " ('Golbey', 2),\n",
       " ('Colmar', 2),\n",
       " ('Metz', 2),\n",
       " ('Port Washington', 2),\n",
       " ('Massy', 2),\n",
       " ('Avallon', 2),\n",
       " ('Alençon', 2),\n",
       " ('Saint-Étienne', 2),\n",
       " ('Santa Rosa', 2),\n",
       " ('Pontarlier', 2),\n",
       " ('Dortmund', 2),\n",
       " ('Tucson', 2),\n",
       " ('Pompano Beach', 2),\n",
       " ('Carcassonne', 2),\n",
       " ('Shreveport', 2),\n",
       " ('Sainte-Luce-sur-Loire', 2),\n",
       " ('Châteauroux', 2),\n",
       " ('Toulon', 2),\n",
       " ('Richmond', 2),\n",
       " ('Rennes', 2),\n",
       " ('Boston', 2),\n",
       " ('Clearwater', 2),\n",
       " ('Cholet', 2),\n",
       " ('Huntington', 2),\n",
       " ('Angers', 2),\n",
       " ('Paris 01', 2),\n",
       " ('Clamart', 2),\n",
       " ('Futuroscope', 2),\n",
       " ('Frankfurt am Main', 2),\n",
       " ('Pont-Audemer', 2),\n",
       " ('Waterbury', 2),\n",
       " ('Halle', 2),\n",
       " ('Milwaukee', 2),\n",
       " ('Châtillon', 2),\n",
       " ('Montbéliard', 2),\n",
       " ('Louisville', 2),\n",
       " ('Évreux', 2),\n",
       " ('Bobigny', 2),\n",
       " ('Charleston', 2),\n",
       " ('Bondy', 2),\n",
       " ('Carrières-sur-Seine', 2),\n",
       " ('Châlons-en-Champagne', 2),\n",
       " ('Rochester', 2),\n",
       " ('Créteil', 2),\n",
       " ('Bronx', 2),\n",
       " ('Shawnee Mission', 2),\n",
       " ('Saint-Jean-de-Braye', 2),\n",
       " ('Evansville', 2),\n",
       " ('Trenton', 2),\n",
       " ('Paris 17', 2),\n",
       " ('Paris 08', 2),\n",
       " ('Corona', 2),\n",
       " ('Paris 14', 2),\n",
       " ('Braunschweig', 2),\n",
       " ('Wuppertal', 2),\n",
       " ('Saumur', 2),\n",
       " ('Troyes', 2),\n",
       " ('Solingen', 2),\n",
       " ('Nancy', 2),\n",
       " ('Iowa City', 2),\n",
       " ('Colombes', 2),\n",
       " ('Las Vegas', 2),\n",
       " ('Flushing', 2),\n",
       " ('Taverny', 1),\n",
       " ('Plérin', 1),\n",
       " ('Cedar Rapids', 1),\n",
       " ('Villeneuve-lès-Avignon', 1),\n",
       " ('Decatur', 1),\n",
       " ('Bagnères-de-Bigorre', 1),\n",
       " ('Bloomington', 1),\n",
       " ('Chantepie', 1),\n",
       " ('La Gacilly', 1),\n",
       " ('Port-de-Bouc', 1),\n",
       " ('Beaufort', 1),\n",
       " ('Béziers', 1),\n",
       " ('Grenoble', 1),\n",
       " ('Orange', 1),\n",
       " ('Champagnole', 1),\n",
       " ('Épinal', 1),\n",
       " ('Baton Rouge', 1),\n",
       " ('Verdun', 1),\n",
       " ('Grand Junction', 1),\n",
       " ('Brest', 1),\n",
       " ('Kassel', 1),\n",
       " ('Paterson', 1),\n",
       " ('Moissy-Cramayel', 1),\n",
       " ('Lavaur', 1),\n",
       " ('Paris 10', 1),\n",
       " ('Hyères', 1),\n",
       " ('Méru', 1),\n",
       " ('Lancaster', 1),\n",
       " ('Fort Wayne', 1),\n",
       " ('Saint-Claude', 1),\n",
       " ('Croix', 1),\n",
       " ('Lisieux', 1),\n",
       " ('Alexandria', 1),\n",
       " ('Khawr Fakkān', 1),\n",
       " ('Belfort', 1),\n",
       " ('Évry', 1),\n",
       " ('Fresnes', 1),\n",
       " ('Fairbanks', 1),\n",
       " ('Fort Smith', 1),\n",
       " ('Arras', 1),\n",
       " ('Saint-Jouan-des-Guérets', 1),\n",
       " ('Champaign', 1),\n",
       " ('Saint Joseph', 1),\n",
       " ('Vendargues', 1),\n",
       " ('Noailles', 1),\n",
       " ('Billère', 1),\n",
       " ('Ar Ruways', 1),\n",
       " ('Providence', 1),\n",
       " ('Beaverton', 1),\n",
       " ('Katy', 1),\n",
       " ('Palaiseau', 1),\n",
       " ('Saint-Cloud', 1),\n",
       " ('Molsheim', 1),\n",
       " ('Monroe', 1),\n",
       " ('Lincoln', 1),\n",
       " ('Bernay', 1),\n",
       " ('Villefranche-sur-Mer', 1),\n",
       " ('Mérignac', 1),\n",
       " ('Villefontaine', 1),\n",
       " ('Fleury-les-Aubrais', 1),\n",
       " ('Lübeck', 1),\n",
       " ('Buffalo', 1),\n",
       " ('Macon', 1),\n",
       " ('Challans', 1),\n",
       " ('Parthenay', 1),\n",
       " ('Kiel', 1),\n",
       " ('Caluire-et-Cuire', 1),\n",
       " ('Versailles', 1),\n",
       " ('Les Clayes-sous-Bois', 1),\n",
       " ('Villejuif', 1),\n",
       " ('La Charité-sur-Loire', 1),\n",
       " ('Migrate', 1),\n",
       " ('Montreuil', 1),\n",
       " ('Sablé-sur-Sarthe', 1),\n",
       " ('Harrisburg', 1),\n",
       " ('Columbia', 1),\n",
       " ('Savannah', 1),\n",
       " ('Al Ain', 1),\n",
       " ('Sainte-Geneviève-des-Bois', 1),\n",
       " ('Quimperlé', 1),\n",
       " ('Pontivy', 1),\n",
       " ('Offenbach', 1),\n",
       " ('Mitry-Mory', 1),\n",
       " ('Virginia Beach', 1),\n",
       " ('Saint-Nazaire', 1),\n",
       " ('Dieppe', 1),\n",
       " ('La Ferté-Bernard', 1),\n",
       " ('Roanoke', 1),\n",
       " ('Witzenhausen', 1),\n",
       " ('Saint Augustine', 1),\n",
       " ('Hamburg Sankt Pauli', 1),\n",
       " ('Lons-le-Saunier', 1),\n",
       " ('Wilkes Barre', 1),\n",
       " ('Englewood', 1),\n",
       " ('Bar-le-Duc', 1),\n",
       " ('Saint-Amand-les-Eaux', 1),\n",
       " ('Carpentras', 1),\n",
       " ('Langres', 1),\n",
       " ('Illkirch-Graffenstaden', 1),\n",
       " ('Bethlehem', 1),\n",
       " ('Agraharam', 1),\n",
       " ('South Bend', 1),\n",
       " ('Saint-Dié-des-Vosges', 1),\n",
       " ('Privas', 1),\n",
       " ('Oyonnax', 1),\n",
       " ('Laval', 1),\n",
       " ('Le Perreux-sur-Marne', 1),\n",
       " ('Köln', 1),\n",
       " ('Madison', 1),\n",
       " ('West Hartford', 1),\n",
       " ('Dresden', 1),\n",
       " ('Bergerac', 1),\n",
       " ('Villeurbanne', 1),\n",
       " ('Colorado Springs', 1),\n",
       " ('Bagneux', 1),\n",
       " ('Meylan', 1),\n",
       " ('Le Chambon-Feugerolles', 1),\n",
       " ('Aix-les-Bains', 1),\n",
       " ('Nevers', 1),\n",
       " ('Chemnitz', 1),\n",
       " ('Mundolsheim', 1),\n",
       " ('Issoudun', 1),\n",
       " ('Saint-Marcellin', 1),\n",
       " ('Battle Creek', 1),\n",
       " ('Peoria', 1),\n",
       " ('Annapolis', 1),\n",
       " ('Tempe', 1),\n",
       " ('Lens', 1),\n",
       " ('Paris 16', 1),\n",
       " ('Youngstown', 1),\n",
       " ('Bollène', 1),\n",
       " ('Chaumont', 1),\n",
       " ('Annonay', 1),\n",
       " ('Sophia Antipolis', 1),\n",
       " ('Nanterre', 1),\n",
       " ('Draguignan', 1),\n",
       " ('Noyon', 1),\n",
       " ('Pensacola', 1),\n",
       " ('Allentown', 1),\n",
       " ('Vanves', 1),\n",
       " ('Mende', 1),\n",
       " ('Jeffersonville', 1),\n",
       " ('Burbank', 1),\n",
       " ('Greenville', 1),\n",
       " ('Ajman', 1),\n",
       " ('Saint-Avold', 1),\n",
       " ('Daytona Beach', 1),\n",
       " ('Salt Lake City', 1),\n",
       " ('Saint-Quentin', 1),\n",
       " ('London', 1),\n",
       " ('Douarnenez', 1),\n",
       " ('Maisons-Alfort', 1),\n",
       " ('Houilles', 1),\n",
       " ('Millau', 1),\n",
       " ('Mayenne', 1),\n",
       " ('Saint-Julien-en-Genevois', 1),\n",
       " (\"L'Aigle\", 1),\n",
       " ('Schiltigheim', 1),\n",
       " ('Jamaica', 1),\n",
       " ('Akron', 1),\n",
       " ('Little Rock', 1),\n",
       " ('Toul', 1),\n",
       " ('Vagney', 1),\n",
       " ('Firminy', 1),\n",
       " ('Provins', 1),\n",
       " ('Saint-Laurent-Blangy', 1),\n",
       " ('Hanau', 1),\n",
       " ('Abu Dhabi', 1),\n",
       " ('Bremen', 1),\n",
       " ('Thouars', 1),\n",
       " ('Cannes', 1),\n",
       " ('Aime', 1),\n",
       " ('La Valette-du-Var', 1),\n",
       " ('Maisons-Laffitte', 1),\n",
       " ('Montauban', 1),\n",
       " ('Crépy-en-Valois', 1),\n",
       " ('Dunkerque', 1),\n",
       " ('Marmande', 1),\n",
       " ('Huntington Beach', 1),\n",
       " ('Denton', 1),\n",
       " ('Lucé', 1),\n",
       " ('Bryan', 1),\n",
       " ('Charleville-Mézières', 1),\n",
       " ('Montceau-les-Mines', 1),\n",
       " (\"Saint-Maixent-l'École\", 1),\n",
       " ('Fort Lauderdale', 1),\n",
       " ('Courtaboeuf', 1),\n",
       " ('Saint-Laurent-du-Var', 1),\n",
       " ('Mainz', 1),\n",
       " ('Blois', 1),\n",
       " ('Thaon-les-Vosges', 1),\n",
       " ('Dinan', 1),\n",
       " ('Castres', 1),\n",
       " ('Montfavet', 1),\n",
       " ('Beaune', 1),\n",
       " ('Vancouver', 1),\n",
       " ('Pamiers', 1),\n",
       " ('Gary', 1),\n",
       " ('Locminé', 1),\n",
       " ('Courbevoie', 1),\n",
       " ('Simi Valley', 1),\n",
       " ('Carlsbad', 1),\n",
       " ('Melbourne', 1),\n",
       " ('Annecy', 1),\n",
       " ('Carson City', 1),\n",
       " ('Montesson', 1),\n",
       " ('Baltimore', 1),\n",
       " ('New Brunswick', 1),\n",
       " ('Albi', 1),\n",
       " ('Baume-les-Dames', 1),\n",
       " ('Sotteville-lès-Rouen', 1),\n",
       " ('Saverne', 1),\n",
       " ('Cosne-Cours-sur-Loire', 1),\n",
       " ('Paris 09', 1),\n",
       " ('Saarbrücken', 1),\n",
       " ('Guebwiller', 1),\n",
       " ('Moulins', 1),\n",
       " ('Étampes', 1),\n",
       " ('Vineuil', 1),\n",
       " ('Le Kremlin-Bicêtre', 1),\n",
       " ('Mesa', 1),\n",
       " ('Nemours', 1),\n",
       " ('Antony', 1),\n",
       " ('Mâcon', 1),\n",
       " ('New Haven', 1),\n",
       " ('Lakeland', 1),\n",
       " ('Boca Raton', 1),\n",
       " ('Saint-Étienne-du-Rouvray', 1),\n",
       " ('Salon-de-Provence', 1),\n",
       " ('Durham', 1),\n",
       " ('Saint-Jean-de-Monts', 1),\n",
       " ('Aubenas', 1),\n",
       " ('Thionville', 1),\n",
       " ('Saginaw', 1),\n",
       " ('Poissy', 1),\n",
       " ('Pasadena', 1),\n",
       " ('Villefranche-sur-Saône', 1),\n",
       " ('Brive-la-Gaillarde', 1),\n",
       " ('Augsburg', 1),\n",
       " ('Cherbourg-Octeville', 1),\n",
       " ('Naples', 1),\n",
       " ('Aachen', 1),\n",
       " ('Stamford', 1),\n",
       " ('Paris 06', 1),\n",
       " ('Saint-Quentin-en-Yvelines', 1),\n",
       " ('Bourg-en-Bresse', 1),\n",
       " ('Ajaccio', 1),\n",
       " ('Gainesville', 1),\n",
       " ('Nashville', 1),\n",
       " ('Camden', 1),\n",
       " ('Fort Myers', 1),\n",
       " ('Vitry-sur-Seine', 1),\n",
       " ('Clisson', 1),\n",
       " ('Frontignan', 1),\n",
       " ('Toledo', 1),\n",
       " ('Boulogne-sur-Mer', 1),\n",
       " ('Cognac', 1),\n",
       " ('Aulnay-sous-Bois', 1),\n",
       " ('Beauvais', 1),\n",
       " ('Colomiers', 1),\n",
       " ('Carquefou', 1),\n",
       " ('High Point', 1),\n",
       " ('La Chapelle-sur-Erdre', 1),\n",
       " ('Wilmington', 1),\n",
       " ('Al Fujayrah', 1),\n",
       " ('Murfreesboro', 1),\n",
       " ('Vénissieux', 1),\n",
       " ('Chandler', 1),\n",
       " ('Paris 18', 1),\n",
       " ('Saint-Maurice', 1),\n",
       " ('Guingamp', 1),\n",
       " ('San Rafael', 1),\n",
       " ('La Rochelle', 1),\n",
       " ('Paris 12', 1),\n",
       " ('Albertville', 1),\n",
       " ('Valdosta', 1),\n",
       " ('Goussainville', 1),\n",
       " ('Le Bourget-du-Lac', 1),\n",
       " ('Bourg-lès-Valence', 1),\n",
       " ('Saint Louis', 1),\n",
       " ('Chattanooga', 1),\n",
       " ('Balma', 1),\n",
       " ('Asheville', 1)]"
      ]
     },
     "execution_count": 195,
     "metadata": {},
     "output_type": "execute_result"
    }
   ],
   "source": [
    "city_RDD = emp_RDD1.map(lambda x : (x[-2],1))\n",
    "count = city_RDD.groupByKey().mapValues(len).sortBy(lambda val : val[1], ascending = False).collect()\n",
    "count"
   ]
  },
  {
   "cell_type": "markdown",
   "id": "2d643ada",
   "metadata": {},
   "source": [
    "#### Saving Data using RDD"
   ]
  },
  {
   "cell_type": "code",
   "execution_count": 196,
   "id": "35b5e5c3",
   "metadata": {},
   "outputs": [
    {
     "data": {
      "text/plain": [
       "2"
      ]
     },
     "execution_count": 196,
     "metadata": {},
     "output_type": "execute_result"
    }
   ],
   "source": [
    "rdd_word4.getNumPartitions()"
   ]
  },
  {
   "cell_type": "code",
   "execution_count": 197,
   "id": "46615815",
   "metadata": {},
   "outputs": [],
   "source": [
    "#Saving RDD to local filesystem\n",
    "rdd_word4.saveAsTextFile('file:///home/hadoop/Downloads/output/')"
   ]
  },
  {
   "cell_type": "code",
   "execution_count": 198,
   "id": "4e1cd35e",
   "metadata": {},
   "outputs": [],
   "source": [
    "#Saving RDD to local filesystem\n",
    "rdd_word4.saveAsTextFile('wordcount/output/')"
   ]
  },
  {
   "cell_type": "markdown",
   "id": "0909437f",
   "metadata": {},
   "source": [
    "#### RDD - Statistical Function"
   ]
  },
  {
   "cell_type": "code",
   "execution_count": 202,
   "id": "abb21daf",
   "metadata": {},
   "outputs": [
    {
     "data": {
      "text/plain": [
       "('Training', 12727)"
      ]
     },
     "execution_count": 202,
     "metadata": {},
     "output_type": "execute_result"
    }
   ],
   "source": [
    "rdd_city = emp_RDD1.map(lambda row :(row[5],int(row[6]))) \n",
    "rdd_city.min(lambda x : x[1])"
   ]
  },
  {
   "cell_type": "code",
   "execution_count": 203,
   "id": "919164f7",
   "metadata": {},
   "outputs": [
    {
     "data": {
      "text/plain": [
       "('Support', 1496924)"
      ]
     },
     "execution_count": 203,
     "metadata": {},
     "output_type": "execute_result"
    }
   ],
   "source": [
    "rdd_city.max(lambda x : x[1])"
   ]
  },
  {
   "cell_type": "code",
   "execution_count": 208,
   "id": "a5a383fc",
   "metadata": {},
   "outputs": [
    {
     "data": {
      "text/plain": [
       "6"
      ]
     },
     "execution_count": 208,
     "metadata": {},
     "output_type": "execute_result"
    }
   ],
   "source": [
    "rdd_11 = sc.parallelize(range(1,10)).sample(False, 0.3, seed = 1)\n",
    "rdd_11.min()"
   ]
  },
  {
   "cell_type": "code",
   "execution_count": 209,
   "id": "0412d56c",
   "metadata": {},
   "outputs": [
    {
     "data": {
      "text/plain": [
       "9"
      ]
     },
     "execution_count": 209,
     "metadata": {},
     "output_type": "execute_result"
    }
   ],
   "source": [
    "rdd_11.max()"
   ]
  },
  {
   "cell_type": "code",
   "execution_count": 212,
   "id": "5a485944",
   "metadata": {},
   "outputs": [
    {
     "data": {
      "text/plain": [
       "424405.95187845733"
      ]
     },
     "execution_count": 212,
     "metadata": {},
     "output_type": "execute_result"
    }
   ],
   "source": [
    "#Measures dIstribution of Samples data, and sample deviation from mean value\n",
    "rdd_city.map(lambda x: x[1]).stdev()"
   ]
  },
  {
   "cell_type": "code",
   "execution_count": 213,
   "id": "bbc1c888",
   "metadata": {},
   "outputs": [
    {
     "data": {
      "text/plain": [
       "180120411989.85944"
      ]
     },
     "execution_count": 213,
     "metadata": {},
     "output_type": "execute_result"
    }
   ],
   "source": [
    "rdd_city.map(lambda x: x[1]).variance()"
   ]
  },
  {
   "cell_type": "code",
   "execution_count": 214,
   "id": "31ad9c86",
   "metadata": {},
   "outputs": [
    {
     "data": {
      "text/plain": [
       "770051.4190000002"
      ]
     },
     "execution_count": 214,
     "metadata": {},
     "output_type": "execute_result"
    }
   ],
   "source": [
    "rdd_city.map(lambda x: x[1]).mean()"
   ]
  },
  {
   "cell_type": "code",
   "execution_count": 215,
   "id": "ebd79b09",
   "metadata": {},
   "outputs": [
    {
     "data": {
      "text/plain": [
       "770051419"
      ]
     },
     "execution_count": 215,
     "metadata": {},
     "output_type": "execute_result"
    }
   ],
   "source": [
    "#Total addition of Sample\n",
    "rdd_city.map(lambda x: x[1]).sum()"
   ]
  },
  {
   "cell_type": "code",
   "execution_count": 216,
   "id": "0eceede0",
   "metadata": {},
   "outputs": [
    {
     "data": {
      "text/plain": [
       "(count: 1000, mean: 770051.4190000002, stdev: 424405.95187845733, max: 1496924, min: 12727)"
      ]
     },
     "execution_count": 216,
     "metadata": {},
     "output_type": "execute_result"
    }
   ],
   "source": [
    "rdd_city.map(lambda x: x[1]).stats()"
   ]
  },
  {
   "cell_type": "markdown",
   "id": "69d77ac3",
   "metadata": {},
   "source": [
    "####  RDD Persistance and Storage Levels"
   ]
  },
  {
   "cell_type": "code",
   "execution_count": 217,
   "id": "e2702de2",
   "metadata": {},
   "outputs": [
    {
     "data": {
      "text/plain": [
       "file:///home/hadoop/Downloads/Employee_Advance.csv MapPartitionsRDD[231] at textFile at NativeMethodAccessorImpl.java:0"
      ]
     },
     "execution_count": 217,
     "metadata": {},
     "output_type": "execute_result"
    }
   ],
   "source": [
    "emp_RDD.cache()"
   ]
  },
  {
   "cell_type": "code",
   "execution_count": 219,
   "id": "96939968",
   "metadata": {},
   "outputs": [],
   "source": [
    "from pyspark.storagelevel import StorageLevel\n",
    "#persist the RDD in memory with default storage level(MEMORY ONLY)\n",
    "emp_RDD = emp_RDD.persist(StorageLevel.MEMORY_ONLY)"
   ]
  },
  {
   "cell_type": "code",
   "execution_count": 222,
   "id": "1251160b",
   "metadata": {},
   "outputs": [
    {
     "data": {
      "text/plain": [
       "[('Accounting', 93),\n",
       " ('Human Resources', 94),\n",
       " ('Legal', 80),\n",
       " ('Services', 72),\n",
       " ('Sales', 76),\n",
       " ('Product Management', 67),\n",
       " ('Support', 95),\n",
       " ('Business Development', 107),\n",
       " ('Research and Development', 74),\n",
       " ('Training', 84),\n",
       " ('Marketing', 83),\n",
       " ('Engineering', 75)]"
      ]
     },
     "execution_count": 222,
     "metadata": {},
     "output_type": "execute_result"
    }
   ],
   "source": [
    "emp_RDD1 = emp_RDD.map(lambda row : row.split(','))\n",
    "emp_Map = emp_RDD1.map(lambda row: (row[5],1))\n",
    "emp_Map.reduceByKey(lambda x, y : x + y).collect()"
   ]
  },
  {
   "cell_type": "code",
   "execution_count": 223,
   "id": "9304327e",
   "metadata": {},
   "outputs": [
    {
     "data": {
      "text/plain": [
       "file:///home/hadoop/Downloads/Employee_Advance.csv MapPartitionsRDD[231] at textFile at NativeMethodAccessorImpl.java:0"
      ]
     },
     "execution_count": 223,
     "metadata": {},
     "output_type": "execute_result"
    }
   ],
   "source": [
    "emp_RDD.unpersist()"
   ]
  },
  {
   "cell_type": "code",
   "execution_count": 224,
   "id": "62b3b3a6",
   "metadata": {},
   "outputs": [],
   "source": [
    "emp_RDD = emp_RDD.persist(StorageLevel.MEMORY_AND_DISK_SER)"
   ]
  },
  {
   "cell_type": "code",
   "execution_count": null,
   "id": "af785b91",
   "metadata": {},
   "outputs": [],
   "source": []
  }
 ],
 "metadata": {
  "kernelspec": {
   "display_name": "Python 3",
   "language": "python",
   "name": "python3"
  },
  "language_info": {
   "codemirror_mode": {
    "name": "ipython",
    "version": 3
   },
   "file_extension": ".py",
   "mimetype": "text/x-python",
   "name": "python",
   "nbconvert_exporter": "python",
   "pygments_lexer": "ipython3",
   "version": "3.6.9"
  }
 },
 "nbformat": 4,
 "nbformat_minor": 5
}
