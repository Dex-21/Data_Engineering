{
 "cells": [
  {
   "cell_type": "code",
   "execution_count": 1,
   "id": "f402d779",
   "metadata": {},
   "outputs": [
    {
     "data": {
      "text/html": [
       "\n",
       "        <div>\n",
       "            <p><b>SparkContext</b></p>\n",
       "\n",
       "            <p><a href=\"http://10.0.2.15:4041\">Spark UI</a></p>\n",
       "\n",
       "            <dl>\n",
       "              <dt>Version</dt>\n",
       "                <dd><code>v2.4.8</code></dd>\n",
       "              <dt>Master</dt>\n",
       "                <dd><code>local[*]</code></dd>\n",
       "              <dt>AppName</dt>\n",
       "                <dd><code>PySparkShell</code></dd>\n",
       "            </dl>\n",
       "        </div>\n",
       "        "
      ],
      "text/plain": [
       "<SparkContext master=local[*] appName=PySparkShell>"
      ]
     },
     "execution_count": 1,
     "metadata": {},
     "output_type": "execute_result"
    }
   ],
   "source": [
    "sc"
   ]
  },
  {
   "cell_type": "code",
   "execution_count": 2,
   "id": "c030bccb",
   "metadata": {},
   "outputs": [
    {
     "data": {
      "text/html": [
       "\n",
       "            <div>\n",
       "                <p><b>SparkSession - hive</b></p>\n",
       "                \n",
       "        <div>\n",
       "            <p><b>SparkContext</b></p>\n",
       "\n",
       "            <p><a href=\"http://10.0.2.15:4041\">Spark UI</a></p>\n",
       "\n",
       "            <dl>\n",
       "              <dt>Version</dt>\n",
       "                <dd><code>v2.4.8</code></dd>\n",
       "              <dt>Master</dt>\n",
       "                <dd><code>local[*]</code></dd>\n",
       "              <dt>AppName</dt>\n",
       "                <dd><code>PySparkShell</code></dd>\n",
       "            </dl>\n",
       "        </div>\n",
       "        \n",
       "            </div>\n",
       "        "
      ],
      "text/plain": [
       "<pyspark.sql.session.SparkSession at 0x7f19537b1b00>"
      ]
     },
     "execution_count": 2,
     "metadata": {},
     "output_type": "execute_result"
    }
   ],
   "source": [
    "spark"
   ]
  },
  {
   "cell_type": "code",
   "execution_count": 7,
   "id": "08cd8529",
   "metadata": {},
   "outputs": [],
   "source": [
    "sc.stop()"
   ]
  },
  {
   "cell_type": "code",
   "execution_count": 8,
   "id": "5fb38ebd",
   "metadata": {},
   "outputs": [],
   "source": [
    "from pyspark import SparkConf, SparkContext\n",
    "#setMaster() = Set Spark Content Manager which is local[cpu cores]\n",
    "config = SparkConf().setMaster('local[2]').setAppName(\"AdvancedSession\")\n",
    "sc = SparkContext(conf = config)"
   ]
  },
  {
   "cell_type": "code",
   "execution_count": 9,
   "id": "decdde1d",
   "metadata": {},
   "outputs": [
    {
     "data": {
      "text/html": [
       "\n",
       "        <div>\n",
       "            <p><b>SparkContext</b></p>\n",
       "\n",
       "            <p><a href=\"http://10.0.2.15:4040\">Spark UI</a></p>\n",
       "\n",
       "            <dl>\n",
       "              <dt>Version</dt>\n",
       "                <dd><code>v2.4.8</code></dd>\n",
       "              <dt>Master</dt>\n",
       "                <dd><code>local[2]</code></dd>\n",
       "              <dt>AppName</dt>\n",
       "                <dd><code>AdvancedSession</code></dd>\n",
       "            </dl>\n",
       "        </div>\n",
       "        "
      ],
      "text/plain": [
       "<SparkContext master=local[2] appName=AdvancedSession>"
      ]
     },
     "execution_count": 9,
     "metadata": {},
     "output_type": "execute_result"
    }
   ],
   "source": [
    "sc"
   ]
  },
  {
   "cell_type": "code",
   "execution_count": 10,
   "id": "9d6c7b7f",
   "metadata": {},
   "outputs": [],
   "source": [
    "from pyspark.sql import SparkSession\n",
    "spark = SparkSession.builder.appName('SQLSession').getOrCreate()"
   ]
  },
  {
   "cell_type": "code",
   "execution_count": 11,
   "id": "1a7769bf",
   "metadata": {},
   "outputs": [],
   "source": [
    "people_df = spark.read.json(\"file:///home/hadoop/Downloads/People.json\")"
   ]
  },
  {
   "cell_type": "code",
   "execution_count": 14,
   "id": "fa8cafc8",
   "metadata": {},
   "outputs": [
    {
     "name": "stdout",
     "output_type": "stream",
     "text": [
      "+---------+-----------+----------+------+---+---------+------+\n",
      "|     city|    country|first_name|gender| id|last_name|salary|\n",
      "+---------+-----------+----------+------+---+---------+------+\n",
      "|Mulyosari|  Indonesia|     Valma|Female|  1|     Sans|983107|\n",
      "|  Niihama|      Japan|     Paolo|  Male|  2|   Kiddie|649173|\n",
      "|Dū Qal‘ah|Afghanistan|    Miltie|  Male|  3| De Zuani|352898|\n",
      "+---------+-----------+----------+------+---+---------+------+\n",
      "only showing top 3 rows\n",
      "\n"
     ]
    }
   ],
   "source": [
    "people_df.show(3)"
   ]
  },
  {
   "cell_type": "code",
   "execution_count": 13,
   "id": "b999c73a",
   "metadata": {},
   "outputs": [
    {
     "name": "stdout",
     "output_type": "stream",
     "text": [
      "root\n",
      " |-- city: string (nullable = true)\n",
      " |-- country: string (nullable = true)\n",
      " |-- first_name: string (nullable = true)\n",
      " |-- gender: string (nullable = true)\n",
      " |-- id: long (nullable = true)\n",
      " |-- last_name: string (nullable = true)\n",
      " |-- salary: long (nullable = true)\n",
      "\n"
     ]
    }
   ],
   "source": [
    "people_df.printSchema()"
   ]
  },
  {
   "cell_type": "markdown",
   "id": "59130299",
   "metadata": {},
   "source": [
    "#### 1.Create a User Defined Schema for fields of DataFrame."
   ]
  },
  {
   "cell_type": "code",
   "execution_count": 21,
   "id": "3dc7cd91",
   "metadata": {},
   "outputs": [],
   "source": [
    "from pyspark.sql.functions import *\n",
    "from pyspark.sql.types import IntegerType , StringType , StructType, StructField"
   ]
  },
  {
   "cell_type": "code",
   "execution_count": 47,
   "id": "94833ce4",
   "metadata": {},
   "outputs": [],
   "source": [
    "schema  = StructType([\n",
    "    StructField(\"id\",IntegerType(),True),\n",
    "    StructField(\"first_name\",StringType(),True),\n",
    "    StructField(\"last_name\",StringType(),True),\n",
    "    StructField(\"gender\",StringType(),True),\n",
    "    StructField(\"salary\",IntegerType(),True),\n",
    "    StructField(\"city\",StringType(),True),\n",
    "    StructField(\"country\",StringType(),True)    \n",
    "])"
   ]
  },
  {
   "cell_type": "code",
   "execution_count": 48,
   "id": "24acdb4a",
   "metadata": {},
   "outputs": [],
   "source": [
    "people_df = spark.read.schema(schema).json(\"file:///home/hadoop/Downloads/People.json\")"
   ]
  },
  {
   "cell_type": "code",
   "execution_count": 49,
   "id": "d1a31d6c",
   "metadata": {},
   "outputs": [
    {
     "name": "stdout",
     "output_type": "stream",
     "text": [
      "root\n",
      " |-- id: integer (nullable = true)\n",
      " |-- first_name: string (nullable = true)\n",
      " |-- last_name: string (nullable = true)\n",
      " |-- gender: string (nullable = true)\n",
      " |-- salary: integer (nullable = true)\n",
      " |-- city: string (nullable = true)\n",
      " |-- country: string (nullable = true)\n",
      "\n"
     ]
    }
   ],
   "source": [
    "people_df.printSchema()"
   ]
  },
  {
   "cell_type": "code",
   "execution_count": 50,
   "id": "43256c3a",
   "metadata": {},
   "outputs": [
    {
     "name": "stdout",
     "output_type": "stream",
     "text": [
      "+---+----------+---------+------+------+------------------+------------+\n",
      "| id|first_name|last_name|gender|salary|              city|     country|\n",
      "+---+----------+---------+------+------+------------------+------------+\n",
      "|  1|     Valma|     Sans|Female|983107|         Mulyosari|   Indonesia|\n",
      "|  2|     Paolo|   Kiddie|  Male|649173|           Niihama|       Japan|\n",
      "|  3|    Miltie| De Zuani|  Male|352898|         Dū Qal‘ah| Afghanistan|\n",
      "|  4|    Jarrid| Dalziell|  Male|170398|            Iberia|        Peru|\n",
      "|  5| Reinaldos|   Keeffe|  Male|440989|          La Ronge|      Canada|\n",
      "|  6|        Eb|Schwanden|  Male|274126|      Kuala Lumpur|    Malaysia|\n",
      "|  7|    Alleyn|   Paddon|  Male|681914|         Al Qurayn|Saudi Arabia|\n",
      "|  8|   Baryram|     Yell|  Male|250748|           Jixiang|       China|\n",
      "|  9|     Cammy|     Axel|Female|221750|Thị Trấn Phong Thổ|     Vietnam|\n",
      "| 10|       Erl|  Caldera|  Male|680801|        Kotatengah|   Indonesia|\n",
      "+---+----------+---------+------+------+------------------+------------+\n",
      "only showing top 10 rows\n",
      "\n"
     ]
    }
   ],
   "source": [
    "people_df.show(10)"
   ]
  },
  {
   "cell_type": "code",
   "execution_count": 31,
   "id": "950e92dd",
   "metadata": {},
   "outputs": [
    {
     "name": "stdout",
     "output_type": "stream",
     "text": [
      "+---+-------+--------+-------+---+-------+--------+---------+-------+------------+----+--------+-----+-----+--------+--------+---+\n",
      "|age|balance|campaign|contact|day|default|duration|education|housing|         job|loan| marital|month|pdays|poutcome|previous|  y|\n",
      "+---+-------+--------+-------+---+-------+--------+---------+-------+------------+----+--------+-----+-----+--------+--------+---+\n",
      "| 58|   2143|       1|unknown|  5|     no|     261| tertiary|    yes|  management|  no| married|  may|   -1| unknown|       0| no|\n",
      "| 44|     29|       1|unknown|  5|     no|     151|secondary|    yes|  technician|  no|  single|  may|   -1| unknown|       0| no|\n",
      "| 33|      2|       1|unknown|  5|     no|      76|secondary|    yes|entrepreneur| yes| married|  may|   -1| unknown|       0| no|\n",
      "| 47|   1506|       1|unknown|  5|     no|      92|  unknown|    yes| blue-collar|  no| married|  may|   -1| unknown|       0| no|\n",
      "| 33|      1|       1|unknown|  5|     no|     198|  unknown|     no|     unknown|  no|  single|  may|   -1| unknown|       0| no|\n",
      "| 35|    231|       1|unknown|  5|     no|     139| tertiary|    yes|  management|  no| married|  may|   -1| unknown|       0| no|\n",
      "| 28|    447|       1|unknown|  5|     no|     217| tertiary|    yes|  management| yes|  single|  may|   -1| unknown|       0| no|\n",
      "| 42|      2|       1|unknown|  5|    yes|     380| tertiary|    yes|entrepreneur|  no|divorced|  may|   -1| unknown|       0| no|\n",
      "| 58|    121|       1|unknown|  5|     no|      50|  primary|    yes|     retired|  no| married|  may|   -1| unknown|       0| no|\n",
      "| 43|    593|       1|unknown|  5|     no|      55|secondary|    yes|  technician|  no|  single|  may|   -1| unknown|       0| no|\n",
      "+---+-------+--------+-------+---+-------+--------+---------+-------+------------+----+--------+-----+-----+--------+--------+---+\n",
      "only showing top 10 rows\n",
      "\n"
     ]
    }
   ],
   "source": [
    "#The data in bank_edited.json is ararnged as list of dictionaries where each key-value pair is in a new line.\n",
    "#This makes an error. So we use \"multiLine\".\n",
    "bank_data = spark.read.json(\"file:///home/hadoop/Downloads/bank_edited.json\", multiLine =True)\n",
    "bank_data.show(10)"
   ]
  },
  {
   "cell_type": "code",
   "execution_count": 32,
   "id": "2f5d121d",
   "metadata": {},
   "outputs": [
    {
     "name": "stdout",
     "output_type": "stream",
     "text": [
      "root\n",
      " |-- age: long (nullable = true)\n",
      " |-- balance: long (nullable = true)\n",
      " |-- campaign: long (nullable = true)\n",
      " |-- contact: string (nullable = true)\n",
      " |-- day: long (nullable = true)\n",
      " |-- default: string (nullable = true)\n",
      " |-- duration: long (nullable = true)\n",
      " |-- education: string (nullable = true)\n",
      " |-- housing: string (nullable = true)\n",
      " |-- job: string (nullable = true)\n",
      " |-- loan: string (nullable = true)\n",
      " |-- marital: string (nullable = true)\n",
      " |-- month: string (nullable = true)\n",
      " |-- pdays: long (nullable = true)\n",
      " |-- poutcome: string (nullable = true)\n",
      " |-- previous: long (nullable = true)\n",
      " |-- y: string (nullable = true)\n",
      "\n"
     ]
    }
   ],
   "source": [
    "bank_data.printSchema()"
   ]
  },
  {
   "cell_type": "code",
   "execution_count": null,
   "id": "f7a035e9",
   "metadata": {},
   "outputs": [],
   "source": []
  },
  {
   "cell_type": "markdown",
   "id": "ee6e0a1e",
   "metadata": {},
   "source": [
    "#### 2.Typecasting Any one column from Long to Int"
   ]
  },
  {
   "cell_type": "code",
   "execution_count": 66,
   "id": "dfdffb6c",
   "metadata": {},
   "outputs": [
    {
     "data": {
      "text/plain": [
       "DataFrame[age: int, balance: bigint, campaign: bigint, contact: string, day: bigint, default: string, duration: bigint, education: string, housing: string, job: string, loan: string, marital: string, month: string, pdays: bigint, poutcome: string, previous: bigint, y: string]"
      ]
     },
     "execution_count": 66,
     "metadata": {},
     "output_type": "execute_result"
    }
   ],
   "source": [
    "#Any individual column transformation can be only done with withColumn()\n",
    "#withColumn(\"newcolname\",col())\n",
    "bank_data.withColumn(\"age\", col(\"age\").cast(IntegerType()))  #Type cast from long to int"
   ]
  },
  {
   "cell_type": "markdown",
   "id": "1f4cf28a",
   "metadata": {},
   "source": [
    "#### 3.Creating new column from two strings"
   ]
  },
  {
   "cell_type": "code",
   "execution_count": 56,
   "id": "524adf63",
   "metadata": {},
   "outputs": [],
   "source": [
    "from pyspark.sql.functions import concat\n",
    "people_df = people_df.withColumn(\"Full_Name\",concat(col(\"first_name\"),lit(\" \"),col(\"last_name\")))"
   ]
  },
  {
   "cell_type": "code",
   "execution_count": 41,
   "id": "983b1810",
   "metadata": {},
   "outputs": [
    {
     "name": "stdout",
     "output_type": "stream",
     "text": [
      "+---+----------+---------+------+---------+-----------+---------------+\n",
      "| id|first_name|last_name|gender|     city|    country|      Full_Name|\n",
      "+---+----------+---------+------+---------+-----------+---------------+\n",
      "|  1|     Valma|     Sans|Female|Mulyosari|  Indonesia|     Valma Sans|\n",
      "|  2|     Paolo|   Kiddie|  Male|  Niihama|      Japan|   Paolo Kiddie|\n",
      "|  3|    Miltie| De Zuani|  Male|Dū Qal‘ah|Afghanistan|Miltie De Zuani|\n",
      "+---+----------+---------+------+---------+-----------+---------------+\n",
      "only showing top 3 rows\n",
      "\n"
     ]
    }
   ],
   "source": [
    "people_df.show(3)"
   ]
  },
  {
   "cell_type": "markdown",
   "id": "6adb7b25",
   "metadata": {},
   "source": [
    "#### 4.Renaming existing column"
   ]
  },
  {
   "cell_type": "code",
   "execution_count": 51,
   "id": "b7fa8168",
   "metadata": {},
   "outputs": [],
   "source": [
    "people_df = people_df.withColumnRenamed(\"salary\",\"income\")"
   ]
  },
  {
   "cell_type": "code",
   "execution_count": 52,
   "id": "52618666",
   "metadata": {},
   "outputs": [
    {
     "name": "stdout",
     "output_type": "stream",
     "text": [
      "+---+----------+---------+------+------+---------+-----------+\n",
      "| id|first_name|last_name|gender|income|     city|    country|\n",
      "+---+----------+---------+------+------+---------+-----------+\n",
      "|  1|     Valma|     Sans|Female|983107|Mulyosari|  Indonesia|\n",
      "|  2|     Paolo|   Kiddie|  Male|649173|  Niihama|      Japan|\n",
      "|  3|    Miltie| De Zuani|  Male|352898|Dū Qal‘ah|Afghanistan|\n",
      "+---+----------+---------+------+------+---------+-----------+\n",
      "only showing top 3 rows\n",
      "\n"
     ]
    }
   ],
   "source": [
    "people_df.show(3)"
   ]
  },
  {
   "cell_type": "markdown",
   "id": "274b1337",
   "metadata": {},
   "source": [
    "#### 5.limit()"
   ]
  },
  {
   "cell_type": "code",
   "execution_count": 46,
   "id": "701c8da0",
   "metadata": {},
   "outputs": [
    {
     "name": "stdout",
     "output_type": "stream",
     "text": [
      "+---+----------+---------+------+---------+-----------+----------------+\n",
      "| id|first_name|last_name|gender|     city|    Country|       Full_Name|\n",
      "+---+----------+---------+------+---------+-----------+----------------+\n",
      "|  1|     Valma|     Sans|Female|Mulyosari|  Indonesia|      Valma Sans|\n",
      "|  2|     Paolo|   Kiddie|  Male|  Niihama|      Japan|    Paolo Kiddie|\n",
      "|  3|    Miltie| De Zuani|  Male|Dū Qal‘ah|Afghanistan| Miltie De Zuani|\n",
      "|  4|    Jarrid| Dalziell|  Male|   Iberia|       Peru| Jarrid Dalziell|\n",
      "|  5| Reinaldos|   Keeffe|  Male| La Ronge|     Canada|Reinaldos Keeffe|\n",
      "+---+----------+---------+------+---------+-----------+----------------+\n",
      "\n"
     ]
    }
   ],
   "source": [
    "people_df.limit(5).show()"
   ]
  },
  {
   "cell_type": "markdown",
   "id": "9a79a0fa",
   "metadata": {},
   "source": [
    "#### 6. OrderBy()\n",
    "    *Arrange data in ascending & descending order"
   ]
  },
  {
   "cell_type": "code",
   "execution_count": 53,
   "id": "fcf72ee6",
   "metadata": {},
   "outputs": [
    {
     "name": "stdout",
     "output_type": "stream",
     "text": [
      "+---+----------+---------+------+------+------------+---------+\n",
      "| id|first_name|last_name|gender|income|        city|  country|\n",
      "+---+----------+---------+------+------+------------+---------+\n",
      "| 93|      Cory|    Prigg|  Male| 12876|     Gondang|Indonesia|\n",
      "|590|      Flem| Tumielli|  Male| 13347| Debre Zeyit| Ethiopia|\n",
      "|192|       Odo|  Conyers|  Male| 15555|  Raffingora| Zimbabwe|\n",
      "|407|  Barbabas|Ballingal|  Male| 18598|Beringinjaya|Indonesia|\n",
      "|297|     Daron|   Melato|Female| 19881|      Phayao| Thailand|\n",
      "+---+----------+---------+------+------+------------+---------+\n",
      "only showing top 5 rows\n",
      "\n"
     ]
    }
   ],
   "source": [
    "#Order by a single column\n",
    "people_df.orderBy(['income'],ascending = True).show(5)"
   ]
  },
  {
   "cell_type": "code",
   "execution_count": 57,
   "id": "4261e248",
   "metadata": {},
   "outputs": [
    {
     "name": "stdout",
     "output_type": "stream",
     "text": [
      "+---+----------+------------+------+------+------------------+--------------+-------------------+\n",
      "| id|first_name|   last_name|gender|income|              city|       country|          Full_Name|\n",
      "+---+----------+------------+------+------+------------------+--------------+-------------------+\n",
      "|490|  Cathlene|    Gatfield|Female|981605|           Mīrābād|   Afghanistan|  Cathlene Gatfield|\n",
      "|448|      Yuri|     Duggary|  Male|414107|     Sang-e Māshah|   Afghanistan|       Yuri Duggary|\n",
      "|  3|    Miltie|    De Zuani|  Male|352898|         Dū Qal‘ah|   Afghanistan|    Miltie De Zuani|\n",
      "|155|    Guntar|    Langmuir|  Male|290613|             Khōst|   Afghanistan|    Guntar Langmuir|\n",
      "|983|      Tiff|     Dreakin|Female|208548|             Āsmār|   Afghanistan|       Tiff Dreakin|\n",
      "|290|     Myles|      Britch|  Male|191508|         Dū Laīnah|   Afghanistan|       Myles Britch|\n",
      "|419|   Ezekiel|   Fleetwood|  Male|163113|      Barakī Barak|   Afghanistan|  Ezekiel Fleetwood|\n",
      "|701|    Gerrie|      Heigho|  Male|503327|             Föglö| Aland Islands|      Gerrie Heigho|\n",
      "|674|    Ludwig|    Bothwell|  Male|825171|         Martanesh|       Albania|    Ludwig Bothwell|\n",
      "|421|    Hamnet|     Maruska|  Male|129628|           Hoçisht|       Albania|     Hamnet Maruska|\n",
      "|299|     Mordy|      Enrich|  Male|543696|          Fagatogo|American Samoa|       Mordy Enrich|\n",
      "|335|     Golda|     Tesimon|Female|953260|              Uíge|        Angola|      Golda Tesimon|\n",
      "| 98|     Gates|        Cars|Female|866673|              Luau|        Angola|         Gates Cars|\n",
      "|872|     Rycca|       Maund|Female|987858|              Azul|     Argentina|        Rycca Maund|\n",
      "|587|      Cord|      Tuplin|  Male|962743|             Allen|     Argentina|        Cord Tuplin|\n",
      "|707|Hyacinthie|    Robjents|Female|942563| Villa Ojo de Agua|     Argentina|Hyacinthie Robjents|\n",
      "|285|     Meara|       Musla|Female|915901|            Zapala|     Argentina|        Meara Musla|\n",
      "|359|     Patsy|    Dodgshon|  Male|855456|Villa Constitución|     Argentina|     Patsy Dodgshon|\n",
      "|296|      Anya|   Trowsdall|Female|842606|   28 de Noviembre|     Argentina|     Anya Trowsdall|\n",
      "|794|     Alain|Barrowclough|  Male|675649|         Concordia|     Argentina| Alain Barrowclough|\n",
      "+---+----------+------------+------+------+------------------+--------------+-------------------+\n",
      "only showing top 20 rows\n",
      "\n"
     ]
    }
   ],
   "source": [
    "#Ordering by multiple columns\n",
    "people_df.orderBy(['country','income'],ascending = [True,False]).show()"
   ]
  },
  {
   "cell_type": "markdown",
   "id": "6a2baa8e",
   "metadata": {},
   "source": [
    "#### Materialized view\n",
    "    *createOrReplaceTempView()\n",
    "    *To avoid querying the main data"
   ]
  },
  {
   "cell_type": "code",
   "execution_count": 74,
   "id": "e8c2211d",
   "metadata": {},
   "outputs": [],
   "source": [
    "bank_data.createOrReplaceTempView('bankdata')"
   ]
  },
  {
   "cell_type": "code",
   "execution_count": 60,
   "id": "6bc741b9",
   "metadata": {},
   "outputs": [
    {
     "name": "stdout",
     "output_type": "stream",
     "text": [
      "+---+-------+--------+-------+---+-------+--------+---------+-------+------------+----+-------+-----+-----+--------+--------+---+\n",
      "|age|balance|campaign|contact|day|default|duration|education|housing|         job|loan|marital|month|pdays|poutcome|previous|  y|\n",
      "+---+-------+--------+-------+---+-------+--------+---------+-------+------------+----+-------+-----+-----+--------+--------+---+\n",
      "| 58|   2143|       1|unknown|  5|     no|     261| tertiary|    yes|  management|  no|married|  may|   -1| unknown|       0| no|\n",
      "| 44|     29|       1|unknown|  5|     no|     151|secondary|    yes|  technician|  no| single|  may|   -1| unknown|       0| no|\n",
      "| 33|      2|       1|unknown|  5|     no|      76|secondary|    yes|entrepreneur| yes|married|  may|   -1| unknown|       0| no|\n",
      "| 47|   1506|       1|unknown|  5|     no|      92|  unknown|    yes| blue-collar|  no|married|  may|   -1| unknown|       0| no|\n",
      "| 33|      1|       1|unknown|  5|     no|     198|  unknown|     no|     unknown|  no| single|  may|   -1| unknown|       0| no|\n",
      "+---+-------+--------+-------+---+-------+--------+---------+-------+------------+----+-------+-----+-----+--------+--------+---+\n",
      "only showing top 5 rows\n",
      "\n"
     ]
    }
   ],
   "source": [
    "spark.sql('select * from bankdata').show(5)"
   ]
  },
  {
   "cell_type": "code",
   "execution_count": 70,
   "id": "9d6b81be",
   "metadata": {},
   "outputs": [
    {
     "name": "stdout",
     "output_type": "stream",
     "text": [
      "+-----+\n",
      "|count|\n",
      "+-----+\n",
      "|45211|\n",
      "+-----+\n",
      "\n"
     ]
    }
   ],
   "source": [
    "spark.sql('select count(*) as count from bankdata').show()"
   ]
  },
  {
   "cell_type": "code",
   "execution_count": 68,
   "id": "90d8e71d",
   "metadata": {},
   "outputs": [
    {
     "name": "stdout",
     "output_type": "stream",
     "text": [
      "root\n",
      " |-- age: long (nullable = true)\n",
      " |-- balance: long (nullable = true)\n",
      " |-- campaign: long (nullable = true)\n",
      " |-- contact: string (nullable = true)\n",
      " |-- day: long (nullable = true)\n",
      " |-- default: string (nullable = true)\n",
      " |-- duration: long (nullable = true)\n",
      " |-- education: string (nullable = true)\n",
      " |-- housing: string (nullable = true)\n",
      " |-- job: string (nullable = true)\n",
      " |-- loan: string (nullable = true)\n",
      " |-- marital: string (nullable = true)\n",
      " |-- month: string (nullable = true)\n",
      " |-- pdays: long (nullable = true)\n",
      " |-- poutcome: string (nullable = true)\n",
      " |-- previous: long (nullable = true)\n",
      " |-- y: string (nullable = true)\n",
      "\n"
     ]
    }
   ],
   "source": [
    "bank_data.printSchema()"
   ]
  },
  {
   "cell_type": "markdown",
   "id": "1c00b903",
   "metadata": {},
   "source": [
    "  * Show top 10 youngest employee with Maximum Balance"
   ]
  },
  {
   "cell_type": "code",
   "execution_count": 78,
   "id": "e39b64f3",
   "metadata": {},
   "outputs": [
    {
     "name": "stdout",
     "output_type": "stream",
     "text": [
      "+---+-------+\n",
      "|age|balance|\n",
      "+---+-------+\n",
      "| 18|   1944|\n",
      "| 18|    608|\n",
      "| 18|    608|\n",
      "| 18|    438|\n",
      "| 18|    348|\n",
      "| 18|    156|\n",
      "| 18|    108|\n",
      "| 18|    108|\n",
      "| 18|    108|\n",
      "| 18|     35|\n",
      "+---+-------+\n",
      "only showing top 10 rows\n",
      "\n"
     ]
    }
   ],
   "source": [
    "spark.sql('select age, balance from bankdata order by age asc ,balance desc').show(10)"
   ]
  },
  {
   "cell_type": "code",
   "execution_count": 85,
   "id": "230de6e2",
   "metadata": {},
   "outputs": [
    {
     "name": "stdout",
     "output_type": "stream",
     "text": [
      "+---+-----------+\n",
      "|age|max_balance|\n",
      "+---+-----------+\n",
      "| 18|       1944|\n",
      "| 19|       5368|\n",
      "| 20|       8860|\n",
      "| 21|       8278|\n",
      "| 22|      10971|\n",
      "| 23|      19690|\n",
      "| 24|      23878|\n",
      "| 25|      16874|\n",
      "| 26|      24299|\n",
      "| 27|      24025|\n",
      "+---+-----------+\n",
      "only showing top 10 rows\n",
      "\n"
     ]
    }
   ],
   "source": [
    "spark.sql('select age, max(balance) as max_balance from bankdata group by age order by age asc ').show(10)"
   ]
  },
  {
   "cell_type": "markdown",
   "id": "4fea338f",
   "metadata": {},
   "source": [
    " * Show the worst 5 job having minimum salary "
   ]
  },
  {
   "cell_type": "code",
   "execution_count": 87,
   "id": "1a36357f",
   "metadata": {},
   "outputs": [
    {
     "name": "stdout",
     "output_type": "stream",
     "text": [
      "+-------------+------+\n",
      "|          job|salary|\n",
      "+-------------+------+\n",
      "|  blue-collar| -8019|\n",
      "|   management| -6847|\n",
      "|self-employed| -3313|\n",
      "|   technician| -2827|\n",
      "|     services| -2122|\n",
      "+-------------+------+\n",
      "only showing top 5 rows\n",
      "\n"
     ]
    }
   ],
   "source": [
    "spark.sql('select job, min(balance) as salary from bankdata group by job order by salary asc ').show(5)"
   ]
  },
  {
   "cell_type": "code",
   "execution_count": null,
   "id": "20d3e44e",
   "metadata": {},
   "outputs": [],
   "source": []
  }
 ],
 "metadata": {
  "kernelspec": {
   "display_name": "Python 3",
   "language": "python",
   "name": "python3"
  },
  "language_info": {
   "codemirror_mode": {
    "name": "ipython",
    "version": 3
   },
   "file_extension": ".py",
   "mimetype": "text/x-python",
   "name": "python",
   "nbconvert_exporter": "python",
   "pygments_lexer": "ipython3",
   "version": "3.6.9"
  }
 },
 "nbformat": 4,
 "nbformat_minor": 5
}
